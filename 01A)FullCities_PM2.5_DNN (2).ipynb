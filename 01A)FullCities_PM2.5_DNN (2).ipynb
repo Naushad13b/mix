{
 "cells": [
  {
   "cell_type": "code",
   "execution_count": 16,
   "id": "3181546c",
   "metadata": {},
   "outputs": [
    {
     "name": "stdout",
     "output_type": "stream",
     "text": [
      "The autoreload extension is already loaded. To reload it, use:\n",
      "  %reload_ext autoreload\n"
     ]
    }
   ],
   "source": [
    "%load_ext autoreload\n",
    "%autoreload 2\n",
    "%matplotlib inline\n",
    "\n",
    "import pandas as pd\n",
    "import numpy as np\n",
    "import matplotlib.pyplot as plt\n",
    "#from darts.datasets import AirPassengersDataset\n",
    "from darts import TimeSeries\n",
    "import warnings\n",
    "warnings.filterwarnings(\"ignore\")"
   ]
  },
  {
   "cell_type": "code",
   "execution_count": 17,
   "id": "8ce4350c",
   "metadata": {},
   "outputs": [
    {
     "data": {
      "text/html": [
       "<div>\n",
       "<style scoped>\n",
       "    .dataframe tbody tr th:only-of-type {\n",
       "        vertical-align: middle;\n",
       "    }\n",
       "\n",
       "    .dataframe tbody tr th {\n",
       "        vertical-align: top;\n",
       "    }\n",
       "\n",
       "    .dataframe thead th {\n",
       "        text-align: right;\n",
       "    }\n",
       "</style>\n",
       "<table border=\"1\" class=\"dataframe\">\n",
       "  <thead>\n",
       "    <tr style=\"text-align: right;\">\n",
       "      <th></th>\n",
       "      <th>PM2.5</th>\n",
       "    </tr>\n",
       "    <tr>\n",
       "      <th>Date</th>\n",
       "      <th></th>\n",
       "    </tr>\n",
       "  </thead>\n",
       "  <tbody>\n",
       "    <tr>\n",
       "      <th>2021-01-01</th>\n",
       "      <td>75.96</td>\n",
       "    </tr>\n",
       "    <tr>\n",
       "      <th>2021-02-01</th>\n",
       "      <td>105.20</td>\n",
       "    </tr>\n",
       "    <tr>\n",
       "      <th>2021-03-01</th>\n",
       "      <td>73.10</td>\n",
       "    </tr>\n",
       "    <tr>\n",
       "      <th>2021-04-01</th>\n",
       "      <td>57.33</td>\n",
       "    </tr>\n",
       "    <tr>\n",
       "      <th>2021-05-01</th>\n",
       "      <td>16.44</td>\n",
       "    </tr>\n",
       "  </tbody>\n",
       "</table>\n",
       "</div>"
      ],
      "text/plain": [
       "             PM2.5\n",
       "Date              \n",
       "2021-01-01   75.96\n",
       "2021-02-01  105.20\n",
       "2021-03-01   73.10\n",
       "2021-04-01   57.33\n",
       "2021-05-01   16.44"
      ]
     },
     "execution_count": 17,
     "metadata": {},
     "output_type": "execute_result"
    }
   ],
   "source": [
    "# Import data using datetime and set index to datetime\n",
    "df = pd.read_csv(r'C:\\Users\\91783\\Desktop\\DataSet\\35_Ambala\\Book_35_1_PM.csv',\n",
    "                                parse_dates=['Date'],\n",
    "                                index_col=['Date'])\n",
    "\n",
    "df.head()"
   ]
  },
  {
   "cell_type": "code",
   "execution_count": 3,
   "id": "1aa22bc9",
   "metadata": {},
   "outputs": [],
   "source": [
    "def convert2matrix(data_arr, look_back):\n",
    "    X, Y =[], []\n",
    "    for i in range(len(data_arr)-look_back):\n",
    "        d=i+look_back  \n",
    "        X.append(data_arr[i:d,])\n",
    "        Y.append(data_arr[d,])\n",
    "        return np.array(X), np.array(Y)"
   ]
  },
  {
   "cell_type": "code",
   "execution_count": 4,
   "id": "61438fca",
   "metadata": {},
   "outputs": [],
   "source": [
    "#Split data set into testing dataset and train dataset\n",
    "train_size = 300\n",
    "train, test =df.values[0:train_size,:],df.values[train_size:len(df.values),:]\n",
    "# setup look_back window \n",
    "look_back = 30\n",
    "#convert dataset into right shape in order to input into the DNN\n",
    "trainX, trainY = convert2matrix(train, look_back)\n",
    "testX, testY = convert2matrix(test, look_back)"
   ]
  },
  {
   "cell_type": "code",
   "execution_count": 5,
   "id": "61949717",
   "metadata": {},
   "outputs": [],
   "source": [
    "from sklearn.metrics import mean_squared_error\n",
    "from keras.models import Sequential\n",
    "from keras.layers import Dense\n",
    "from keras.callbacks import ModelCheckpoint, EarlyStopping\n",
    "def model_dnn(look_back):\n",
    "    model=Sequential()\n",
    "    model.add(Dense(units=32, input_dim=look_back, activation='relu'))\n",
    "    model.add(Dense(8, activation='relu'))\n",
    "    model.add(Dense(1))\n",
    "    model.compile(loss='mean_squared_error',  optimizer='adam',metrics = ['mse', 'mae'])\n",
    "    return model"
   ]
  },
  {
   "cell_type": "code",
   "execution_count": 6,
   "id": "50580dfb",
   "metadata": {},
   "outputs": [],
   "source": [
    "model=model_dnn(look_back)\n"
   ]
  },
  {
   "cell_type": "code",
   "execution_count": 13,
   "id": "dd2f2883",
   "metadata": {},
   "outputs": [
    {
     "name": "stdout",
     "output_type": "stream",
     "text": [
      "[[[ 55.8 ]\n",
      "  [ 63.39]\n",
      "  [ 49.79]\n",
      "  [ 67.2 ]\n",
      "  [ 80.86]\n",
      "  [ 73.19]\n",
      "  [106.85]\n",
      "  [123.05]\n",
      "  [181.47]\n",
      "  [130.93]\n",
      "  [184.85]\n",
      "  [207.59]\n",
      "  [ 75.12]\n",
      "  [143.86]\n",
      "  [131.44]\n",
      "  [117.17]\n",
      "  [131.3 ]\n",
      "  [112.23]\n",
      "  [100.64]\n",
      "  [106.  ]\n",
      "  [121.57]\n",
      "  [138.88]\n",
      "  [130.45]\n",
      "  [123.  ]\n",
      "  [ 93.72]\n",
      "  [114.18]\n",
      "  [155.24]\n",
      "  [119.55]\n",
      "  [ 97.15]\n",
      "  [115.33]]]\n"
     ]
    }
   ],
   "source": [
    "print(testX)"
   ]
  },
  {
   "cell_type": "code",
   "execution_count": 7,
   "id": "8e31e2b6",
   "metadata": {},
   "outputs": [],
   "source": [
    "def call(c):\n",
    "    history=model.fit(trainX,trainY, epochs=c, batch_size=8, verbose=2, validation_data=(testX,testY),callbacks=[EarlyStopping(monitor='val_loss', patience=10)],shuffle=False)\n",
    "\n",
    "    def model_loss(history):\n",
    "        plt.figure(figsize=(8,4))\n",
    "        plt.plot(history.history['loss'], label='Train Loss')\n",
    "        plt.plot(history.history['val_loss'], label='Test Loss')\n",
    "        plt.title('model loss')\n",
    "        plt.ylabel('loss')\n",
    "        plt.xlabel('epochs')\n",
    "        plt.legend(loc='upper right')\n",
    "        plt.show();\n",
    "        \n",
    "    #Taking predictions\n",
    "    Y_pred = model.predict(testX)\n",
    "    from sklearn.metrics import mean_squared_error\n",
    "    mse = mean_squared_error(testY, Y_pred)\n",
    "    print('MSE')\n",
    "    print(mse)\n",
    "    rmse = np.sqrt(mse)\n",
    "    print('RMSE')\n",
    "    print(rmse)\n",
    "    mae = np.mean(np.abs(testY, Y_pred))    # MAE\n",
    "    print('MAE')\n",
    "    print(mae)\n",
    "\n",
    "     \n",
    "\n",
    "    \n",
    "    \n",
    "    train_score = model.evaluate(trainX, trainY, verbose=0)\n",
    "    print('Train Root Mean Squared Error(RMSE): %.2f; Train Mean Absolute Error(MAE) : %.2f ' \n",
    "    % (np.sqrt(train_score[1]), train_score[2]))\n",
    "    test_score = model.evaluate(testX, testY, verbose=0)\n",
    "    print('Test Root Mean Squared Error(RMSE): %.2f; Test Mean Absolute Error(MAE) : %.2f ' \n",
    "    % (np.sqrt(test_score[1]), test_score[2]))\n",
    "    model_loss(history)"
   ]
  },
  {
   "cell_type": "code",
   "execution_count": 15,
   "id": "86c5b77a",
   "metadata": {},
   "outputs": [
    {
     "name": "stdout",
     "output_type": "stream",
     "text": [
      "[[128.55]]\n"
     ]
    }
   ],
   "source": [
    "print(testY)"
   ]
  },
  {
   "cell_type": "code",
   "execution_count": 8,
   "id": "3c469d1f",
   "metadata": {
    "scrolled": true
   },
   "outputs": [
    {
     "name": "stdout",
     "output_type": "stream",
     "text": [
      "Epoch 1/10\n",
      "1/1 - 1s - loss: 20028.1406 - mse: 20028.1406 - mae: 141.5208 - val_loss: 60067.7148 - val_mse: 60067.7148 - val_mae: 245.0872 - 592ms/epoch - 592ms/step\n",
      "Epoch 2/10\n",
      "1/1 - 0s - loss: 17995.8281 - mse: 17995.8281 - mae: 134.1485 - val_loss: 55039.8633 - val_mse: 55039.8633 - val_mae: 234.6058 - 17ms/epoch - 17ms/step\n",
      "Epoch 3/10\n",
      "1/1 - 0s - loss: 16082.9541 - mse: 16082.9541 - mae: 126.8186 - val_loss: 50269.3828 - val_mse: 50269.3828 - val_mae: 224.2083 - 17ms/epoch - 17ms/step\n",
      "Epoch 4/10\n",
      "1/1 - 0s - loss: 14289.9336 - mse: 14289.9336 - mae: 119.5405 - val_loss: 45672.5156 - val_mse: 45672.5156 - val_mae: 213.7113 - 2ms/epoch - 2ms/step\n",
      "Epoch 5/10\n",
      "1/1 - 0s - loss: 12616.6035 - mse: 12616.6035 - mae: 112.3237 - val_loss: 41276.4531 - val_mse: 41276.4531 - val_mae: 203.1661 - 17ms/epoch - 17ms/step\n",
      "Epoch 6/10\n",
      "1/1 - 0s - loss: 11062.1309 - mse: 11062.1309 - mae: 105.1767 - val_loss: 37181.6250 - val_mse: 37181.6250 - val_mae: 192.8254 - 17ms/epoch - 17ms/step\n",
      "Epoch 7/10\n",
      "1/1 - 0s - loss: 10310.5127 - mse: 10310.5127 - mae: 101.5407 - val_loss: 33559.1406 - val_mse: 33559.1406 - val_mae: 183.1915 - 16ms/epoch - 16ms/step\n",
      "Epoch 8/10\n",
      "1/1 - 0s - loss: 9402.0166 - mse: 9402.0166 - mae: 96.9640 - val_loss: 30307.3379 - val_mse: 30307.3379 - val_mae: 174.0900 - 17ms/epoch - 17ms/step\n",
      "Epoch 9/10\n",
      "1/1 - 0s - loss: 8514.6719 - mse: 8514.6719 - mae: 92.2750 - val_loss: 27290.7910 - val_mse: 27290.7910 - val_mae: 165.1992 - 16ms/epoch - 16ms/step\n",
      "Epoch 10/10\n",
      "1/1 - 0s - loss: 7661.9790 - mse: 7661.9790 - mae: 87.5327 - val_loss: 24560.9863 - val_mse: 24560.9863 - val_mae: 156.7195 - 16ms/epoch - 16ms/step\n",
      "1/1 [==============================] - 0s 56ms/step\n",
      "MSE\n",
      "24560.98564864361\n",
      "RMSE\n",
      "156.71944885253907\n",
      "MAE\n",
      "128.55\n",
      "Train Root Mean Squared Error(RMSE): 82.77; Train Mean Absolute Error(MAE) : 82.77 \n",
      "Test Root Mean Squared Error(RMSE): 156.72; Test Mean Absolute Error(MAE) : 156.72 \n"
     ]
    },
    {
     "data": {
      "image/png": "[encoded data removed]",
      "text/plain": [
       "<Figure size 576x288 with 1 Axes>"
      ]
     },
     "metadata": {
      "needs_background": "light"
     },
     "output_type": "display_data"
    },
    {
     "name": "stdout",
     "output_type": "stream",
     "text": [
      "Epoch 1/20\n",
      "1/1 - 0s - loss: 6850.9102 - mse: 6850.9102 - mae: 82.7702 - val_loss: 23041.9766 - val_mse: 23041.9766 - val_mae: 151.7958 - 45ms/epoch - 45ms/step\n",
      "Epoch 2/20\n",
      "1/1 - 0s - loss: 6105.3721 - mse: 6105.3721 - mae: 78.1369 - val_loss: 21660.1230 - val_mse: 21660.1230 - val_mae: 147.1738 - 17ms/epoch - 17ms/step\n",
      "Epoch 3/20\n",
      "1/1 - 0s - loss: 5667.8066 - mse: 5667.8066 - mae: 75.2848 - val_loss: 20396.8828 - val_mse: 20396.8828 - val_mae: 142.8177 - 17ms/epoch - 17ms/step\n",
      "Epoch 4/20\n",
      "1/1 - 0s - loss: 5248.7432 - mse: 5248.7432 - mae: 72.4482 - val_loss: 19237.2109 - val_mse: 19237.2109 - val_mae: 138.6983 - 19ms/epoch - 19ms/step\n",
      "Epoch 5/20\n",
      "1/1 - 0s - loss: 4848.2622 - mse: 4848.2622 - mae: 69.6295 - val_loss: 18168.7090 - val_mse: 18168.7090 - val_mae: 134.7914 - 17ms/epoch - 17ms/step\n",
      "Epoch 6/20\n",
      "1/1 - 0s - loss: 4628.4824 - mse: 4628.4824 - mae: 68.0330 - val_loss: 16970.0547 - val_mse: 16970.0547 - val_mae: 130.2692 - 17ms/epoch - 17ms/step\n",
      "Epoch 7/20\n",
      "1/1 - 0s - loss: 4457.6895 - mse: 4457.6895 - mae: 66.7659 - val_loss: 15974.6211 - val_mse: 15974.6211 - val_mae: 126.3907 - 17ms/epoch - 17ms/step\n",
      "Epoch 8/20\n",
      "1/1 - 0s - loss: 4295.8657 - mse: 4295.8657 - mae: 65.5429 - val_loss: 15355.6777 - val_mse: 15355.6777 - val_mae: 123.9180 - 16ms/epoch - 16ms/step\n",
      "Epoch 9/20\n",
      "1/1 - 0s - loss: 4133.7959 - mse: 4133.7959 - mae: 64.2946 - val_loss: 14902.9219 - val_mse: 14902.9219 - val_mae: 122.0775 - 18ms/epoch - 18ms/step\n",
      "Epoch 10/20\n",
      "1/1 - 0s - loss: 3971.4780 - mse: 3971.4780 - mae: 63.0197 - val_loss: 14449.2500 - val_mse: 14449.2500 - val_mae: 120.2050 - 17ms/epoch - 17ms/step\n",
      "Epoch 11/20\n",
      "1/1 - 0s - loss: 3812.8242 - mse: 3812.8242 - mae: 61.7481 - val_loss: 13998.7773 - val_mse: 13998.7773 - val_mae: 118.3164 - 16ms/epoch - 16ms/step\n",
      "Epoch 12/20\n",
      "1/1 - 0s - loss: 3661.7148 - mse: 3661.7148 - mae: 60.5121 - val_loss: 13552.1807 - val_mse: 13552.1807 - val_mae: 116.4138 - 16ms/epoch - 16ms/step\n",
      "Epoch 13/20\n",
      "1/1 - 0s - loss: 3511.5879 - mse: 3511.5879 - mae: 59.2587 - val_loss: 13109.9951 - val_mse: 13109.9951 - val_mae: 114.4989 - 17ms/epoch - 17ms/step\n",
      "Epoch 14/20\n",
      "1/1 - 0s - loss: 3362.7908 - mse: 3362.7908 - mae: 57.9896 - val_loss: 12672.6611 - val_mse: 12672.6611 - val_mae: 112.5729 - 16ms/epoch - 16ms/step\n",
      "Epoch 15/20\n",
      "1/1 - 0s - loss: 3215.6187 - mse: 3215.6187 - mae: 56.7064 - val_loss: 12240.5430 - val_mse: 12240.5430 - val_mae: 110.6370 - 12ms/epoch - 12ms/step\n",
      "Epoch 16/20\n",
      "1/1 - 0s - loss: 3070.3269 - mse: 3070.3269 - mae: 55.4105 - val_loss: 11813.9648 - val_mse: 11813.9648 - val_mae: 108.6921 - 16ms/epoch - 16ms/step\n",
      "Epoch 17/20\n",
      "1/1 - 0s - loss: 2927.1438 - mse: 2927.1438 - mae: 54.1031 - val_loss: 11393.2139 - val_mse: 11393.2139 - val_mae: 106.7390 - 24ms/epoch - 24ms/step\n",
      "Epoch 18/20\n",
      "1/1 - 0s - loss: 2786.2739 - mse: 2786.2739 - mae: 52.7852 - val_loss: 10978.5537 - val_mse: 10978.5537 - val_mae: 104.7786 - 11ms/epoch - 11ms/step\n",
      "Epoch 19/20\n",
      "1/1 - 0s - loss: 2647.9014 - mse: 2647.9014 - mae: 51.4578 - val_loss: 10570.2363 - val_mse: 10570.2363 - val_mae: 102.8117 - 16ms/epoch - 16ms/step\n",
      "Epoch 20/20\n",
      "1/1 - 0s - loss: 2512.1975 - mse: 2512.1975 - mae: 50.1218 - val_loss: 10168.4971 - val_mse: 10168.4971 - val_mae: 100.8390 - 25ms/epoch - 25ms/step\n",
      "1/1 [==============================] - 0s 5ms/step\n",
      "MSE\n",
      "10168.496523022954\n",
      "RMSE\n",
      "100.8389633178711\n",
      "MAE\n",
      "128.55\n",
      "Train Root Mean Squared Error(RMSE): 48.78; Train Mean Absolute Error(MAE) : 48.78 \n",
      "Test Root Mean Squared Error(RMSE): 100.84; Test Mean Absolute Error(MAE) : 100.84 \n"
     ]
    },
    {
     "data": {
      "image/png": "[encoded data removed]",
      "text/plain": [
       "<Figure size 576x288 with 1 Axes>"
      ]
     },
     "metadata": {
      "needs_background": "light"
     },
     "output_type": "display_data"
    },
    {
     "name": "stdout",
     "output_type": "stream",
     "text": [
      "Epoch 1/30\n",
      "1/1 - 0s - loss: 2379.3179 - mse: 2379.3179 - mae: 48.7783 - val_loss: 9773.5713 - val_mse: 9773.5713 - val_mae: 98.8614 - 31ms/epoch - 31ms/step\n",
      "Epoch 2/30\n",
      "1/1 - 0s - loss: 2249.4131 - mse: 2249.4131 - mae: 47.4280 - val_loss: 9385.6807 - val_mse: 9385.6807 - val_mae: 96.8797 - 16ms/epoch - 16ms/step\n",
      "Epoch 3/30\n",
      "1/1 - 0s - loss: 2107.3525 - mse: 2107.3525 - mae: 45.9059 - val_loss: 8999.8213 - val_mse: 8999.8213 - val_mae: 94.8674 - 16ms/epoch - 16ms/step\n",
      "Epoch 4/30\n",
      "1/1 - 0s - loss: 1815.9851 - mse: 1815.9851 - mae: 42.6144 - val_loss: 8619.7139 - val_mse: 8619.7139 - val_mae: 92.8424 - 16ms/epoch - 16ms/step\n",
      "Epoch 5/30\n",
      "1/1 - 0s - loss: 1492.2526 - mse: 1492.2526 - mae: 38.6297 - val_loss: 8248.2373 - val_mse: 8248.2373 - val_mae: 90.8198 - 16ms/epoch - 16ms/step\n",
      "Epoch 6/30\n",
      "1/1 - 0s - loss: 1165.1703 - mse: 1165.1703 - mae: 34.1346 - val_loss: 7887.8364 - val_mse: 7887.8364 - val_mae: 88.8135 - 16ms/epoch - 16ms/step\n",
      "Epoch 7/30\n",
      "1/1 - 0s - loss: 856.8138 - mse: 856.8138 - mae: 29.2714 - val_loss: 7540.7769 - val_mse: 7540.7769 - val_mae: 86.8376 - 31ms/epoch - 31ms/step\n",
      "Epoch 8/30\n",
      "1/1 - 0s - loss: 583.9509 - mse: 583.9509 - mae: 24.1651 - val_loss: 7209.2759 - val_mse: 7209.2759 - val_mae: 84.9075 - 18ms/epoch - 18ms/step\n",
      "Epoch 9/30\n",
      "1/1 - 0s - loss: 358.4521 - mse: 358.4521 - mae: 18.9328 - val_loss: 6895.5532 - val_mse: 6895.5532 - val_mae: 83.0395 - 16ms/epoch - 16ms/step\n",
      "Epoch 10/30\n",
      "1/1 - 0s - loss: 187.3669 - mse: 187.3669 - mae: 13.6882 - val_loss: 6601.8491 - val_mse: 6601.8491 - val_mae: 81.2518 - 3ms/epoch - 3ms/step\n",
      "Epoch 11/30\n",
      "1/1 - 0s - loss: 72.9951 - mse: 72.9951 - mae: 8.5437 - val_loss: 6330.3711 - val_mse: 6330.3711 - val_mae: 79.5636 - 16ms/epoch - 16ms/step\n",
      "Epoch 12/30\n",
      "1/1 - 0s - loss: 13.0409 - mse: 13.0409 - mae: 3.6112 - val_loss: 6083.2002 - val_mse: 6083.2002 - val_mae: 77.9949 - 16ms/epoch - 16ms/step\n",
      "Epoch 13/30\n",
      "1/1 - 0s - loss: 0.9983 - mse: 0.9983 - mae: 0.9991 - val_loss: 5503.8257 - val_mse: 5503.8257 - val_mae: 74.1878 - 16ms/epoch - 16ms/step\n",
      "Epoch 14/30\n",
      "1/1 - 0s - loss: 26.8459 - mse: 26.8459 - mae: 5.1813 - val_loss: 4734.2280 - val_mse: 4734.2280 - val_mae: 68.8057 - 16ms/epoch - 16ms/step\n",
      "Epoch 15/30\n",
      "1/1 - 0s - loss: 78.1207 - mse: 78.1207 - mae: 8.8386 - val_loss: 4133.0884 - val_mse: 4133.0884 - val_mae: 64.2891 - 17ms/epoch - 17ms/step\n",
      "Epoch 16/30\n",
      "1/1 - 0s - loss: 141.4383 - mse: 141.4383 - mae: 11.8928 - val_loss: 3685.6140 - val_mse: 3685.6140 - val_mae: 60.7093 - 16ms/epoch - 16ms/step\n",
      "Epoch 17/30\n",
      "1/1 - 0s - loss: 204.3221 - mse: 204.3221 - mae: 14.2941 - val_loss: 3375.1985 - val_mse: 3375.1985 - val_mae: 58.0965 - 16ms/epoch - 16ms/step\n",
      "Epoch 18/30\n",
      "1/1 - 0s - loss: 256.7850 - mse: 256.7850 - mae: 16.0245 - val_loss: 3185.5901 - val_mse: 3185.5901 - val_mae: 56.4410 - 16ms/epoch - 16ms/step\n",
      "Epoch 19/30\n",
      "1/1 - 0s - loss: 292.2083 - mse: 292.2083 - mae: 17.0941 - val_loss: 3102.3486 - val_mse: 3102.3486 - val_mae: 55.6987 - 31ms/epoch - 31ms/step\n",
      "Epoch 20/30\n",
      "1/1 - 0s - loss: 307.5173 - mse: 307.5173 - mae: 17.5362 - val_loss: 3113.4333 - val_mse: 3113.4333 - val_mae: 55.7981 - 16ms/epoch - 16ms/step\n",
      "Epoch 21/30\n",
      "1/1 - 0s - loss: 302.8185 - mse: 302.8185 - mae: 17.4017 - val_loss: 3209.0117 - val_mse: 3209.0117 - val_mae: 56.6481 - 16ms/epoch - 16ms/step\n",
      "Epoch 22/30\n",
      "1/1 - 0s - loss: 280.7115 - mse: 280.7115 - mae: 16.7544 - val_loss: 3380.7776 - val_mse: 3380.7776 - val_mae: 58.1445 - 16ms/epoch - 16ms/step\n",
      "Epoch 23/30\n",
      "1/1 - 0s - loss: 245.4468 - mse: 245.4468 - mae: 15.6667 - val_loss: 3621.0549 - val_mse: 3621.0549 - val_mae: 60.1752 - 17ms/epoch - 17ms/step\n",
      "Epoch 24/30\n",
      "1/1 - 0s - loss: 202.0833 - mse: 202.0833 - mae: 14.2156 - val_loss: 3921.9395 - val_mse: 3921.9395 - val_mae: 62.6254 - 16ms/epoch - 16ms/step\n",
      "Epoch 25/30\n",
      "1/1 - 0s - loss: 155.7530 - mse: 155.7530 - mae: 12.4801 - val_loss: 4274.5791 - val_mse: 4274.5791 - val_mae: 65.3803 - 3ms/epoch - 3ms/step\n",
      "Epoch 26/30\n",
      "1/1 - 0s - loss: 111.0697 - mse: 111.0697 - mae: 10.5390 - val_loss: 4668.7324 - val_mse: 4668.7324 - val_mae: 68.3281 - 31ms/epoch - 31ms/step\n",
      "Epoch 27/30\n",
      "1/1 - 0s - loss: 71.7195 - mse: 71.7195 - mae: 8.4687 - val_loss: 5092.6343 - val_mse: 5092.6343 - val_mae: 71.3627 - 16ms/epoch - 16ms/step\n",
      "Epoch 28/30\n",
      "1/1 - 0s - loss: 40.2244 - mse: 40.2244 - mae: 6.3423 - val_loss: 5323.9194 - val_mse: 5323.9194 - val_mae: 72.9652 - 19ms/epoch - 19ms/step\n",
      "Epoch 29/30\n",
      "1/1 - 0s - loss: 17.8714 - mse: 17.8714 - mae: 4.2275 - val_loss: 5377.3237 - val_mse: 5377.3237 - val_mae: 73.3302 - 3ms/epoch - 3ms/step\n",
      "1/1 [==============================] - 0s 0s/step\n",
      "MSE\n",
      "5377.323407764104\n",
      "RMSE\n",
      "73.33023529052736\n",
      "MAE\n",
      "128.55\n",
      "Train Root Mean Squared Error(RMSE): 2.19; Train Mean Absolute Error(MAE) : 2.19 \n",
      "Test Root Mean Squared Error(RMSE): 73.33; Test Mean Absolute Error(MAE) : 73.33 \n"
     ]
    },
    {
     "data": {
      "image/png": "[encoded data removed]",
      "text/plain": [
       "<Figure size 576x288 with 1 Axes>"
      ]
     },
     "metadata": {
      "needs_background": "light"
     },
     "output_type": "display_data"
    },
    {
     "name": "stdout",
     "output_type": "stream",
     "text": [
      "Epoch 1/40\n",
      "1/1 - 0s - loss: 4.7775 - mse: 4.7775 - mae: 2.1858 - val_loss: 5428.1792 - val_mse: 5428.1792 - val_mae: 73.6762 - 31ms/epoch - 31ms/step\n",
      "Epoch 2/40\n",
      "1/1 - 0s - loss: 0.0737 - mse: 0.0737 - mae: 0.2714 - val_loss: 5474.7241 - val_mse: 5474.7241 - val_mae: 73.9914 - 16ms/epoch - 16ms/step\n",
      "Epoch 3/40\n",
      "1/1 - 0s - loss: 2.1595 - mse: 2.1595 - mae: 1.4695 - val_loss: 5515.4966 - val_mse: 5515.4966 - val_mae: 74.2664 - 16ms/epoch - 16ms/step\n",
      "Epoch 4/40\n",
      "1/1 - 0s - loss: 9.0006 - mse: 9.0006 - mae: 3.0001 - val_loss: 5549.3599 - val_mse: 5549.3599 - val_mae: 74.4940 - 16ms/epoch - 16ms/step\n",
      "Epoch 5/40\n",
      "1/1 - 0s - loss: 18.4272 - mse: 18.4272 - mae: 4.2927 - val_loss: 5575.5186 - val_mse: 5575.5186 - val_mae: 74.6694 - 16ms/epoch - 16ms/step\n",
      "Epoch 6/40\n",
      "1/1 - 0s - loss: 28.3996 - mse: 28.3996 - mae: 5.3291 - val_loss: 5593.5156 - val_mse: 5593.5156 - val_mae: 74.7898 - 16ms/epoch - 16ms/step\n",
      "Epoch 7/40\n",
      "1/1 - 0s - loss: 37.2187 - mse: 37.2187 - mae: 6.1007 - val_loss: 5603.2261 - val_mse: 5603.2261 - val_mae: 74.8547 - 16ms/epoch - 16ms/step\n",
      "Epoch 8/40\n",
      "1/1 - 0s - loss: 43.6583 - mse: 43.6583 - mae: 6.6074 - val_loss: 5604.8193 - val_mse: 5604.8193 - val_mae: 74.8653 - 16ms/epoch - 16ms/step\n",
      "Epoch 9/40\n",
      "1/1 - 0s - loss: 47.0250 - mse: 47.0250 - mae: 6.8575 - val_loss: 5598.7412 - val_mse: 5598.7412 - val_mae: 74.8247 - 16ms/epoch - 16ms/step\n",
      "Epoch 10/40\n",
      "1/1 - 0s - loss: 47.1433 - mse: 47.1433 - mae: 6.8661 - val_loss: 5585.6704 - val_mse: 5585.6704 - val_mae: 74.7373 - 16ms/epoch - 16ms/step\n",
      "Epoch 11/40\n",
      "1/1 - 0s - loss: 44.2845 - mse: 44.2845 - mae: 6.6547 - val_loss: 5566.4619 - val_mse: 5566.4619 - val_mae: 74.6087 - 16ms/epoch - 16ms/step\n",
      "1/1 [==============================] - 0s 16ms/step\n",
      "MSE\n",
      "5566.461614794865\n",
      "RMSE\n",
      "74.60872344970704\n",
      "MAE\n",
      "128.55\n",
      "Train Root Mean Squared Error(RMSE): 6.25; Train Mean Absolute Error(MAE) : 6.25 \n",
      "Test Root Mean Squared Error(RMSE): 74.61; Test Mean Absolute Error(MAE) : 74.61 \n"
     ]
    },
    {
     "data": {
      "image/png": "[encoded data removed]",
      "text/plain": [
       "<Figure size 576x288 with 1 Axes>"
      ]
     },
     "metadata": {
      "needs_background": "light"
     },
     "output_type": "display_data"
    },
    {
     "name": "stdout",
     "output_type": "stream",
     "text": [
      "Epoch 1/50\n",
      "1/1 - 0s - loss: 39.0550 - mse: 39.0550 - mae: 6.2494 - val_loss: 5542.1138 - val_mse: 5542.1138 - val_mae: 74.4454 - 36ms/epoch - 36ms/step\n",
      "Epoch 2/50\n",
      "1/1 - 0s - loss: 32.2649 - mse: 32.2649 - mae: 5.6802 - val_loss: 5513.7188 - val_mse: 5513.7188 - val_mae: 74.2544 - 17ms/epoch - 17ms/step\n",
      "Epoch 3/50\n",
      "1/1 - 0s - loss: 24.7967 - mse: 24.7967 - mae: 4.9796 - val_loss: 5482.4224 - val_mse: 5482.4224 - val_mae: 74.0434 - 17ms/epoch - 17ms/step\n",
      "Epoch 4/50\n",
      "1/1 - 0s - loss: 17.4845 - mse: 17.4845 - mae: 4.1814 - val_loss: 5449.3755 - val_mse: 5449.3755 - val_mae: 73.8199 - 17ms/epoch - 17ms/step\n",
      "Epoch 5/50\n",
      "1/1 - 0s - loss: 11.0217 - mse: 11.0217 - mae: 3.3199 - val_loss: 5415.7021 - val_mse: 5415.7021 - val_mae: 73.5915 - 16ms/epoch - 16ms/step\n",
      "Epoch 6/50\n",
      "1/1 - 0s - loss: 5.8970 - mse: 5.8970 - mae: 2.4284 - val_loss: 5382.4619 - val_mse: 5382.4619 - val_mae: 73.3653 - 17ms/epoch - 17ms/step\n",
      "Epoch 7/50\n",
      "1/1 - 0s - loss: 2.3676 - mse: 2.3676 - mae: 1.5387 - val_loss: 5350.6245 - val_mse: 5350.6245 - val_mae: 73.1480 - 17ms/epoch - 17ms/step\n",
      "Epoch 8/50\n",
      "1/1 - 0s - loss: 0.4626 - mse: 0.4626 - mae: 0.6802 - val_loss: 5321.0410 - val_mse: 5321.0410 - val_mae: 72.9455 - 16ms/epoch - 16ms/step\n",
      "Epoch 9/50\n",
      "1/1 - 0s - loss: 0.0147 - mse: 0.0147 - mae: 0.1213 - val_loss: 5294.4297 - val_mse: 5294.4297 - val_mae: 72.7628 - 10ms/epoch - 10ms/step\n",
      "Epoch 10/50\n",
      "1/1 - 0s - loss: 0.7114 - mse: 0.7114 - mae: 0.8434 - val_loss: 5271.3525 - val_mse: 5271.3525 - val_mae: 72.6041 - 16ms/epoch - 16ms/step\n",
      "Epoch 11/50\n",
      "1/1 - 0s - loss: 2.1570 - mse: 2.1570 - mae: 1.4687 - val_loss: 5252.2197 - val_mse: 5252.2197 - val_mae: 72.4722 - 16ms/epoch - 16ms/step\n",
      "Epoch 12/50\n",
      "1/1 - 0s - loss: 3.9359 - mse: 3.9359 - mae: 1.9839 - val_loss: 5237.2769 - val_mse: 5237.2769 - val_mae: 72.3690 - 28ms/epoch - 28ms/step\n",
      "Epoch 13/50\n",
      "1/1 - 0s - loss: 5.6687 - mse: 5.6687 - mae: 2.3809 - val_loss: 5226.6108 - val_mse: 5226.6108 - val_mae: 72.2953 - 18ms/epoch - 18ms/step\n",
      "Epoch 14/50\n",
      "1/1 - 0s - loss: 7.0558 - mse: 7.0558 - mae: 2.6563 - val_loss: 5220.1670 - val_mse: 5220.1670 - val_mae: 72.2507 - 19ms/epoch - 19ms/step\n",
      "Epoch 15/50\n",
      "1/1 - 0s - loss: 7.9019 - mse: 7.9019 - mae: 2.8110 - val_loss: 5217.7456 - val_mse: 5217.7456 - val_mae: 72.2340 - 21ms/epoch - 21ms/step\n",
      "Epoch 16/50\n",
      "1/1 - 0s - loss: 8.1249 - mse: 8.1249 - mae: 2.8504 - val_loss: 5219.0361 - val_mse: 5219.0361 - val_mae: 72.2429 - 19ms/epoch - 19ms/step\n",
      "Epoch 17/50\n",
      "1/1 - 0s - loss: 7.7474 - mse: 7.7474 - mae: 2.7834 - val_loss: 5223.6240 - val_mse: 5223.6240 - val_mae: 72.2746 - 19ms/epoch - 19ms/step\n",
      "Epoch 18/50\n",
      "1/1 - 0s - loss: 6.8749 - mse: 6.8749 - mae: 2.6220 - val_loss: 5231.0200 - val_mse: 5231.0200 - val_mae: 72.3258 - 19ms/epoch - 19ms/step\n",
      "Epoch 19/50\n",
      "1/1 - 0s - loss: 5.6664 - mse: 5.6664 - mae: 2.3804 - val_loss: 5240.6768 - val_mse: 5240.6768 - val_mae: 72.3925 - 19ms/epoch - 19ms/step\n",
      "Epoch 20/50\n",
      "1/1 - 0s - loss: 4.3046 - mse: 4.3046 - mae: 2.0748 - val_loss: 5252.0161 - val_mse: 5252.0161 - val_mae: 72.4708 - 19ms/epoch - 19ms/step\n",
      "Epoch 21/50\n",
      "1/1 - 0s - loss: 2.9648 - mse: 2.9648 - mae: 1.7219 - val_loss: 5264.4551 - val_mse: 5264.4551 - val_mae: 72.5566 - 19ms/epoch - 19ms/step\n",
      "Epoch 22/50\n",
      "1/1 - 0s - loss: 1.7927 - mse: 1.7927 - mae: 1.3389 - val_loss: 5277.4141 - val_mse: 5277.4141 - val_mae: 72.6458 - 17ms/epoch - 17ms/step\n",
      "Epoch 23/50\n",
      "1/1 - 0s - loss: 0.8889 - mse: 0.8889 - mae: 0.9428 - val_loss: 5290.3516 - val_mse: 5290.3516 - val_mae: 72.7348 - 16ms/epoch - 16ms/step\n",
      "Epoch 24/50\n",
      "1/1 - 0s - loss: 0.3016 - mse: 0.3016 - mae: 0.5492 - val_loss: 5302.7690 - val_mse: 5302.7690 - val_mae: 72.8201 - 17ms/epoch - 17ms/step\n",
      "Epoch 25/50\n",
      "1/1 - 0s - loss: 0.0298 - mse: 0.0298 - mae: 0.1726 - val_loss: 5314.2368 - val_mse: 5314.2368 - val_mae: 72.8988 - 16ms/epoch - 16ms/step\n",
      "1/1 [==============================] - 0s 17ms/step\n",
      "MSE\n",
      "5314.236249894298\n",
      "RMSE\n",
      "72.89880828857423\n",
      "MAE\n",
      "128.55\n",
      "Train Root Mean Squared Error(RMSE): 0.17; Train Mean Absolute Error(MAE) : 0.17 \n",
      "Test Root Mean Squared Error(RMSE): 72.90; Test Mean Absolute Error(MAE) : 72.90 \n"
     ]
    },
    {
     "data": {
      "image/png": "[encoded data removed]",
      "text/plain": [
       "<Figure size 576x288 with 1 Axes>"
      ]
     },
     "metadata": {
      "needs_background": "light"
     },
     "output_type": "display_data"
    }
   ],
   "source": [
    "l=[10,20,30,40,50]\n",
    "for i in l:\n",
    "    call(i)"
   ]
  },
  {
   "cell_type": "code",
   "execution_count": 9,
   "id": "721f9e17",
   "metadata": {},
   "outputs": [
    {
     "name": "stdout",
     "output_type": "stream",
     "text": [
      "1/1 [==============================] - 0s 16ms/step\n",
      "5314.236249894298\n",
      "72.89880828857423\n"
     ]
    }
   ],
   "source": [
    "#Taking predictions\n",
    "Y_pred = model.predict(testX)\n",
    "\n",
    "from sklearn.metrics import mean_squared_error\n",
    "mse = mean_squared_error(testY, Y_pred)\n",
    "\n",
    "print(mse)\n",
    "rmse = np.sqrt(mse)\n",
    "print(rmse)"
   ]
  },
  {
   "cell_type": "code",
   "execution_count": 10,
   "id": "0bcfe2bb",
   "metadata": {},
   "outputs": [
    {
     "data": {
      "text/plain": [
       "(array([[128.55]]), array([[55.65119]], dtype=float32))"
      ]
     },
     "execution_count": 10,
     "metadata": {},
     "output_type": "execute_result"
    }
   ],
   "source": [
    "testY, Y_pred"
   ]
  },
  {
   "cell_type": "code",
   "execution_count": 11,
   "id": "7793a0b0",
   "metadata": {},
   "outputs": [
    {
     "data": {
      "text/plain": [
       "array([[55.65119]], dtype=float32)"
      ]
     },
     "execution_count": 11,
     "metadata": {},
     "output_type": "execute_result"
    }
   ],
   "source": [
    " Y_pred"
   ]
  },
  {
   "cell_type": "code",
   "execution_count": 12,
   "id": "ff994fa8",
   "metadata": {},
   "outputs": [
    {
     "data": {
      "image/png": "[encoded data removed]",
      "text/plain": [
       "<Figure size 320x320 with 1 Axes>"
      ]
     },
     "metadata": {
      "needs_background": "light"
     },
     "output_type": "display_data"
    }
   ],
   "source": [
    "import matplotlib.pyplot as plt\n",
    "plt.figure(figsize=(4,4),dpi=80)\n",
    "plt.scatter(testY,Y_pred)\n",
    "plt.show()"
   ]
  }
 ],
 "metadata": {
  "kernelspec": {
   "display_name": "Python 3 (ipykernel)",
   "language": "python",
   "name": "python3"
  },
  "language_info": {
   "codemirror_mode": {
    "name": "ipython",
    "version": 3
   },
   "file_extension": ".py",
   "mimetype": "text/x-python",
   "name": "python",
   "nbconvert_exporter": "python",
   "pygments_lexer": "ipython3",
   "version": "3.9.12"
  }
 },
 "nbformat": 4,
 "nbformat_minor": 5
}
