{
 "cells": [
  {
   "cell_type": "code",
   "execution_count": 15,
   "id": "f99c2ba3",
   "metadata": {},
   "outputs": [],
   "source": [
    "import pandas as pd\n",
    "import numpy as np\n",
    "import matplotlib.pyplot as plt"
   ]
  },
  {
   "cell_type": "code",
   "execution_count": 16,
   "id": "f8b1683f",
   "metadata": {},
   "outputs": [
    {
     "data": {
      "text/html": [
       "<div>\n",
       "<style scoped>\n",
       "    .dataframe tbody tr th:only-of-type {\n",
       "        vertical-align: middle;\n",
       "    }\n",
       "\n",
       "    .dataframe tbody tr th {\n",
       "        vertical-align: top;\n",
       "    }\n",
       "\n",
       "    .dataframe thead th {\n",
       "        text-align: right;\n",
       "    }\n",
       "</style>\n",
       "<table border=\"1\" class=\"dataframe\">\n",
       "  <thead>\n",
       "    <tr style=\"text-align: right;\">\n",
       "      <th></th>\n",
       "      <th>PM25</th>\n",
       "    </tr>\n",
       "    <tr>\n",
       "      <th>Date</th>\n",
       "      <th></th>\n",
       "    </tr>\n",
       "  </thead>\n",
       "  <tbody>\n",
       "    <tr>\n",
       "      <th>2019-04-02 18:00:00</th>\n",
       "      <td>70.52</td>\n",
       "    </tr>\n",
       "    <tr>\n",
       "      <th>2019-04-02 19:00:00</th>\n",
       "      <td>61.39</td>\n",
       "    </tr>\n",
       "    <tr>\n",
       "      <th>2019-04-02 20:00:00</th>\n",
       "      <td>59.94</td>\n",
       "    </tr>\n",
       "    <tr>\n",
       "      <th>2019-04-02 21:00:00</th>\n",
       "      <td>76.44</td>\n",
       "    </tr>\n",
       "    <tr>\n",
       "      <th>2019-04-02 22:00:00</th>\n",
       "      <td>98.54</td>\n",
       "    </tr>\n",
       "  </tbody>\n",
       "</table>\n",
       "</div>"
      ],
      "text/plain": [
       "                      PM25\n",
       "Date                      \n",
       "2019-04-02 18:00:00  70.52\n",
       "2019-04-02 19:00:00  61.39\n",
       "2019-04-02 20:00:00  59.94\n",
       "2019-04-02 21:00:00  76.44\n",
       "2019-04-02 22:00:00  98.54"
      ]
     },
     "execution_count": 16,
     "metadata": {},
     "output_type": "execute_result"
    }
   ],
   "source": [
    "# Import data using datetime and set index to datetime\n",
    "df = pd.read_csv(r'C:\\Users\\91783\\Desktop\\subham\\H_Ankl_1_2_19-3_12_22-_41_ (copy)_INDEX_Mean.csv',\n",
    "                                parse_dates=['Date'],\n",
    "                                index_col=['Date'])\n",
    "\n",
    "df.head()"
   ]
  },
  {
   "cell_type": "code",
   "execution_count": 17,
   "id": "ade97a26",
   "metadata": {},
   "outputs": [
    {
     "name": "stdout",
     "output_type": "stream",
     "text": [
      "<class 'pandas.core.frame.DataFrame'>\n",
      "DatetimeIndex: 33535 entries, 2019-04-02 18:00:00 to 2022-03-12 00:00:00\n",
      "Data columns (total 1 columns):\n",
      " #   Column  Non-Null Count  Dtype  \n",
      "---  ------  --------------  -----  \n",
      " 0   PM25    33535 non-null  float64\n",
      "dtypes: float64(1)\n",
      "memory usage: 524.0 KB\n"
     ]
    }
   ],
   "source": [
    "df.info()"
   ]
  },
  {
   "cell_type": "code",
   "execution_count": 18,
   "id": "bd23afba",
   "metadata": {},
   "outputs": [
    {
     "data": {
      "text/plain": [
       "<AxesSubplot:>"
      ]
     },
     "execution_count": 18,
     "metadata": {},
     "output_type": "execute_result"
    },
    {
     "data": {
      "image/png": "[encoded data removed]",
      "text/plain": [
       "<Figure size 432x288 with 1 Axes>"
      ]
     },
     "metadata": {
      "needs_background": "light"
     },
     "output_type": "display_data"
    }
   ],
   "source": [
    "#Box plot\n",
    "#pd.options.display.mpl_style = False\n",
    "df.boxplot()"
   ]
  },
  {
   "cell_type": "code",
   "execution_count": 8,
   "id": "d872122a",
   "metadata": {},
   "outputs": [],
   "source": [
    "#Normalising data\n",
    "from sklearn.preprocessing import MinMaxScaler\n",
    "\n",
    "values = df.values\n",
    "scaler = MinMaxScaler(feature_range=(0, 1))\n",
    "scaled_dataset = scaler.fit_transform(values)"
   ]
  },
  {
   "cell_type": "code",
   "execution_count": 9,
   "id": "34231057",
   "metadata": {},
   "outputs": [
    {
     "data": {
      "text/plain": [
       "array([[0.07166694],\n",
       "       [0.06232086]])"
      ]
     },
     "execution_count": 9,
     "metadata": {},
     "output_type": "execute_result"
    }
   ],
   "source": [
    "scaled_dataset[:2,:]"
   ]
  },
  {
   "cell_type": "code",
   "execution_count": 19,
   "id": "ace7b83a",
   "metadata": {},
   "outputs": [
    {
     "ename": "IndentationError",
     "evalue": "unexpected indent (665377937.py, line 3)",
     "output_type": "error",
     "traceback": [
      "\u001b[1;36m  Input \u001b[1;32mIn [19]\u001b[1;36m\u001b[0m\n\u001b[1;33m    window_size = 4\u001b[0m\n\u001b[1;37m    ^\u001b[0m\n\u001b[1;31mIndentationError\u001b[0m\u001b[1;31m:\u001b[0m unexpected indent\n"
     ]
    }
   ],
   "source": [
    "#Creating a window for previous data\n",
    "#def to_supervised(train):\n",
    "    window_size = 4\n",
    "    X = []\n",
    "    Y = []\n",
    "    for i in range(window_size, len(train)):\n",
    "        X.append(train[i-window_size:i,:])\n",
    "        Y.append(train[i,0:1])\n",
    "    \n",
    "    return X,Y"
   ]
  },
  {
   "cell_type": "code",
   "execution_count": 20,
   "id": "6ebe989c",
   "metadata": {},
   "outputs": [
    {
     "name": "stdout",
     "output_type": "stream",
     "text": [
      "Y (33531, 1)\n",
      "X (33531, 4, 1)\n"
     ]
    }
   ],
   "source": [
    "#X, Y = to_supervised(scaled_dataset)\n",
    "X = np.array(X)\n",
    "Y = np.array(Y)\n",
    "print('Y' ,Y.shape)\n",
    "print('X' ,X.shape)"
   ]
  },
  {
   "cell_type": "code",
   "execution_count": 21,
   "id": "942e49b8",
   "metadata": {},
   "outputs": [
    {
     "name": "stdout",
     "output_type": "stream",
     "text": [
      "X_train (33458, 4, 1)\n",
      "X_test (73, 4, 1)\n",
      "Y_train (33458, 1)\n",
      "Y_test (73, 1)\n"
     ]
    }
   ],
   "source": [
    "#Splitting the dataset 365*0.2=73\n",
    "#Splitting the dataset 365*0.3=110\n",
    "n_train = 73\n",
    "X_train, X_test = X[n_train:,] , X[:n_train,]\n",
    "print('X_train' ,X_train.shape)\n",
    "print('X_test' ,X_test.shape)\n",
    "\n",
    "Y_train, Y_test = Y[n_train:,] , Y[:n_train,]\n",
    "print('Y_train' ,Y_train.shape)\n",
    "print('Y_test' ,Y_test.shape)"
   ]
  },
  {
   "cell_type": "code",
   "execution_count": 13,
   "id": "76fb5c1d",
   "metadata": {},
   "outputs": [],
   "source": [
    "#Importing LSTM model\n",
    "from tensorflow import keras\n",
    "from tensorflow.keras import layers\n",
    "from keras.models import Sequential\n",
    "from keras.layers import Dense, Dropout,LSTM\n",
    "import tensorflow as tf\n",
    "model = Sequential()\n",
    "\n",
    "#units means number of neurons\n",
    "model.add(LSTM(units = 100, return_sequences = True, input_shape=(X_train.shape[1], X_train.shape[2])))\n",
    "model.add(Dropout(0.2))\n",
    "\n",
    "model.add(LSTM(units = 100, return_sequences = True))\n",
    "model.add(Dropout(0.2))\n",
    "\n",
    "model.add(LSTM(units = 100))\n",
    "model.add(Dropout(0.2))\n",
    "\n",
    "model.add(Dense(units = 1))\n",
    "\n",
    " \n",
    "#opt1 = tf.keras.optimizers.SGD(learning_rate=0.001, momentum=0.0, nesterov=False, name=\"SGD\")\n",
    "\n",
    "opt = keras.optimizers.Adam(learning_rate=0.1)\n",
    "model.compile(loss='mean_squared_error', optimizer=opt)"
   ]
  },
  {
   "cell_type": "code",
   "execution_count": null,
   "id": "372d4098",
   "metadata": {},
   "outputs": [
    {
     "name": "stdout",
     "output_type": "stream",
     "text": [
      "Epoch 1/50\n",
      "4183/4183 - 25s - loss: 0.0237 - val_loss: 0.0067 - 25s/epoch - 6ms/step\n",
      "Epoch 2/50\n",
      "4183/4183 - 18s - loss: 0.0065 - val_loss: 0.0183 - 18s/epoch - 4ms/step\n",
      "Epoch 3/50\n",
      "4183/4183 - 19s - loss: 0.0055 - val_loss: 0.0012 - 19s/epoch - 4ms/step\n",
      "Epoch 4/50\n",
      "4183/4183 - 18s - loss: 0.0050 - val_loss: 0.0024 - 18s/epoch - 4ms/step\n",
      "Epoch 5/50\n",
      "4183/4183 - 18s - loss: 0.0046 - val_loss: 0.0076 - 18s/epoch - 4ms/step\n",
      "Epoch 6/50\n",
      "4183/4183 - 19s - loss: 0.0041 - val_loss: 0.0011 - 19s/epoch - 5ms/step\n",
      "Epoch 7/50\n",
      "4183/4183 - 22s - loss: 0.0048 - val_loss: 0.0010 - 22s/epoch - 5ms/step\n",
      "Epoch 8/50\n",
      "4183/4183 - 21s - loss: 0.0040 - val_loss: 0.0012 - 21s/epoch - 5ms/step\n",
      "Epoch 9/50\n",
      "4183/4183 - 21s - loss: 0.0046 - val_loss: 0.0056 - 21s/epoch - 5ms/step\n",
      "Epoch 10/50\n",
      "4183/4183 - 21s - loss: 0.0039 - val_loss: 0.0035 - 21s/epoch - 5ms/step\n",
      "Epoch 11/50\n",
      "4183/4183 - 22s - loss: 0.0047 - val_loss: 0.0070 - 22s/epoch - 5ms/step\n",
      "Epoch 12/50\n",
      "4183/4183 - 21s - loss: 0.0039 - val_loss: 0.0061 - 21s/epoch - 5ms/step\n",
      "Epoch 13/50\n",
      "4183/4183 - 21s - loss: 0.0045 - val_loss: 0.0054 - 21s/epoch - 5ms/step\n",
      "Epoch 14/50\n",
      "4183/4183 - 27s - loss: 0.0045 - val_loss: 0.0034 - 27s/epoch - 7ms/step\n",
      "Epoch 15/50\n",
      "4183/4183 - 29s - loss: 0.0054 - val_loss: 0.0072 - 29s/epoch - 7ms/step\n",
      "Epoch 16/50\n",
      "4183/4183 - 34s - loss: 0.0040 - val_loss: 0.0052 - 34s/epoch - 8ms/step\n",
      "Epoch 17/50\n",
      "4183/4183 - 32s - loss: 0.0045 - val_loss: 0.0077 - 32s/epoch - 8ms/step\n",
      "Epoch 18/50\n",
      "4183/4183 - 31s - loss: 0.0040 - val_loss: 0.0016 - 31s/epoch - 7ms/step\n",
      "Epoch 19/50\n",
      "4183/4183 - 31s - loss: 0.0044 - val_loss: 0.0049 - 31s/epoch - 7ms/step\n",
      "Epoch 20/50\n",
      "4183/4183 - 31s - loss: 0.0042 - val_loss: 0.0241 - 31s/epoch - 7ms/step\n",
      "Epoch 21/50\n",
      "4183/4183 - 32s - loss: 0.0044 - val_loss: 0.0035 - 32s/epoch - 8ms/step\n",
      "Epoch 22/50\n",
      "4183/4183 - 30s - loss: 0.0043 - val_loss: 0.0034 - 30s/epoch - 7ms/step\n",
      "Epoch 23/50\n",
      "4183/4183 - 32s - loss: 0.0044 - val_loss: 0.0082 - 32s/epoch - 8ms/step\n",
      "Epoch 24/50\n",
      "4183/4183 - 31s - loss: 0.0045 - val_loss: 0.0062 - 31s/epoch - 7ms/step\n",
      "Epoch 25/50\n",
      "4183/4183 - 31s - loss: 0.0040 - val_loss: 0.0185 - 31s/epoch - 7ms/step\n",
      "Epoch 26/50\n",
      "4183/4183 - 30s - loss: 0.0048 - val_loss: 0.0192 - 30s/epoch - 7ms/step\n",
      "Epoch 27/50\n",
      "4183/4183 - 30s - loss: 0.0048 - val_loss: 0.0028 - 30s/epoch - 7ms/step\n",
      "Epoch 28/50\n",
      "4183/4183 - 30s - loss: 0.0043 - val_loss: 0.0118 - 30s/epoch - 7ms/step\n",
      "Epoch 29/50\n",
      "4183/4183 - 30s - loss: 0.0044 - val_loss: 0.0010 - 30s/epoch - 7ms/step\n",
      "Epoch 30/50\n",
      "4183/4183 - 31s - loss: 0.0044 - val_loss: 0.0055 - 31s/epoch - 8ms/step\n",
      "Epoch 31/50\n",
      "4183/4183 - 30s - loss: 0.0044 - val_loss: 0.0230 - 30s/epoch - 7ms/step\n",
      "Epoch 32/50\n",
      "4183/4183 - 32s - loss: 0.0047 - val_loss: 0.0037 - 32s/epoch - 8ms/step\n",
      "Epoch 33/50\n",
      "4183/4183 - 30s - loss: 0.0045 - val_loss: 0.0010 - 30s/epoch - 7ms/step\n",
      "Epoch 34/50\n",
      "4183/4183 - 31s - loss: 0.0041 - val_loss: 0.0033 - 31s/epoch - 7ms/step\n",
      "Epoch 35/50\n",
      "4183/4183 - 32s - loss: 0.0045 - val_loss: 0.0048 - 32s/epoch - 8ms/step\n",
      "Epoch 36/50\n",
      "4183/4183 - 30s - loss: 0.0040 - val_loss: 0.0014 - 30s/epoch - 7ms/step\n",
      "Epoch 37/50\n",
      "4183/4183 - 31s - loss: 0.0042 - val_loss: 0.0065 - 31s/epoch - 8ms/step\n",
      "Epoch 38/50\n",
      "4183/4183 - 31s - loss: 0.0044 - val_loss: 0.0066 - 31s/epoch - 7ms/step\n",
      "Epoch 39/50\n",
      "4183/4183 - 31s - loss: 0.0047 - val_loss: 0.0031 - 31s/epoch - 7ms/step\n",
      "Epoch 40/50\n",
      "4183/4183 - 32s - loss: 0.0042 - val_loss: 0.0103 - 32s/epoch - 8ms/step\n",
      "Epoch 41/50\n",
      "4183/4183 - 29s - loss: 0.0042 - val_loss: 0.0016 - 29s/epoch - 7ms/step\n",
      "Epoch 42/50\n",
      "4183/4183 - 31s - loss: 0.0040 - val_loss: 0.0025 - 31s/epoch - 7ms/step\n",
      "Epoch 43/50\n",
      "4183/4183 - 31s - loss: 0.0044 - val_loss: 0.0026 - 31s/epoch - 7ms/step\n",
      "Epoch 44/50\n",
      "4183/4183 - 29s - loss: 0.0046 - val_loss: 0.0025 - 29s/epoch - 7ms/step\n",
      "Epoch 45/50\n",
      "4183/4183 - 22s - loss: 0.0040 - val_loss: 0.0016 - 22s/epoch - 5ms/step\n",
      "Epoch 46/50\n",
      "4183/4183 - 22s - loss: 0.0045 - val_loss: 0.0083 - 22s/epoch - 5ms/step\n",
      "Epoch 47/50\n",
      "4183/4183 - 25s - loss: 0.0050 - val_loss: 0.0098 - 25s/epoch - 6ms/step\n",
      "Epoch 48/50\n"
     ]
    }
   ],
   "source": [
    "history = model.fit(X_train, Y_train, epochs=50,\n",
    "                    batch_size=8, validation_data=(X_test, Y_test),\n",
    "                    verbose=2, shuffle=False)"
   ]
  },
  {
   "cell_type": "code",
   "execution_count": 13,
   "id": "7c6fa640",
   "metadata": {},
   "outputs": [
    {
     "name": "stdout",
     "output_type": "stream",
     "text": [
      "3/3 [==============================] - 1s 9ms/step\n",
      "0.017903542524705756\n",
      "0.1338041199840489\n"
     ]
    }
   ],
   "source": [
    "#Taking predictions\n",
    "Y_pred = model.predict(X_test)\n",
    "\n",
    "from sklearn.metrics import mean_squared_error\n",
    "mse = mean_squared_error(Y_test, Y_pred)\n",
    "\n",
    "print(mse)\n",
    "rmse = np.sqrt(mse)\n",
    "print(rmse)"
   ]
  },
  {
   "cell_type": "code",
   "execution_count": 14,
   "id": "be04fc86",
   "metadata": {},
   "outputs": [
    {
     "name": "stdout",
     "output_type": "stream",
     "text": [
      "MAPE 51.69695823629219\n"
     ]
    }
   ],
   "source": [
    "def mean_absolute_percentage_error(y_true, y_pred): \n",
    "    y_true, y_pred = np.array(y_true), np.array(y_pred)\n",
    "    return np.mean(np.abs((y_true - y_pred) / y_true)) * 100\n",
    "\n",
    "mape = mean_absolute_percentage_error(Y_test, Y_pred)\n",
    "print('MAPE', mape)"
   ]
  },
  {
   "cell_type": "code",
   "execution_count": 15,
   "id": "03e3c1db",
   "metadata": {},
   "outputs": [
    {
     "data": {
      "text/plain": [
       "array([[0.10539542],\n",
       "       [0.25738195],\n",
       "       [0.24773201],\n",
       "       [0.2536627 ],\n",
       "       [0.34222099],\n",
       "       [0.24823461],\n",
       "       [0.17477948],\n",
       "       [0.26858995],\n",
       "       [0.4265323 ],\n",
       "       [0.47196743],\n",
       "       [0.48166763],\n",
       "       [0.41452014],\n",
       "       [0.33365165],\n",
       "       [0.36541603],\n",
       "       [0.41617872],\n",
       "       [0.17352298],\n",
       "       [0.26095042],\n",
       "       [0.34418114],\n",
       "       [0.21508808],\n",
       "       [0.40572462],\n",
       "       [0.36285276],\n",
       "       [0.28386902],\n",
       "       [0.29799211],\n",
       "       [0.42844219],\n",
       "       [0.32086045],\n",
       "       [0.26853969],\n",
       "       [0.26092529],\n",
       "       [0.37205036],\n",
       "       [0.41085115],\n",
       "       [0.21209761],\n",
       "       [0.16935139],\n",
       "       [0.24831   ],\n",
       "       [0.22373282],\n",
       "       [0.20493554],\n",
       "       [0.27720956],\n",
       "       [0.26723293],\n",
       "       [0.23579524],\n",
       "       [0.37715176],\n",
       "       [0.36076697],\n",
       "       [0.44279145],\n",
       "       [0.35805292],\n",
       "       [0.33480763],\n",
       "       [0.28919659],\n",
       "       [0.38644988],\n",
       "       [0.47257055],\n",
       "       [0.38484156],\n",
       "       [0.22978916],\n",
       "       [0.23044254],\n",
       "       [0.19885407],\n",
       "       [0.23913754],\n",
       "       [0.2638655 ],\n",
       "       [0.22418516],\n",
       "       [0.16920061],\n",
       "       [0.22227527],\n",
       "       [0.27826502],\n",
       "       [0.30208831],\n",
       "       [0.19204383],\n",
       "       [0.20053778],\n",
       "       [0.34935793],\n",
       "       [0.41059985],\n",
       "       [0.18422838],\n",
       "       [0.22858292],\n",
       "       [0.23081949],\n",
       "       [0.24979268],\n",
       "       [0.16236524],\n",
       "       [0.34531199],\n",
       "       [0.11966929],\n",
       "       [0.22084286],\n",
       "       [0.31141155],\n",
       "       [0.28849295],\n",
       "       [0.33470711],\n",
       "       [0.47518408],\n",
       "       [0.43505139]])"
      ]
     },
     "execution_count": 15,
     "metadata": {},
     "output_type": "execute_result"
    }
   ],
   "source": [
    "Y_test"
   ]
  },
  {
   "cell_type": "code",
   "execution_count": 16,
   "id": "ecaeb086",
   "metadata": {},
   "outputs": [
    {
     "name": "stdout",
     "output_type": "stream",
     "text": [
      "y_predicted (73, 1)\n",
      "X_test (73, 4, 1)\n",
      "scaled Values shape (365, 1)\n"
     ]
    }
   ],
   "source": [
    "#Y_predicted = scaler.inverse_transform(Y_pred)\n",
    "print('y_predicted',Y_pred.shape)\n",
    "#print('X_train' ,X_train.shape)\n",
    "print('X_test' ,X_test.shape)\n",
    "print('scaled Values shape', scaled_dataset.shape)"
   ]
  },
  {
   "cell_type": "code",
   "execution_count": 17,
   "id": "207c4723",
   "metadata": {},
   "outputs": [
    {
     "name": "stdout",
     "output_type": "stream",
     "text": [
      "dummy (292, 1)\n",
      "Y_pred (73, 1)\n",
      "concat y_pred (73, 1)\n",
      "concat Y_test (73, 1)\n"
     ]
    }
   ],
   "source": [
    "#Scaling back to the original scale\n",
    "d = scaled_dataset[:292,:]\n",
    "print('dummy',d.shape)\n",
    "print('Y_pred',Y_pred.shape)\n",
    "Y_predicted = np.concatenate((Y_pred,d[:73,1:]), axis =1)\n",
    "print('concat y_pred',Y_pred.shape)\n",
    "Y_tested = np.concatenate((Y_test, d[:73,1:]), axis = 1)\n",
    "print('concat Y_test', Y_test.shape)"
   ]
  },
  {
   "cell_type": "code",
   "execution_count": 18,
   "id": "8a374410",
   "metadata": {},
   "outputs": [
    {
     "name": "stdout",
     "output_type": "stream",
     "text": [
      "Y_tested (73, 1)\n",
      "Y_predicted (73, 1)\n"
     ]
    }
   ],
   "source": [
    "#Take inverse transform\n",
    "Y_predicted = scaler.inverse_transform(Y_predicted)\n",
    "Y_tested = scaler.inverse_transform(Y_tested)\n",
    "Y_predicted = Y_predicted[:,0:1]\n",
    "Y_tested = Y_tested[:,0:1]\n",
    "print('Y_tested', Y_tested.shape)\n",
    "print('Y_predicted', Y_predicted.shape)"
   ]
  },
  {
   "cell_type": "code",
   "execution_count": 19,
   "id": "bb7a425f",
   "metadata": {},
   "outputs": [
    {
     "name": "stdout",
     "output_type": "stream",
     "text": [
      "2834.9952524213713\n",
      "53.244673465252575\n"
     ]
    }
   ],
   "source": [
    "#Calculate error\n",
    "from sklearn.metrics import mean_squared_error\n",
    "mse = mean_squared_error(Y_tested, Y_predicted)\n",
    "print(mse)\n",
    "rmse = np.sqrt(mse)\n",
    "print(rmse)"
   ]
  },
  {
   "cell_type": "code",
   "execution_count": 20,
   "id": "3872aad3",
   "metadata": {},
   "outputs": [
    {
     "data": {
      "text/plain": [
       "-1.1513785721791292"
      ]
     },
     "execution_count": 20,
     "metadata": {},
     "output_type": "execute_result"
    }
   ],
   "source": [
    "from sklearn.metrics import r2_score\n",
    "r2 = r2_score(Y_tested, Y_predicted)\n",
    "r2"
   ]
  },
  {
   "cell_type": "code",
   "execution_count": 21,
   "id": "71bf1193",
   "metadata": {
    "scrolled": true
   },
   "outputs": [
    {
     "data": {
      "image/png": "[encoded data removed]",
      "text/plain": [
       "<Figure size 432x288 with 1 Axes>"
      ]
     },
     "metadata": {
      "needs_background": "light"
     },
     "output_type": "display_data"
    }
   ],
   "source": [
    "#Plot the graph between actual vs predicted values => 100 days\n",
    "plt.plot(Y_predicted[:100,:], color= 'green')\n",
    "plt.plot(Y_tested[:100,:] , color = 'red')\n",
    "plt.title(\"Air Pollution Prediction (Univariate)\")\n",
    "plt.xlabel(\"Date\")\n",
    "plt.ylabel(\"Pollution level\")\n",
    "plt.show()"
   ]
  },
  {
   "cell_type": "code",
   "execution_count": 22,
   "id": "637f7d38",
   "metadata": {},
   "outputs": [
    {
     "name": "stdout",
     "output_type": "stream",
     "text": [
      "MAPE 41.1615907979368\n"
     ]
    }
   ],
   "source": [
    "def mean_absolute_percentage_error(y_true, y_pred): \n",
    "    y_true, y_pred = np.array(y_true), np.array(y_pred)\n",
    "    return np.mean(np.abs((y_true - y_pred) / y_true)) * 100\n",
    "\n",
    "mape = mean_absolute_percentage_error(Y_tested, Y_predicted)\n",
    "print('MAPE', mape)"
   ]
  },
  {
   "cell_type": "code",
   "execution_count": 23,
   "id": "1ede16d4",
   "metadata": {},
   "outputs": [
    {
     "data": {
      "text/plain": [
       "-1.1513785721791292"
      ]
     },
     "execution_count": 23,
     "metadata": {},
     "output_type": "execute_result"
    }
   ],
   "source": [
    "from sklearn.metrics import r2_score\n",
    "r2 = r2_score(Y_tested, Y_predicted)\n",
    "r2"
   ]
  },
  {
   "cell_type": "code",
   "execution_count": 24,
   "id": "66ad50f1",
   "metadata": {},
   "outputs": [
    {
     "name": "stdout",
     "output_type": "stream",
     "text": [
      "RMSE 53.244673465252575\n",
      "Mean of Test data  138.07479452054795\n",
      "Mean of pred data  177.02653006786355\n"
     ]
    }
   ],
   "source": [
    "from sklearn.metrics import mean_squared_error\n",
    "mse = mean_squared_error(Y_tested, Y_predicted)\n",
    "#print('Mean squared error', mse)\n",
    "print('RMSE' , np.sqrt(mse))\n",
    "print(\"Mean of Test data \", np.mean(Y_tested))\n",
    "print(\"Mean of pred data \", np.mean(Y_predicted))"
   ]
  },
  {
   "cell_type": "code",
   "execution_count": 25,
   "id": "94ee0688",
   "metadata": {
    "scrolled": true
   },
   "outputs": [
    {
     "data": {
      "text/plain": [
       "array([<AxesSubplot:xlabel='Date'>], dtype=object)"
      ]
     },
     "execution_count": 25,
     "metadata": {},
     "output_type": "execute_result"
    },
    {
     "data": {
      "image/png": "[encoded data removed]",
      "text/plain": [
       "<Figure size 432x288 with 1 Axes>"
      ]
     },
     "metadata": {
      "needs_background": "light"
     },
     "output_type": "display_data"
    }
   ],
   "source": [
    "# A simple plot to visualize the correlation between the columns\n",
    "df.plot(subplots=True)\n",
    "#df.plot(subplots=True,figsize=(15,13));"
   ]
  },
  {
   "cell_type": "code",
   "execution_count": 26,
   "id": "efe2304d",
   "metadata": {},
   "outputs": [
    {
     "data": {
      "image/png": "[encoded data removed]",
      "text/plain": [
       "<Figure size 432x288 with 1 Axes>"
      ]
     },
     "metadata": {
      "needs_background": "light"
     },
     "output_type": "display_data"
    }
   ],
   "source": [
    "# plot history\n",
    "plt.plot(history.history['loss'], label='train_loss')\n",
    "plt.plot(history.history['val_loss'], label='Val_loss')\n",
    "plt.legend()\n",
    "plt.show()"
   ]
  },
  {
   "cell_type": "code",
   "execution_count": null,
   "id": "ea17d97f",
   "metadata": {},
   "outputs": [],
   "source": []
  },
  {
   "cell_type": "code",
   "execution_count": null,
   "id": "3654ed91",
   "metadata": {},
   "outputs": [],
   "source": []
  }
 ],
 "metadata": {
  "kernelspec": {
   "display_name": "Python 3 (ipykernel)",
   "language": "python",
   "name": "python3"
  },
  "language_info": {
   "codemirror_mode": {
    "name": "ipython",
    "version": 3
   },
   "file_extension": ".py",
   "mimetype": "text/x-python",
   "name": "python",
   "nbconvert_exporter": "python",
   "pygments_lexer": "ipython3",
   "version": "3.9.12"
  }
 },
 "nbformat": 4,
 "nbformat_minor": 5
}
