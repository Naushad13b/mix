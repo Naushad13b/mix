{
 "cells": [
  {
   "cell_type": "code",
   "execution_count": 1,
   "id": "032b39bf",
   "metadata": {},
   "outputs": [],
   "source": [
    "#https://github.com/datablogger-ml/Time-Series-Forecasting/blob/master/Time%20Series%20Forecasting.ipynb\n",
    "import pandas as pd\n",
    "import numpy as np\n",
    "import matplotlib.pyplot as plt\n",
    "from matplotlib import pylab \n",
    "from pylab import *\n",
    "pylab.rcParams['figure.figsize'] = (16, 6) # size for all figures\n",
    "from multiprocessing import cpu_count\n",
    "from joblib import Parallel\n",
    "from joblib import delayed\n",
    "from warnings import catch_warnings\n",
    "from warnings import filterwarnings\n",
    "import warnings\n",
    "warnings.filterwarnings(\"ignore\")"
   ]
  },
  {
   "cell_type": "code",
   "execution_count": 2,
   "id": "71c0ed27",
   "metadata": {},
   "outputs": [
    {
     "data": {
      "text/html": [
       "<div>\n",
       "<style scoped>\n",
       "    .dataframe tbody tr th:only-of-type {\n",
       "        vertical-align: middle;\n",
       "    }\n",
       "\n",
       "    .dataframe tbody tr th {\n",
       "        vertical-align: top;\n",
       "    }\n",
       "\n",
       "    .dataframe thead th {\n",
       "        text-align: right;\n",
       "    }\n",
       "</style>\n",
       "<table border=\"1\" class=\"dataframe\">\n",
       "  <thead>\n",
       "    <tr style=\"text-align: right;\">\n",
       "      <th></th>\n",
       "      <th>Date</th>\n",
       "      <th>PM2.5</th>\n",
       "    </tr>\n",
       "  </thead>\n",
       "  <tbody>\n",
       "    <tr>\n",
       "      <th>0</th>\n",
       "      <td>2021-01-01</td>\n",
       "      <td>228.53</td>\n",
       "    </tr>\n",
       "    <tr>\n",
       "      <th>1</th>\n",
       "      <td>2021-02-01</td>\n",
       "      <td>222.37</td>\n",
       "    </tr>\n",
       "    <tr>\n",
       "      <th>2</th>\n",
       "      <td>2021-03-01</td>\n",
       "      <td>128.14</td>\n",
       "    </tr>\n",
       "    <tr>\n",
       "      <th>3</th>\n",
       "      <td>2021-04-01</td>\n",
       "      <td>68.44</td>\n",
       "    </tr>\n",
       "    <tr>\n",
       "      <th>4</th>\n",
       "      <td>2021-05-01</td>\n",
       "      <td>62.51</td>\n",
       "    </tr>\n",
       "  </tbody>\n",
       "</table>\n",
       "</div>"
      ],
      "text/plain": [
       "        Date   PM2.5\n",
       "0 2021-01-01  228.53\n",
       "1 2021-02-01  222.37\n",
       "2 2021-03-01  128.14\n",
       "3 2021-04-01   68.44\n",
       "4 2021-05-01   62.51"
      ]
     },
     "execution_count": 2,
     "metadata": {},
     "output_type": "execute_result"
    }
   ],
   "source": [
    "df = pd.read_csv(r'C:\\Users\\91783\\Desktop\\DataSet\\1_Bhiwadi\\Book_1_PM.csv')\n",
    "df.head()\n",
    "df['Date'] = pd.to_datetime(df['Date'])\n",
    "df.head()\n",
    "\n",
    "#y = pd.Series(data=df['PM2.5'].values, index=df['Date'])\n",
    "#y.head()"
   ]
  },
  {
   "cell_type": "code",
   "execution_count": 3,
   "id": "0506e8e9",
   "metadata": {},
   "outputs": [],
   "source": [
    "df = df.set_index('Date').asfreq('D')"
   ]
  },
  {
   "cell_type": "code",
   "execution_count": 4,
   "id": "1eb39e8c",
   "metadata": {},
   "outputs": [],
   "source": [
    "df.columns = ['PM2.5']"
   ]
  },
  {
   "cell_type": "code",
   "execution_count": 5,
   "id": "e5db77bd",
   "metadata": {},
   "outputs": [
    {
     "name": "stdout",
     "output_type": "stream",
     "text": [
      "The Daily data consists of values from 2021-01-01 00:00:00 to 2021-12-31 00:00:00\n"
     ]
    }
   ],
   "source": [
    "print(f'The Daily data consists of values from {df.index.min()} to {df.index.max()}')"
   ]
  },
  {
   "cell_type": "code",
   "execution_count": 6,
   "id": "09b461ad",
   "metadata": {},
   "outputs": [],
   "source": [
    "#from pmdarima import auto_arima\n",
    "filterwarnings('ignore')"
   ]
  },
  {
   "cell_type": "code",
   "execution_count": 7,
   "id": "b6fed8aa",
   "metadata": {},
   "outputs": [],
   "source": [
    "# Finding the split point index to keep 1 month (30 days) data as test set\n",
    "n_test = 61\n",
    "train_data = df.iloc[:len(df) - n_test]\n",
    "test_data = df.iloc[len(df) - n_test:]"
   ]
  },
  {
   "cell_type": "code",
   "execution_count": 8,
   "id": "9452b852",
   "metadata": {},
   "outputs": [],
   "source": [
    "import warnings\n",
    "warnings.filterwarnings('ignore', 'statsmodels.tsa.arima_model.ARMA',\n",
    "                        FutureWarning)\n",
    "warnings.filterwarnings('ignore', 'statsmodels.tsa.arima_model.ARIMA',\n",
    "                        FutureWarning)"
   ]
  },
  {
   "cell_type": "code",
   "execution_count": 9,
   "id": "cc20e960",
   "metadata": {},
   "outputs": [
    {
     "name": "stderr",
     "output_type": "stream",
     "text": [
      "C:\\Users\\91783\\anaconda3\\lib\\site-packages\\statsmodels\\base\\model.py:604: ConvergenceWarning: Maximum Likelihood optimization failed to converge. Check mle_retvals\n",
      "  warnings.warn(\"Maximum Likelihood optimization failed to \"\n"
     ]
    },
    {
     "data": {
      "text/html": [
       "<table class=\"simpletable\">\n",
       "<caption>SARIMAX Results</caption>\n",
       "<tr>\n",
       "  <th>Dep. Variable:</th>         <td>PM2.5</td>      <th>  No. Observations:  </th>    <td>304</td>   \n",
       "</tr>\n",
       "<tr>\n",
       "  <th>Model:</th>            <td>ARIMA(1, 2, 3)</td>  <th>  Log Likelihood     </th> <td>-1590.503</td>\n",
       "</tr>\n",
       "<tr>\n",
       "  <th>Date:</th>            <td>Thu, 13 Oct 2022</td> <th>  AIC                </th> <td>3191.006</td> \n",
       "</tr>\n",
       "<tr>\n",
       "  <th>Time:</th>                <td>14:08:09</td>     <th>  BIC                </th> <td>3209.559</td> \n",
       "</tr>\n",
       "<tr>\n",
       "  <th>Sample:</th>             <td>01-01-2021</td>    <th>  HQIC               </th> <td>3198.429</td> \n",
       "</tr>\n",
       "<tr>\n",
       "  <th></th>                   <td>- 10-31-2021</td>   <th>                     </th>     <td> </td>    \n",
       "</tr>\n",
       "<tr>\n",
       "  <th>Covariance Type:</th>        <td>opg</td>       <th>                     </th>     <td> </td>    \n",
       "</tr>\n",
       "</table>\n",
       "<table class=\"simpletable\">\n",
       "<tr>\n",
       "     <td></td>       <th>coef</th>     <th>std err</th>      <th>z</th>      <th>P>|z|</th>  <th>[0.025</th>    <th>0.975]</th>  \n",
       "</tr>\n",
       "<tr>\n",
       "  <th>ar.L1</th>  <td>    0.2789</td> <td>    0.150</td> <td>    1.861</td> <td> 0.063</td> <td>   -0.015</td> <td>    0.573</td>\n",
       "</tr>\n",
       "<tr>\n",
       "  <th>ma.L1</th>  <td>   -1.8033</td> <td>    0.195</td> <td>   -9.266</td> <td> 0.000</td> <td>   -2.185</td> <td>   -1.422</td>\n",
       "</tr>\n",
       "<tr>\n",
       "  <th>ma.L2</th>  <td>    0.6139</td> <td>    0.324</td> <td>    1.893</td> <td> 0.058</td> <td>   -0.022</td> <td>    1.249</td>\n",
       "</tr>\n",
       "<tr>\n",
       "  <th>ma.L3</th>  <td>    0.1917</td> <td>    0.151</td> <td>    1.266</td> <td> 0.205</td> <td>   -0.105</td> <td>    0.488</td>\n",
       "</tr>\n",
       "<tr>\n",
       "  <th>sigma2</th> <td> 2094.5673</td> <td>  256.470</td> <td>    8.167</td> <td> 0.000</td> <td> 1591.896</td> <td> 2597.238</td>\n",
       "</tr>\n",
       "</table>\n",
       "<table class=\"simpletable\">\n",
       "<tr>\n",
       "  <th>Ljung-Box (L1) (Q):</th>     <td>0.03</td> <th>  Jarque-Bera (JB):  </th> <td>113.65</td>\n",
       "</tr>\n",
       "<tr>\n",
       "  <th>Prob(Q):</th>                <td>0.86</td> <th>  Prob(JB):          </th>  <td>0.00</td> \n",
       "</tr>\n",
       "<tr>\n",
       "  <th>Heteroskedasticity (H):</th> <td>1.03</td> <th>  Skew:              </th>  <td>1.04</td> \n",
       "</tr>\n",
       "<tr>\n",
       "  <th>Prob(H) (two-sided):</th>    <td>0.89</td> <th>  Kurtosis:          </th>  <td>5.18</td> \n",
       "</tr>\n",
       "</table><br/><br/>Warnings:<br/>[1] Covariance matrix calculated using the outer product of gradients (complex-step)."
      ],
      "text/plain": [
       "<class 'statsmodels.iolib.summary.Summary'>\n",
       "\"\"\"\n",
       "                               SARIMAX Results                                \n",
       "==============================================================================\n",
       "Dep. Variable:                  PM2.5   No. Observations:                  304\n",
       "Model:                 ARIMA(1, 2, 3)   Log Likelihood               -1590.503\n",
       "Date:                Thu, 13 Oct 2022   AIC                           3191.006\n",
       "Time:                        14:08:09   BIC                           3209.559\n",
       "Sample:                    01-01-2021   HQIC                          3198.429\n",
       "                         - 10-31-2021                                         \n",
       "Covariance Type:                  opg                                         \n",
       "==============================================================================\n",
       "                 coef    std err          z      P>|z|      [0.025      0.975]\n",
       "------------------------------------------------------------------------------\n",
       "ar.L1          0.2789      0.150      1.861      0.063      -0.015       0.573\n",
       "ma.L1         -1.8033      0.195     -9.266      0.000      -2.185      -1.422\n",
       "ma.L2          0.6139      0.324      1.893      0.058      -0.022       1.249\n",
       "ma.L3          0.1917      0.151      1.266      0.205      -0.105       0.488\n",
       "sigma2      2094.5673    256.470      8.167      0.000    1591.896    2597.238\n",
       "===================================================================================\n",
       "Ljung-Box (L1) (Q):                   0.03   Jarque-Bera (JB):               113.65\n",
       "Prob(Q):                              0.86   Prob(JB):                         0.00\n",
       "Heteroskedasticity (H):               1.03   Skew:                             1.04\n",
       "Prob(H) (two-sided):                  0.89   Kurtosis:                         5.18\n",
       "===================================================================================\n",
       "\n",
       "Warnings:\n",
       "[1] Covariance matrix calculated using the outer product of gradients (complex-step).\n",
       "\"\"\""
      ]
     },
     "execution_count": 9,
     "metadata": {},
     "output_type": "execute_result"
    }
   ],
   "source": [
    "from statsmodels.tsa.arima.model import ARIMA,ARIMAResults\n",
    "model = ARIMA(train_data['PM2.5'],order=(1,2,3))\n",
    "results = model.fit()\n",
    "results.summary()"
   ]
  },
  {
   "cell_type": "code",
   "execution_count": 10,
   "id": "65a82dca",
   "metadata": {},
   "outputs": [],
   "source": [
    "# Obtain predicted values on the test set\n",
    "start = len(train_data)\n",
    "end = len(train_data) + len(test_data) - 1\n",
    "predictions = results.predict(start=start,end=end,dynamic=True,typ='levels').rename('ARIMA Predictions')"
   ]
  },
  {
   "cell_type": "code",
   "execution_count": 11,
   "id": "d0b72c52",
   "metadata": {},
   "outputs": [
    {
     "name": "stdout",
     "output_type": "stream",
     "text": [
      "predicted = 108.30157833114541, expected = 90.12\n",
      "predicted = 105.32700425415456, expected = 170.65\n",
      "predicted = 105.77469838121428, expected = 157.98\n",
      "predicted = 107.17683465829616, expected = 144.02\n",
      "predicted = 108.84515691596854, expected = 61.85\n",
      "predicted = 110.58771623060798, expected = 153.96\n",
      "predicted = 112.35097964324272, expected = 55.08\n",
      "predicted = 114.12001725667842, expected = 36.68\n",
      "predicted = 115.89066524671192, expected = 47.06\n",
      "predicted = 117.66176235739016, expected = 79.04\n",
      "predicted = 119.43298472408232, expected = 240.02\n",
      "predicted = 121.2042420236354, expected = 89.37\n",
      "predicted = 122.97550906567298, expected = 243.41\n",
      "predicted = 124.74677882480849, expected = 146.21\n",
      "predicted = 126.51804934172002, expected = 190.12\n",
      "predicted = 128.28932006996897, expected = 203.1\n",
      "predicted = 130.0605908571582, expected = 240.0\n",
      "predicted = 131.83186166078534, expected = 201.74\n",
      "predicted = 133.60313246899688, expected = 173.63\n",
      "predicted = 135.374403278487, expected = 195.11\n",
      "predicted = 137.1456740883337, expected = 152.3\n",
      "predicted = 138.91694489827984, expected = 115.72\n",
      "predicted = 140.68821570825372, expected = 125.88\n",
      "predicted = 142.45948651823534, expected = 130.97\n",
      "predicted = 144.2307573282191, expected = 144.6\n",
      "predicted = 146.00202813820349, expected = 224.11\n",
      "predicted = 147.77329894818803, expected = 187.12\n",
      "predicted = 149.54456975817263, expected = 173.52\n",
      "predicted = 151.3158405681572, expected = 170.6\n",
      "predicted = 153.0871113781418, expected = 118.75\n",
      "predicted = 154.8583821881264, expected = 127.45\n",
      "predicted = 156.629652998111, expected = 164.13\n",
      "predicted = 158.4009238080956, expected = 68.19\n",
      "predicted = 160.1721946180802, expected = 188.06\n",
      "predicted = 161.9434654280648, expected = 53.41\n",
      "predicted = 163.7147362380494, expected = 76.21\n",
      "predicted = 165.486007048034, expected = 42.58\n",
      "predicted = 167.2572778580186, expected = 47.22\n",
      "predicted = 169.0285486680032, expected = 78.03\n",
      "predicted = 170.7998194779878, expected = 106.02\n",
      "predicted = 172.5710902879724, expected = 418.5\n",
      "predicted = 174.342361097957, expected = 91.58\n",
      "predicted = 176.1136319079416, expected = 158.47\n",
      "predicted = 177.8849027179262, expected = 137.51\n",
      "predicted = 179.6561735279108, expected = 172.9\n",
      "predicted = 181.4274443378954, expected = 213.97\n",
      "predicted = 183.19871514788, expected = 174.45\n",
      "predicted = 184.9699859578646, expected = 82.18\n",
      "predicted = 186.7412567678492, expected = 72.37\n",
      "predicted = 188.5125275778338, expected = 167.35\n",
      "predicted = 190.2837983878184, expected = 253.97\n",
      "predicted = 192.055069197803, expected = 190.25\n",
      "predicted = 193.8263400077876, expected = 163.13\n",
      "predicted = 195.5976108177722, expected = 129.79\n",
      "predicted = 197.3688816277568, expected = 191.57\n",
      "predicted = 199.1401524377414, expected = 195.31\n",
      "predicted = 200.911423247726, expected = 92.11\n",
      "predicted = 202.6826940577106, expected = 124.25\n",
      "predicted = 204.4539648676952, expected = 105.15\n",
      "predicted = 206.2252356776798, expected = 161.22\n",
      "predicted = 207.9965064876644, expected = 156.41\n"
     ]
    }
   ],
   "source": [
    "# Compare predictions to expected values\n",
    "for i in range(len(predictions)):\n",
    "    print(f\"predicted = {predictions[i]}, expected = {test_data['PM2.5'][i]}\")"
   ]
  },
  {
   "cell_type": "code",
   "execution_count": 12,
   "id": "020b870a",
   "metadata": {},
   "outputs": [
    {
     "name": "stdout",
     "output_type": "stream",
     "text": [
      "The history saving thread hit an unexpected error (OperationalError('database is locked')).History will not be written to the database.\n"
     ]
    },
    {
     "data": {
      "text/html": [
       "<div>\n",
       "<style scoped>\n",
       "    .dataframe tbody tr th:only-of-type {\n",
       "        vertical-align: middle;\n",
       "    }\n",
       "\n",
       "    .dataframe tbody tr th {\n",
       "        vertical-align: top;\n",
       "    }\n",
       "\n",
       "    .dataframe thead th {\n",
       "        text-align: right;\n",
       "    }\n",
       "</style>\n",
       "<table border=\"1\" class=\"dataframe\">\n",
       "  <thead>\n",
       "    <tr style=\"text-align: right;\">\n",
       "      <th></th>\n",
       "      <th>Actual</th>\n",
       "      <th>Predicted</th>\n",
       "    </tr>\n",
       "    <tr>\n",
       "      <th>Date</th>\n",
       "      <th></th>\n",
       "      <th></th>\n",
       "    </tr>\n",
       "  </thead>\n",
       "  <tbody>\n",
       "    <tr>\n",
       "      <th>2021-11-01</th>\n",
       "      <td>90.12</td>\n",
       "      <td>108.301578</td>\n",
       "    </tr>\n",
       "    <tr>\n",
       "      <th>2021-11-02</th>\n",
       "      <td>170.65</td>\n",
       "      <td>105.327004</td>\n",
       "    </tr>\n",
       "    <tr>\n",
       "      <th>2021-11-03</th>\n",
       "      <td>157.98</td>\n",
       "      <td>105.774698</td>\n",
       "    </tr>\n",
       "    <tr>\n",
       "      <th>2021-11-04</th>\n",
       "      <td>144.02</td>\n",
       "      <td>107.176835</td>\n",
       "    </tr>\n",
       "    <tr>\n",
       "      <th>2021-11-05</th>\n",
       "      <td>61.85</td>\n",
       "      <td>108.845157</td>\n",
       "    </tr>\n",
       "  </tbody>\n",
       "</table>\n",
       "</div>"
      ],
      "text/plain": [
       "            Actual   Predicted\n",
       "Date                          \n",
       "2021-11-01   90.12  108.301578\n",
       "2021-11-02  170.65  105.327004\n",
       "2021-11-03  157.98  105.774698\n",
       "2021-11-04  144.02  107.176835\n",
       "2021-11-05   61.85  108.845157"
      ]
     },
     "execution_count": 12,
     "metadata": {},
     "output_type": "execute_result"
    }
   ],
   "source": [
    "compare = pd.DataFrame(columns=['Actual','Predicted'])\n",
    "compare['Actual'] = test_data['PM2.5']\n",
    "compare['Predicted'] = predictions\n",
    "compare.head()"
   ]
  },
  {
   "cell_type": "code",
   "execution_count": 13,
   "id": "a3ce2bd4",
   "metadata": {},
   "outputs": [
    {
     "data": {
      "image/png": "[encoded data removed]",
      "text/plain": [
       "<Figure size 360x288 with 1 Axes>"
      ]
     },
     "metadata": {
      "needs_background": "light"
     },
     "output_type": "display_data"
    }
   ],
   "source": [
    "compare.plot(legend=True,figsize=(5, 4))\n",
    "plt.ylabel('AirPolluton PM2.5')\n",
    "plt.show()"
   ]
  },
  {
   "cell_type": "code",
   "execution_count": 14,
   "id": "fd9ed88f",
   "metadata": {},
   "outputs": [
    {
     "name": "stdout",
     "output_type": "stream",
     "text": [
      "ARIMA MAE : 56.60815607946653\n",
      "ARIMA MSE : 5067.1068238496555\n"
     ]
    }
   ],
   "source": [
    "#Evaluate the Model\n",
    "from sklearn.metrics import mean_squared_error,mean_absolute_error\n",
    "print(f\"ARIMA MAE : {mean_absolute_error(compare['Actual'],compare['Predicted'])}\")\n",
    "print(f\"ARIMA MSE : {mean_squared_error(compare['Actual'],compare['Predicted'])}\")"
   ]
  },
  {
   "cell_type": "code",
   "execution_count": 15,
   "id": "6a653fd4",
   "metadata": {},
   "outputs": [
    {
     "name": "stdout",
     "output_type": "stream",
     "text": [
      "RMSE\n",
      "71.18361345035567\n"
     ]
    }
   ],
   "source": [
    "rmse = np.mean((compare['Predicted']- compare['Actual'])**2)**.5  # RMSE\n",
    "print('RMSE')\n",
    "print(rmse)"
   ]
  },
  {
   "cell_type": "code",
   "execution_count": 16,
   "id": "74a7177b",
   "metadata": {},
   "outputs": [],
   "source": [
    "#Normalising data\n",
    "from sklearn.preprocessing import MinMaxScaler\n",
    "\n",
    "values = df.values\n",
    "scaler = MinMaxScaler(feature_range=(0, 1))\n",
    "scaled_dataset = scaler.fit_transform(values)"
   ]
  },
  {
   "cell_type": "code",
   "execution_count": 17,
   "id": "c03f52d4",
   "metadata": {},
   "outputs": [
    {
     "data": {
      "text/plain": [
       "array([[0.52260448],\n",
       "       [0.37205036]])"
      ]
     },
     "execution_count": 17,
     "metadata": {},
     "output_type": "execute_result"
    }
   ],
   "source": [
    "scaled_dataset[:2,:]"
   ]
  },
  {
   "cell_type": "code",
   "execution_count": 18,
   "id": "dba0cb1a",
   "metadata": {},
   "outputs": [],
   "source": [
    "#Creating a window for previous data\n",
    "def to_supervised(train):\n",
    "    window_size = 4\n",
    "    X = []\n",
    "    Y = []\n",
    "    for i in range(window_size, len(train)):\n",
    "        X.append(train[i-window_size:i,:])\n",
    "        Y.append(train[i,0:1])\n",
    "    \n",
    "    return X,Y"
   ]
  },
  {
   "cell_type": "code",
   "execution_count": 19,
   "id": "feb16600",
   "metadata": {},
   "outputs": [
    {
     "name": "stdout",
     "output_type": "stream",
     "text": [
      "Y (361, 1)\n",
      "X (361, 4, 1)\n"
     ]
    }
   ],
   "source": [
    "X, Y = to_supervised(scaled_dataset)\n",
    "X = np.array(X)\n",
    "Y = np.array(Y)\n",
    "print('Y' ,Y.shape)\n",
    "print('X' ,X.shape)"
   ]
  },
  {
   "cell_type": "code",
   "execution_count": 20,
   "id": "805faf0c",
   "metadata": {},
   "outputs": [
    {
     "name": "stdout",
     "output_type": "stream",
     "text": [
      "X_train (300, 4, 1)\n",
      "X_test (61, 4, 1)\n",
      "Y_train (300, 1)\n",
      "Y_test (61, 1)\n"
     ]
    }
   ],
   "source": [
    "#Splitting the dataset\n",
    "n_train = 61\n",
    "X_train, X_test = X[n_train:,] , X[:n_train,]\n",
    "print('X_train' ,X_train.shape)\n",
    "print('X_test' ,X_test.shape)\n",
    "\n",
    "Y_train, Y_test = Y[n_train:,] , Y[:n_train,]\n",
    "print('Y_train' ,Y_train.shape)\n",
    "print('Y_test' ,Y_test.shape)"
   ]
  },
  {
   "cell_type": "code",
   "execution_count": 21,
   "id": "7e92b5ef",
   "metadata": {},
   "outputs": [],
   "source": [
    "#Importing LSTM model\n",
    "from keras.models import Sequential\n",
    "from keras.layers import Dense, Dropout,LSTM\n",
    "model = Sequential()\n",
    "\n",
    "model.add(LSTM(units = 50, return_sequences = True, input_shape=(X_train.shape[1], X_train.shape[2])))\n",
    "model.add(Dropout(0.2))\n",
    "\n",
    "model.add(LSTM(units = 50, return_sequences = True))\n",
    "model.add(Dropout(0.2))\n",
    "\n",
    "model.add(LSTM(units = 50))\n",
    "model.add(Dropout(0.2))\n",
    "\n",
    "model.add(Dense(units = 1))\n",
    "\n",
    "model.compile(optimizer = 'adam', loss = 'mean_squared_error')   "
   ]
  },
  {
   "cell_type": "code",
   "execution_count": 22,
   "id": "beb3e0d1",
   "metadata": {},
   "outputs": [
    {
     "name": "stdout",
     "output_type": "stream",
     "text": [
      "Epoch 1/50\n",
      "38/38 - 11s - loss: 0.0353 - val_loss: 0.0171 - 11s/epoch - 300ms/step\n",
      "Epoch 2/50\n",
      "38/38 - 0s - loss: 0.0268 - val_loss: 0.0218 - 232ms/epoch - 6ms/step\n",
      "Epoch 3/50\n",
      "38/38 - 0s - loss: 0.0264 - val_loss: 0.0213 - 250ms/epoch - 7ms/step\n",
      "Epoch 4/50\n",
      "38/38 - 0s - loss: 0.0255 - val_loss: 0.0205 - 235ms/epoch - 6ms/step\n",
      "Epoch 5/50\n",
      "38/38 - 0s - loss: 0.0258 - val_loss: 0.0205 - 227ms/epoch - 6ms/step\n",
      "Epoch 6/50\n",
      "38/38 - 0s - loss: 0.0251 - val_loss: 0.0195 - 226ms/epoch - 6ms/step\n",
      "Epoch 7/50\n",
      "38/38 - 0s - loss: 0.0241 - val_loss: 0.0185 - 214ms/epoch - 6ms/step\n",
      "Epoch 8/50\n",
      "38/38 - 0s - loss: 0.0236 - val_loss: 0.0180 - 232ms/epoch - 6ms/step\n",
      "Epoch 9/50\n",
      "38/38 - 0s - loss: 0.0228 - val_loss: 0.0172 - 219ms/epoch - 6ms/step\n",
      "Epoch 10/50\n",
      "38/38 - 0s - loss: 0.0235 - val_loss: 0.0177 - 224ms/epoch - 6ms/step\n",
      "Epoch 11/50\n",
      "38/38 - 0s - loss: 0.0236 - val_loss: 0.0169 - 232ms/epoch - 6ms/step\n",
      "Epoch 12/50\n",
      "38/38 - 0s - loss: 0.0228 - val_loss: 0.0166 - 207ms/epoch - 5ms/step\n",
      "Epoch 13/50\n",
      "38/38 - 0s - loss: 0.0225 - val_loss: 0.0162 - 205ms/epoch - 5ms/step\n",
      "Epoch 14/50\n",
      "38/38 - 0s - loss: 0.0225 - val_loss: 0.0163 - 207ms/epoch - 5ms/step\n",
      "Epoch 15/50\n",
      "38/38 - 0s - loss: 0.0225 - val_loss: 0.0161 - 207ms/epoch - 5ms/step\n",
      "Epoch 16/50\n",
      "38/38 - 0s - loss: 0.0219 - val_loss: 0.0155 - 187ms/epoch - 5ms/step\n",
      "Epoch 17/50\n",
      "38/38 - 0s - loss: 0.0221 - val_loss: 0.0155 - 182ms/epoch - 5ms/step\n",
      "Epoch 18/50\n",
      "38/38 - 0s - loss: 0.0221 - val_loss: 0.0149 - 190ms/epoch - 5ms/step\n",
      "Epoch 19/50\n",
      "38/38 - 0s - loss: 0.0217 - val_loss: 0.0146 - 184ms/epoch - 5ms/step\n",
      "Epoch 20/50\n",
      "38/38 - 0s - loss: 0.0214 - val_loss: 0.0146 - 180ms/epoch - 5ms/step\n",
      "Epoch 21/50\n",
      "38/38 - 0s - loss: 0.0215 - val_loss: 0.0144 - 177ms/epoch - 5ms/step\n",
      "Epoch 22/50\n",
      "38/38 - 0s - loss: 0.0211 - val_loss: 0.0138 - 203ms/epoch - 5ms/step\n",
      "Epoch 23/50\n",
      "38/38 - 0s - loss: 0.0210 - val_loss: 0.0134 - 226ms/epoch - 6ms/step\n",
      "Epoch 24/50\n",
      "38/38 - 0s - loss: 0.0204 - val_loss: 0.0129 - 222ms/epoch - 6ms/step\n",
      "Epoch 25/50\n",
      "38/38 - 0s - loss: 0.0207 - val_loss: 0.0128 - 203ms/epoch - 5ms/step\n",
      "Epoch 26/50\n",
      "38/38 - 0s - loss: 0.0207 - val_loss: 0.0129 - 265ms/epoch - 7ms/step\n",
      "Epoch 27/50\n",
      "38/38 - 0s - loss: 0.0207 - val_loss: 0.0124 - 203ms/epoch - 5ms/step\n",
      "Epoch 28/50\n",
      "38/38 - 0s - loss: 0.0199 - val_loss: 0.0124 - 219ms/epoch - 6ms/step\n",
      "Epoch 29/50\n",
      "38/38 - 0s - loss: 0.0201 - val_loss: 0.0122 - 203ms/epoch - 5ms/step\n",
      "Epoch 30/50\n",
      "38/38 - 0s - loss: 0.0197 - val_loss: 0.0116 - 219ms/epoch - 6ms/step\n",
      "Epoch 31/50\n",
      "38/38 - 0s - loss: 0.0199 - val_loss: 0.0115 - 203ms/epoch - 5ms/step\n",
      "Epoch 32/50\n",
      "38/38 - 0s - loss: 0.0196 - val_loss: 0.0114 - 219ms/epoch - 6ms/step\n",
      "Epoch 33/50\n",
      "38/38 - 0s - loss: 0.0197 - val_loss: 0.0115 - 203ms/epoch - 5ms/step\n",
      "Epoch 34/50\n",
      "38/38 - 0s - loss: 0.0193 - val_loss: 0.0112 - 204ms/epoch - 5ms/step\n",
      "Epoch 35/50\n",
      "38/38 - 0s - loss: 0.0198 - val_loss: 0.0113 - 219ms/epoch - 6ms/step\n",
      "Epoch 36/50\n",
      "38/38 - 0s - loss: 0.0193 - val_loss: 0.0110 - 203ms/epoch - 5ms/step\n",
      "Epoch 37/50\n",
      "38/38 - 0s - loss: 0.0193 - val_loss: 0.0108 - 219ms/epoch - 6ms/step\n",
      "Epoch 38/50\n",
      "38/38 - 0s - loss: 0.0188 - val_loss: 0.0105 - 220ms/epoch - 6ms/step\n",
      "Epoch 39/50\n",
      "38/38 - 0s - loss: 0.0190 - val_loss: 0.0107 - 203ms/epoch - 5ms/step\n",
      "Epoch 40/50\n",
      "38/38 - 0s - loss: 0.0183 - val_loss: 0.0105 - 203ms/epoch - 5ms/step\n",
      "Epoch 41/50\n",
      "38/38 - 0s - loss: 0.0185 - val_loss: 0.0102 - 219ms/epoch - 6ms/step\n",
      "Epoch 42/50\n",
      "38/38 - 0s - loss: 0.0189 - val_loss: 0.0104 - 202ms/epoch - 5ms/step\n",
      "Epoch 43/50\n",
      "38/38 - 0s - loss: 0.0187 - val_loss: 0.0102 - 198ms/epoch - 5ms/step\n",
      "Epoch 44/50\n",
      "38/38 - 0s - loss: 0.0183 - val_loss: 0.0102 - 203ms/epoch - 5ms/step\n",
      "Epoch 45/50\n",
      "38/38 - 0s - loss: 0.0184 - val_loss: 0.0102 - 203ms/epoch - 5ms/step\n",
      "Epoch 46/50\n",
      "38/38 - 0s - loss: 0.0190 - val_loss: 0.0102 - 178ms/epoch - 5ms/step\n",
      "Epoch 47/50\n",
      "38/38 - 0s - loss: 0.0189 - val_loss: 0.0102 - 201ms/epoch - 5ms/step\n",
      "Epoch 48/50\n",
      "38/38 - 0s - loss: 0.0182 - val_loss: 0.0100 - 208ms/epoch - 5ms/step\n",
      "Epoch 49/50\n",
      "38/38 - 0s - loss: 0.0182 - val_loss: 0.0100 - 204ms/epoch - 5ms/step\n",
      "Epoch 50/50\n",
      "38/38 - 0s - loss: 0.0183 - val_loss: 0.0100 - 207ms/epoch - 5ms/step\n"
     ]
    }
   ],
   "source": [
    "history = model.fit(X_train, Y_train, epochs=50,\n",
    "                    batch_size=8, validation_data=(X_test, Y_test),\n",
    "                    verbose=2, shuffle=False)"
   ]
  },
  {
   "cell_type": "code",
   "execution_count": 23,
   "id": "f442c3a2",
   "metadata": {},
   "outputs": [
    {
     "name": "stdout",
     "output_type": "stream",
     "text": [
      "2/2 [==============================] - 2s 0s/step\n",
      "0.010048724035457625\n",
      "0.10024332414409264\n"
     ]
    }
   ],
   "source": [
    "#Taking predictions\n",
    "Y_pred_3 = model.predict(X_test)\n",
    "\n",
    "from sklearn.metrics import mean_squared_error\n",
    "mse = mean_squared_error(Y_test, Y_pred_3)\n",
    "\n",
    "print(mse)\n",
    "rmse = np.sqrt(mse)\n",
    "print(rmse)"
   ]
  },
  {
   "cell_type": "code",
   "execution_count": 24,
   "id": "30775463",
   "metadata": {},
   "outputs": [],
   "source": [
    "d=pd.DataFrame(predictions)"
   ]
  },
  {
   "cell_type": "code",
   "execution_count": 25,
   "id": "83b62581",
   "metadata": {},
   "outputs": [],
   "source": [
    "d1=pd.DataFrame(Y_pred_3)"
   ]
  },
  {
   "cell_type": "code",
   "execution_count": 26,
   "id": "16fe3aaa",
   "metadata": {},
   "outputs": [],
   "source": [
    "d['LSTM_Y_pred_3'] = d1.values"
   ]
  },
  {
   "cell_type": "code",
   "execution_count": 27,
   "id": "b80f27b9",
   "metadata": {},
   "outputs": [
    {
     "data": {
      "text/html": [
       "<div>\n",
       "<style scoped>\n",
       "    .dataframe tbody tr th:only-of-type {\n",
       "        vertical-align: middle;\n",
       "    }\n",
       "\n",
       "    .dataframe tbody tr th {\n",
       "        vertical-align: top;\n",
       "    }\n",
       "\n",
       "    .dataframe thead th {\n",
       "        text-align: right;\n",
       "    }\n",
       "</style>\n",
       "<table border=\"1\" class=\"dataframe\">\n",
       "  <thead>\n",
       "    <tr style=\"text-align: right;\">\n",
       "      <th></th>\n",
       "      <th>ARIMA Predictions</th>\n",
       "      <th>LSTM_Y_pred_3</th>\n",
       "    </tr>\n",
       "  </thead>\n",
       "  <tbody>\n",
       "    <tr>\n",
       "      <th>2021-11-01</th>\n",
       "      <td>108.301578</td>\n",
       "      <td>0.271582</td>\n",
       "    </tr>\n",
       "    <tr>\n",
       "      <th>2021-11-02</th>\n",
       "      <td>105.327004</td>\n",
       "      <td>0.231216</td>\n",
       "    </tr>\n",
       "    <tr>\n",
       "      <th>2021-11-03</th>\n",
       "      <td>105.774698</td>\n",
       "      <td>0.168543</td>\n",
       "    </tr>\n",
       "    <tr>\n",
       "      <th>2021-11-04</th>\n",
       "      <td>107.176835</td>\n",
       "      <td>0.184887</td>\n",
       "    </tr>\n",
       "    <tr>\n",
       "      <th>2021-11-05</th>\n",
       "      <td>108.845157</td>\n",
       "      <td>0.107880</td>\n",
       "    </tr>\n",
       "    <tr>\n",
       "      <th>...</th>\n",
       "      <td>...</td>\n",
       "      <td>...</td>\n",
       "    </tr>\n",
       "    <tr>\n",
       "      <th>2021-12-27</th>\n",
       "      <td>200.911423</td>\n",
       "      <td>0.238209</td>\n",
       "    </tr>\n",
       "    <tr>\n",
       "      <th>2021-12-28</th>\n",
       "      <td>202.682694</td>\n",
       "      <td>0.218814</td>\n",
       "    </tr>\n",
       "    <tr>\n",
       "      <th>2021-12-29</th>\n",
       "      <td>204.453965</td>\n",
       "      <td>0.211923</td>\n",
       "    </tr>\n",
       "    <tr>\n",
       "      <th>2021-12-30</th>\n",
       "      <td>206.225236</td>\n",
       "      <td>0.293072</td>\n",
       "    </tr>\n",
       "    <tr>\n",
       "      <th>2021-12-31</th>\n",
       "      <td>207.996506</td>\n",
       "      <td>0.317549</td>\n",
       "    </tr>\n",
       "  </tbody>\n",
       "</table>\n",
       "<p>61 rows × 2 columns</p>\n",
       "</div>"
      ],
      "text/plain": [
       "            ARIMA Predictions  LSTM_Y_pred_3\n",
       "2021-11-01         108.301578       0.271582\n",
       "2021-11-02         105.327004       0.231216\n",
       "2021-11-03         105.774698       0.168543\n",
       "2021-11-04         107.176835       0.184887\n",
       "2021-11-05         108.845157       0.107880\n",
       "...                       ...            ...\n",
       "2021-12-27         200.911423       0.238209\n",
       "2021-12-28         202.682694       0.218814\n",
       "2021-12-29         204.453965       0.211923\n",
       "2021-12-30         206.225236       0.293072\n",
       "2021-12-31         207.996506       0.317549\n",
       "\n",
       "[61 rows x 2 columns]"
      ]
     },
     "execution_count": 27,
     "metadata": {},
     "output_type": "execute_result"
    }
   ],
   "source": [
    "d"
   ]
  },
  {
   "cell_type": "code",
   "execution_count": 28,
   "id": "dc0e5fd5",
   "metadata": {},
   "outputs": [
    {
     "name": "stdout",
     "output_type": "stream",
     "text": [
      "<class 'pandas.core.frame.DataFrame'>\n",
      "DatetimeIndex: 61 entries, 2021-11-01 to 2021-12-31\n",
      "Freq: D\n",
      "Data columns (total 2 columns):\n",
      " #   Column             Non-Null Count  Dtype  \n",
      "---  ------             --------------  -----  \n",
      " 0   ARIMA Predictions  61 non-null     float64\n",
      " 1   LSTM_Y_pred_3      61 non-null     float32\n",
      "dtypes: float32(1), float64(1)\n",
      "memory usage: 1.2 KB\n"
     ]
    }
   ],
   "source": [
    "d.info()"
   ]
  },
  {
   "cell_type": "code",
   "execution_count": 29,
   "id": "5acb0c5b",
   "metadata": {},
   "outputs": [],
   "source": [
    "a=add(d,d1)"
   ]
  },
  {
   "cell_type": "code",
   "execution_count": 30,
   "id": "9660243f",
   "metadata": {},
   "outputs": [
    {
     "data": {
      "text/html": [
       "<div>\n",
       "<style scoped>\n",
       "    .dataframe tbody tr th:only-of-type {\n",
       "        vertical-align: middle;\n",
       "    }\n",
       "\n",
       "    .dataframe tbody tr th {\n",
       "        vertical-align: top;\n",
       "    }\n",
       "\n",
       "    .dataframe thead th {\n",
       "        text-align: right;\n",
       "    }\n",
       "</style>\n",
       "<table border=\"1\" class=\"dataframe\">\n",
       "  <thead>\n",
       "    <tr style=\"text-align: right;\">\n",
       "      <th></th>\n",
       "      <th>ARIMA Predictions</th>\n",
       "      <th>LSTM_Y_pred_3</th>\n",
       "    </tr>\n",
       "  </thead>\n",
       "  <tbody>\n",
       "    <tr>\n",
       "      <th>2021-11-01</th>\n",
       "      <td>108.573160</td>\n",
       "      <td>0.543164</td>\n",
       "    </tr>\n",
       "    <tr>\n",
       "      <th>2021-11-02</th>\n",
       "      <td>105.558221</td>\n",
       "      <td>0.462433</td>\n",
       "    </tr>\n",
       "    <tr>\n",
       "      <th>2021-11-03</th>\n",
       "      <td>105.943241</td>\n",
       "      <td>0.337086</td>\n",
       "    </tr>\n",
       "    <tr>\n",
       "      <th>2021-11-04</th>\n",
       "      <td>107.361722</td>\n",
       "      <td>0.369774</td>\n",
       "    </tr>\n",
       "    <tr>\n",
       "      <th>2021-11-05</th>\n",
       "      <td>108.953037</td>\n",
       "      <td>0.215761</td>\n",
       "    </tr>\n",
       "    <tr>\n",
       "      <th>...</th>\n",
       "      <td>...</td>\n",
       "      <td>...</td>\n",
       "    </tr>\n",
       "    <tr>\n",
       "      <th>2021-12-27</th>\n",
       "      <td>201.149632</td>\n",
       "      <td>0.476417</td>\n",
       "    </tr>\n",
       "    <tr>\n",
       "      <th>2021-12-28</th>\n",
       "      <td>202.901508</td>\n",
       "      <td>0.437628</td>\n",
       "    </tr>\n",
       "    <tr>\n",
       "      <th>2021-12-29</th>\n",
       "      <td>204.665888</td>\n",
       "      <td>0.423846</td>\n",
       "    </tr>\n",
       "    <tr>\n",
       "      <th>2021-12-30</th>\n",
       "      <td>206.518308</td>\n",
       "      <td>0.586145</td>\n",
       "    </tr>\n",
       "    <tr>\n",
       "      <th>2021-12-31</th>\n",
       "      <td>208.314056</td>\n",
       "      <td>0.635099</td>\n",
       "    </tr>\n",
       "  </tbody>\n",
       "</table>\n",
       "<p>61 rows × 2 columns</p>\n",
       "</div>"
      ],
      "text/plain": [
       "            ARIMA Predictions  LSTM_Y_pred_3\n",
       "2021-11-01         108.573160       0.543164\n",
       "2021-11-02         105.558221       0.462433\n",
       "2021-11-03         105.943241       0.337086\n",
       "2021-11-04         107.361722       0.369774\n",
       "2021-11-05         108.953037       0.215761\n",
       "...                       ...            ...\n",
       "2021-12-27         201.149632       0.476417\n",
       "2021-12-28         202.901508       0.437628\n",
       "2021-12-29         204.665888       0.423846\n",
       "2021-12-30         206.518308       0.586145\n",
       "2021-12-31         208.314056       0.635099\n",
       "\n",
       "[61 rows x 2 columns]"
      ]
     },
     "execution_count": 30,
     "metadata": {},
     "output_type": "execute_result"
    }
   ],
   "source": [
    "a"
   ]
  },
  {
   "cell_type": "code",
   "execution_count": 31,
   "id": "975ed3d1",
   "metadata": {},
   "outputs": [],
   "source": [
    "total = a['ARIMA Predictions'] + a['LSTM_Y_pred_3']"
   ]
  },
  {
   "cell_type": "code",
   "execution_count": 32,
   "id": "e8c86abb",
   "metadata": {},
   "outputs": [],
   "source": [
    "total=total/2"
   ]
  },
  {
   "cell_type": "code",
   "execution_count": 33,
   "id": "d4ad2322",
   "metadata": {},
   "outputs": [
    {
     "data": {
      "text/plain": [
       "2021-11-01     54.558162\n",
       "2021-11-02     53.010327\n",
       "2021-11-03     53.140164\n",
       "2021-11-04     53.865748\n",
       "2021-11-05     54.584399\n",
       "                 ...    \n",
       "2021-12-27    100.813025\n",
       "2021-12-28    101.669568\n",
       "2021-12-29    102.544867\n",
       "2021-12-30    103.552227\n",
       "2021-12-31    104.474577\n",
       "Freq: D, Length: 61, dtype: float64"
      ]
     },
     "execution_count": 33,
     "metadata": {},
     "output_type": "execute_result"
    }
   ],
   "source": [
    "total"
   ]
  },
  {
   "cell_type": "code",
   "execution_count": 34,
   "id": "38203687",
   "metadata": {},
   "outputs": [],
   "source": [
    "compare['Predicted'] = total"
   ]
  },
  {
   "cell_type": "code",
   "execution_count": 35,
   "id": "73074a29",
   "metadata": {},
   "outputs": [
    {
     "name": "stdout",
     "output_type": "stream",
     "text": [
      "ARIMA MAE : 74.12457944692869\n",
      "ARIMA MSE : 8968.205251269743\n"
     ]
    }
   ],
   "source": [
    "#Evaluate the Model\n",
    "from sklearn.metrics import mean_squared_error,mean_absolute_error\n",
    "print(f\"ARIMA MAE : {mean_absolute_error(compare['Actual'],compare['Predicted'])}\")\n",
    "print(f\"ARIMA MSE : {mean_squared_error(compare['Actual'],compare['Predicted'])}\")"
   ]
  },
  {
   "cell_type": "code",
   "execution_count": 36,
   "id": "d719f486",
   "metadata": {},
   "outputs": [
    {
     "data": {
      "text/plain": [
       "Date\n",
       "2021-11-01     90.12\n",
       "2021-11-02    170.65\n",
       "2021-11-03    157.98\n",
       "2021-11-04    144.02\n",
       "2021-11-05     61.85\n",
       "               ...  \n",
       "2021-12-27     92.11\n",
       "2021-12-28    124.25\n",
       "2021-12-29    105.15\n",
       "2021-12-30    161.22\n",
       "2021-12-31    156.41\n",
       "Freq: D, Name: Actual, Length: 61, dtype: float64"
      ]
     },
     "execution_count": 36,
     "metadata": {},
     "output_type": "execute_result"
    }
   ],
   "source": [
    "compare['Actual']"
   ]
  },
  {
   "cell_type": "code",
   "execution_count": 37,
   "id": "adba22c0",
   "metadata": {},
   "outputs": [
    {
     "name": "stdout",
     "output_type": "stream",
     "text": [
      "RMSE\n",
      "94.70060850527702\n"
     ]
    }
   ],
   "source": [
    "rmse = np.mean((compare['Predicted']- compare['Actual'])**2)**.5  # RMSE\n",
    "print('RMSE')\n",
    "print(rmse)"
   ]
  },
  {
   "cell_type": "code",
   "execution_count": null,
   "id": "1b117d6e",
   "metadata": {},
   "outputs": [],
   "source": []
  }
 ],
 "metadata": {
  "kernelspec": {
   "display_name": "Python 3 (ipykernel)",
   "language": "python",
   "name": "python3"
  },
  "language_info": {
   "codemirror_mode": {
    "name": "ipython",
    "version": 3
   },
   "file_extension": ".py",
   "mimetype": "text/x-python",
   "name": "python",
   "nbconvert_exporter": "python",
   "pygments_lexer": "ipython3",
   "version": "3.9.12"
  }
 },
 "nbformat": 4,
 "nbformat_minor": 5
}
