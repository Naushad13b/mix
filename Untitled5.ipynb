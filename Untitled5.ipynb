{
 "cells": [
  {
   "cell_type": "code",
   "execution_count": 2,
   "id": "e26577c4",
   "metadata": {},
   "outputs": [
    {
     "data": {
      "text/html": [
       "<div>\n",
       "<style scoped>\n",
       "    .dataframe tbody tr th:only-of-type {\n",
       "        vertical-align: middle;\n",
       "    }\n",
       "\n",
       "    .dataframe tbody tr th {\n",
       "        vertical-align: top;\n",
       "    }\n",
       "\n",
       "    .dataframe thead th {\n",
       "        text-align: right;\n",
       "    }\n",
       "</style>\n",
       "<table border=\"1\" class=\"dataframe\">\n",
       "  <thead>\n",
       "    <tr style=\"text-align: right;\">\n",
       "      <th></th>\n",
       "      <th>Algorithm</th>\n",
       "      <th>Random Forest</th>\n",
       "      <th>XGB boost</th>\n",
       "      <th>LR</th>\n",
       "      <th>SVM</th>\n",
       "      <th>MLP</th>\n",
       "      <th>Extra Tree</th>\n",
       "      <th>lgb</th>\n",
       "      <th>Decision tree</th>\n",
       "      <th>ANN</th>\n",
       "      <th>VOTING-CF</th>\n",
       "      <th>STACKING-CF</th>\n",
       "    </tr>\n",
       "  </thead>\n",
       "  <tbody>\n",
       "    <tr>\n",
       "      <th>0</th>\n",
       "      <td>NaN</td>\n",
       "      <td>NaN</td>\n",
       "      <td>NaN</td>\n",
       "      <td>NaN</td>\n",
       "      <td>NaN</td>\n",
       "      <td>NaN</td>\n",
       "      <td>NaN</td>\n",
       "      <td>NaN</td>\n",
       "      <td>NaN</td>\n",
       "      <td>Algorithm</td>\n",
       "      <td>NaN</td>\n",
       "      <td>NaN</td>\n",
       "    </tr>\n",
       "    <tr>\n",
       "      <th>1</th>\n",
       "      <td>Precision(%)</td>\n",
       "      <td>86.09</td>\n",
       "      <td>79.35</td>\n",
       "      <td>77.87</td>\n",
       "      <td>71.38</td>\n",
       "      <td>75.33</td>\n",
       "      <td>67.06</td>\n",
       "      <td>82.58</td>\n",
       "      <td>75.08</td>\n",
       "      <td>61.09</td>\n",
       "      <td>82.60</td>\n",
       "      <td>81.18</td>\n",
       "    </tr>\n",
       "    <tr>\n",
       "      <th>2</th>\n",
       "      <td>NaN</td>\n",
       "      <td>NaN</td>\n",
       "      <td>NaN</td>\n",
       "      <td>NaN</td>\n",
       "      <td>NaN</td>\n",
       "      <td>NaN</td>\n",
       "      <td>NaN</td>\n",
       "      <td>NaN</td>\n",
       "      <td>NaN</td>\n",
       "      <td>NaN</td>\n",
       "      <td>NaN</td>\n",
       "      <td>NaN</td>\n",
       "    </tr>\n",
       "    <tr>\n",
       "      <th>3</th>\n",
       "      <td>recall(%)</td>\n",
       "      <td>64.20</td>\n",
       "      <td>73.39</td>\n",
       "      <td>67.38</td>\n",
       "      <td>78.99</td>\n",
       "      <td>78.51</td>\n",
       "      <td>78.56</td>\n",
       "      <td>67.05</td>\n",
       "      <td>72.32</td>\n",
       "      <td>65.59</td>\n",
       "      <td>62.29</td>\n",
       "      <td>61.88</td>\n",
       "    </tr>\n",
       "    <tr>\n",
       "      <th>4</th>\n",
       "      <td>NaN</td>\n",
       "      <td>NaN</td>\n",
       "      <td>NaN</td>\n",
       "      <td>NaN</td>\n",
       "      <td>NaN</td>\n",
       "      <td>NaN</td>\n",
       "      <td>NaN</td>\n",
       "      <td>NaN</td>\n",
       "      <td>NaN</td>\n",
       "      <td>NaN</td>\n",
       "      <td>NaN</td>\n",
       "      <td>NaN</td>\n",
       "    </tr>\n",
       "  </tbody>\n",
       "</table>\n",
       "</div>"
      ],
      "text/plain": [
       "      Algorithm  Random Forest  XGB boost     LR    SVM    MLP  Extra Tree  \\\n",
       "0           NaN            NaN        NaN    NaN    NaN    NaN         NaN   \n",
       "1  Precision(%)          86.09      79.35  77.87  71.38  75.33       67.06   \n",
       "2           NaN            NaN        NaN    NaN    NaN    NaN         NaN   \n",
       "3     recall(%)          64.20      73.39  67.38  78.99  78.51       78.56   \n",
       "4           NaN            NaN        NaN    NaN    NaN    NaN         NaN   \n",
       "\n",
       "     lgb  Decision tree        ANN  VOTING-CF  STACKING-CF  \n",
       "0    NaN            NaN  Algorithm        NaN          NaN  \n",
       "1  82.58          75.08      61.09      82.60        81.18  \n",
       "2    NaN            NaN        NaN        NaN          NaN  \n",
       "3  67.05          72.32      65.59      62.29        61.88  \n",
       "4    NaN            NaN        NaN        NaN          NaN  "
      ]
     },
     "execution_count": 2,
     "metadata": {},
     "output_type": "execute_result"
    }
   ],
   "source": [
    "import pandas as pd\n",
    "import numpy as np\n",
    "import matplotlib.pyplot as plt\n",
    "# Import data using datetime and set index to datetime\n",
    "df = pd.read_csv(r'C:\\Users\\91783\\Desktop\\m.tech\\m.csv')\n",
    "\n",
    "df.head()"
   ]
  },
  {
   "cell_type": "code",
   "execution_count": 5,
   "id": "66b151e8",
   "metadata": {},
   "outputs": [
    {
     "name": "stderr",
     "output_type": "stream",
     "text": [
      "C:\\Users\\91783\\AppData\\Local\\Temp\\ipykernel_10636\\694284796.py:1: FutureWarning: Dropping of nuisance columns in DataFrame.rank is deprecated; in a future version this will raise TypeError. Select only valid columns before calling rank.\n",
      "  df.rank(axis=1).mean()\n"
     ]
    },
    {
     "data": {
      "text/plain": [
       "Random Forest    6.500000\n",
       "XGB boost        6.000000\n",
       "LR               3.642857\n",
       "SVM              4.357143\n",
       "MLP              3.857143\n",
       "Extra Tree       3.642857\n",
       "lgb              8.000000\n",
       "Decision tree    4.285714\n",
       "VOTING-CF        8.571429\n",
       "STACKING-CF      6.142857\n",
       "dtype: float64"
      ]
     },
     "execution_count": 5,
     "metadata": {},
     "output_type": "execute_result"
    }
   ],
   "source": [
    "df.rank(axis=1).mean()"
   ]
  },
  {
   "cell_type": "code",
   "execution_count": null,
   "id": "0db63e28",
   "metadata": {},
   "outputs": [],
   "source": []
  }
 ],
 "metadata": {
  "kernelspec": {
   "display_name": "Python 3 (ipykernel)",
   "language": "python",
   "name": "python3"
  },
  "language_info": {
   "codemirror_mode": {
    "name": "ipython",
    "version": 3
   },
   "file_extension": ".py",
   "mimetype": "text/x-python",
   "name": "python",
   "nbconvert_exporter": "python",
   "pygments_lexer": "ipython3",
   "version": "3.9.12"
  }
 },
 "nbformat": 4,
 "nbformat_minor": 5
}
