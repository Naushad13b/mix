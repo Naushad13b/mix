{
 "cells": [
  {
   "cell_type": "code",
   "execution_count": 3,
   "id": "ecdf4de6",
   "metadata": {},
   "outputs": [
    {
     "data": {
      "text/html": [
       "        <script type=\"text/javascript\">\n",
       "        window.PlotlyConfig = {MathJaxConfig: 'local'};\n",
       "        if (window.MathJax && window.MathJax.Hub && window.MathJax.Hub.Config) {window.MathJax.Hub.Config({SVG: {font: \"STIX-Web\"}});}\n",
       "        if (typeof require !== 'undefined') {\n",
       "        require.undef(\"plotly\");\n",
       "        requirejs.config({\n",
       "            paths: {\n",
       "                'plotly': ['https://cdn.plot.ly/plotly-2.12.1.min']\n",
       "            }\n",
       "        });\n",
       "        require(['plotly'], function(Plotly) {\n",
       "            window._Plotly = Plotly;\n",
       "        });\n",
       "        }\n",
       "        </script>\n",
       "        "
      ]
     },
     "metadata": {},
     "output_type": "display_data"
    }
   ],
   "source": [
    "import pandas as pd\n",
    "import numpy as np\n",
    "import matplotlib.pyplot as plt\n",
    "# plotly is an advanced visualization tool\n",
    "import plotly as py\n",
    "from plotly.offline import init_notebook_mode, iplot\n",
    "init_notebook_mode(connected=True)\n",
    "import plotly.graph_objs as go\n",
    "import warnings\n",
    "warnings.filterwarnings(\"ignore\")"
   ]
  },
  {
   "cell_type": "code",
   "execution_count": 4,
   "id": "f829189f",
   "metadata": {},
   "outputs": [
    {
     "data": {
      "text/html": [
       "<div>\n",
       "<style scoped>\n",
       "    .dataframe tbody tr th:only-of-type {\n",
       "        vertical-align: middle;\n",
       "    }\n",
       "\n",
       "    .dataframe tbody tr th {\n",
       "        vertical-align: top;\n",
       "    }\n",
       "\n",
       "    .dataframe thead th {\n",
       "        text-align: right;\n",
       "    }\n",
       "</style>\n",
       "<table border=\"1\" class=\"dataframe\">\n",
       "  <thead>\n",
       "    <tr style=\"text-align: right;\">\n",
       "      <th></th>\n",
       "      <th>Date</th>\n",
       "      <th>PM2.5</th>\n",
       "    </tr>\n",
       "  </thead>\n",
       "  <tbody>\n",
       "    <tr>\n",
       "      <th>0</th>\n",
       "      <td>2021-01-01</td>\n",
       "      <td>1.575013</td>\n",
       "    </tr>\n",
       "    <tr>\n",
       "      <th>1</th>\n",
       "      <td>2021-02-01</td>\n",
       "      <td>1.127264</td>\n",
       "    </tr>\n",
       "    <tr>\n",
       "      <th>2</th>\n",
       "      <td>2021-03-01</td>\n",
       "      <td>0.042478</td>\n",
       "    </tr>\n",
       "    <tr>\n",
       "      <th>3</th>\n",
       "      <td>2021-04-01</td>\n",
       "      <td>-0.261624</td>\n",
       "    </tr>\n",
       "    <tr>\n",
       "      <th>4</th>\n",
       "      <td>2021-05-01</td>\n",
       "      <td>0.116524</td>\n",
       "    </tr>\n",
       "  </tbody>\n",
       "</table>\n",
       "</div>"
      ],
      "text/plain": [
       "        Date     PM2.5\n",
       "0 2021-01-01  1.575013\n",
       "1 2021-02-01  1.127264\n",
       "2 2021-03-01  0.042478\n",
       "3 2021-04-01 -0.261624\n",
       "4 2021-05-01  0.116524"
      ]
     },
     "execution_count": 4,
     "metadata": {},
     "output_type": "execute_result"
    }
   ],
   "source": [
    "df = pd.read_csv(r'C:\\Users\\91783\\Desktop\\Results\\YJ_Mean_Date_PM2.csv')\n",
    "df.head()\n",
    "df['Date'] = pd.to_datetime(df['Date'])\n",
    "df.head()"
   ]
  },
  {
   "cell_type": "code",
   "execution_count": 5,
   "id": "874e311d",
   "metadata": {},
   "outputs": [],
   "source": [
    "df = df.set_index('Date').asfreq('D')"
   ]
  },
  {
   "cell_type": "code",
   "execution_count": 6,
   "id": "c62e79b0",
   "metadata": {},
   "outputs": [],
   "source": [
    "df.columns = ['PM2.5']"
   ]
  },
  {
   "cell_type": "code",
   "execution_count": 8,
   "id": "48e96f36",
   "metadata": {},
   "outputs": [
    {
     "name": "stdout",
     "output_type": "stream",
     "text": [
      "The Daily data consists of values from 2021-01-01 00:00:00 to 2021-12-31 00:00:00\n"
     ]
    }
   ],
   "source": [
    "print(f'The Daily data consists of values from {df.index.min()} to {df.index.max()}')"
   ]
  },
  {
   "cell_type": "code",
   "execution_count": 40,
   "id": "0419e061",
   "metadata": {},
   "outputs": [],
   "source": [
    "# Finding the split point index to keep 1 month (30 days) data as test set\n",
    "n_test = 1\n",
    "train_data = df.iloc[:len(df) - n_test]\n",
    "test_data = df.iloc[len(df) - n_test:]"
   ]
  },
  {
   "cell_type": "code",
   "execution_count": 41,
   "id": "fb8af4ab",
   "metadata": {},
   "outputs": [
    {
     "data": {
      "text/plain": [
       "Date\n",
       "2021-01-01    1.575013\n",
       "2021-01-02    1.425261\n",
       "2021-01-03    0.862368\n",
       "2021-01-04    0.306817\n",
       "2021-01-05    0.104472\n",
       "                ...   \n",
       "2021-12-26    1.525707\n",
       "2021-12-27    0.568008\n",
       "2021-12-28    0.672111\n",
       "2021-12-29    0.424150\n",
       "2021-12-30    0.502374\n",
       "Freq: D, Name: PM2.5, Length: 364, dtype: float64"
      ]
     },
     "execution_count": 41,
     "metadata": {},
     "output_type": "execute_result"
    }
   ],
   "source": [
    "train_data['PM2.5']"
   ]
  },
  {
   "cell_type": "code",
   "execution_count": 42,
   "id": "29f19abd",
   "metadata": {},
   "outputs": [],
   "source": [
    "from arch import arch_model\n",
    "am = arch_model(train_data['PM2.5'], vol='Garch', p=1, o=0, q=1, dist='Normal')"
   ]
  },
  {
   "cell_type": "code",
   "execution_count": 43,
   "id": "b47a2b5f",
   "metadata": {},
   "outputs": [
    {
     "data": {
      "text/html": [
       "<table class=\"simpletable\">\n",
       "<caption>Constant Mean - GARCH Model Results</caption>\n",
       "<tr>\n",
       "  <th>Dep. Variable:</th>        <td>PM2.5</td>       <th>  R-squared:         </th>  <td>   0.000</td> \n",
       "</tr>\n",
       "<tr>\n",
       "  <th>Mean Model:</th>       <td>Constant Mean</td>   <th>  Adj. R-squared:    </th>  <td>   0.000</td> \n",
       "</tr>\n",
       "<tr>\n",
       "  <th>Vol Model:</th>            <td>GARCH</td>       <th>  Log-Likelihood:    </th> <td>  -366.663</td>\n",
       "</tr>\n",
       "<tr>\n",
       "  <th>Distribution:</th>        <td>Normal</td>       <th>  AIC:               </th> <td>   741.327</td>\n",
       "</tr>\n",
       "<tr>\n",
       "  <th>Method:</th>        <td>Maximum Likelihood</td> <th>  BIC:               </th> <td>   756.915</td>\n",
       "</tr>\n",
       "<tr>\n",
       "  <th></th>                        <td></td>          <th>  No. Observations:  </th>     <td>364</td>   \n",
       "</tr>\n",
       "<tr>\n",
       "  <th>Date:</th>           <td>Thu, Jun 16 2022</td>  <th>  Df Residuals:      </th>     <td>363</td>   \n",
       "</tr>\n",
       "<tr>\n",
       "  <th>Time:</th>               <td>17:26:09</td>      <th>  Df Model:          </th>      <td>1</td>    \n",
       "</tr>\n",
       "</table>\n",
       "<table class=\"simpletable\">\n",
       "<caption>Mean Model</caption>\n",
       "<tr>\n",
       "   <td></td>     <th>coef</th>     <th>std err</th>      <th>t</th>       <th>P>|t|</th>    <th>95.0% Conf. Int.</th>  \n",
       "</tr>\n",
       "<tr>\n",
       "  <th>mu</th> <td>   -0.1275</td> <td>    0.105</td> <td>   -1.212</td> <td>    0.226</td> <td>[ -0.334,7.872e-02]</td>\n",
       "</tr>\n",
       "</table>\n",
       "<table class=\"simpletable\">\n",
       "<caption>Volatility Model</caption>\n",
       "<tr>\n",
       "      <td></td>        <th>coef</th>     <th>std err</th>      <th>t</th>       <th>P>|t|</th>     <th>95.0% Conf. Int.</th>   \n",
       "</tr>\n",
       "<tr>\n",
       "  <th>omega</th>    <td>    0.0405</td> <td>1.114e-02</td> <td>    3.638</td> <td>2.750e-04</td> <td>[1.870e-02,6.238e-02]</td>\n",
       "</tr>\n",
       "<tr>\n",
       "  <th>alpha[1]</th> <td>    0.8087</td> <td>7.704e-02</td> <td>   10.497</td> <td>8.928e-26</td>   <td>[  0.658,  0.960]</td>  \n",
       "</tr>\n",
       "<tr>\n",
       "  <th>beta[1]</th>  <td>    0.1891</td> <td>7.879e-02</td> <td>    2.399</td> <td>1.642e-02</td>  <td>[3.463e-02,  0.343]</td> \n",
       "</tr>\n",
       "</table><br/><br/>Covariance estimator: robust"
      ],
      "text/plain": [
       "<class 'statsmodels.iolib.summary.Summary'>\n",
       "\"\"\"\n",
       "                     Constant Mean - GARCH Model Results                      \n",
       "==============================================================================\n",
       "Dep. Variable:                  PM2.5   R-squared:                       0.000\n",
       "Mean Model:             Constant Mean   Adj. R-squared:                  0.000\n",
       "Vol Model:                      GARCH   Log-Likelihood:               -366.663\n",
       "Distribution:                  Normal   AIC:                           741.327\n",
       "Method:            Maximum Likelihood   BIC:                           756.915\n",
       "                                        No. Observations:                  364\n",
       "Date:                Thu, Jun 16 2022   Df Residuals:                      363\n",
       "Time:                        17:26:09   Df Model:                            1\n",
       "                                Mean Model                                \n",
       "==========================================================================\n",
       "                 coef    std err          t      P>|t|    95.0% Conf. Int.\n",
       "--------------------------------------------------------------------------\n",
       "mu            -0.1275      0.105     -1.212      0.226 [ -0.334,7.872e-02]\n",
       "                              Volatility Model                              \n",
       "============================================================================\n",
       "                 coef    std err          t      P>|t|      95.0% Conf. Int.\n",
       "----------------------------------------------------------------------------\n",
       "omega          0.0405  1.114e-02      3.638  2.750e-04 [1.870e-02,6.238e-02]\n",
       "alpha[1]       0.8087  7.704e-02     10.497  8.928e-26     [  0.658,  0.960]\n",
       "beta[1]        0.1891  7.879e-02      2.399  1.642e-02   [3.463e-02,  0.343]\n",
       "============================================================================\n",
       "\n",
       "Covariance estimator: robust\n",
       "\"\"\""
      ]
     },
     "metadata": {},
     "output_type": "display_data"
    }
   ],
   "source": [
    "res = am.fit(disp='off')\n",
    "display(res.summary())"
   ]
  },
  {
   "cell_type": "code",
   "execution_count": 44,
   "id": "95af0dee",
   "metadata": {},
   "outputs": [],
   "source": [
    "df['forecast_vol'] = 0.1 * np.sqrt(res.params['omega'] + res.params['alpha[1]'] * res.resid**2 + \n",
    "                                   res.conditional_volatility**2 * res.params['beta[1]'])"
   ]
  },
  {
   "cell_type": "code",
   "execution_count": 45,
   "id": "1e407031",
   "metadata": {},
   "outputs": [
    {
     "data": {
      "text/html": [
       "<div>\n",
       "<style scoped>\n",
       "    .dataframe tbody tr th:only-of-type {\n",
       "        vertical-align: middle;\n",
       "    }\n",
       "\n",
       "    .dataframe tbody tr th {\n",
       "        vertical-align: top;\n",
       "    }\n",
       "\n",
       "    .dataframe thead th {\n",
       "        text-align: right;\n",
       "    }\n",
       "</style>\n",
       "<table border=\"1\" class=\"dataframe\">\n",
       "  <thead>\n",
       "    <tr style=\"text-align: right;\">\n",
       "      <th></th>\n",
       "      <th>PM2.5</th>\n",
       "      <th>forecast_vol</th>\n",
       "    </tr>\n",
       "    <tr>\n",
       "      <th>Date</th>\n",
       "      <th></th>\n",
       "      <th></th>\n",
       "    </tr>\n",
       "  </thead>\n",
       "  <tbody>\n",
       "    <tr>\n",
       "      <th>2021-01-01</th>\n",
       "      <td>1.575013</td>\n",
       "      <td>0.159807</td>\n",
       "    </tr>\n",
       "    <tr>\n",
       "      <th>2021-01-02</th>\n",
       "      <td>1.425261</td>\n",
       "      <td>0.157265</td>\n",
       "    </tr>\n",
       "    <tr>\n",
       "      <th>2021-01-03</th>\n",
       "      <td>0.862368</td>\n",
       "      <td>0.114041</td>\n",
       "    </tr>\n",
       "    <tr>\n",
       "      <th>2021-01-04</th>\n",
       "      <td>0.306817</td>\n",
       "      <td>0.066255</td>\n",
       "    </tr>\n",
       "    <tr>\n",
       "      <th>2021-01-05</th>\n",
       "      <td>0.104472</td>\n",
       "      <td>0.040873</td>\n",
       "    </tr>\n",
       "    <tr>\n",
       "      <th>...</th>\n",
       "      <td>...</td>\n",
       "      <td>...</td>\n",
       "    </tr>\n",
       "    <tr>\n",
       "      <th>2021-12-27</th>\n",
       "      <td>0.568008</td>\n",
       "      <td>0.097731</td>\n",
       "    </tr>\n",
       "    <tr>\n",
       "      <th>2021-12-28</th>\n",
       "      <td>0.672111</td>\n",
       "      <td>0.085919</td>\n",
       "    </tr>\n",
       "    <tr>\n",
       "      <th>2021-12-29</th>\n",
       "      <td>0.424150</td>\n",
       "      <td>0.065286</td>\n",
       "    </tr>\n",
       "    <tr>\n",
       "      <th>2021-12-30</th>\n",
       "      <td>0.502374</td>\n",
       "      <td>0.066482</td>\n",
       "    </tr>\n",
       "    <tr>\n",
       "      <th>2021-12-31</th>\n",
       "      <td>0.707557</td>\n",
       "      <td>NaN</td>\n",
       "    </tr>\n",
       "  </tbody>\n",
       "</table>\n",
       "<p>365 rows × 2 columns</p>\n",
       "</div>"
      ],
      "text/plain": [
       "               PM2.5  forecast_vol\n",
       "Date                              \n",
       "2021-01-01  1.575013      0.159807\n",
       "2021-01-02  1.425261      0.157265\n",
       "2021-01-03  0.862368      0.114041\n",
       "2021-01-04  0.306817      0.066255\n",
       "2021-01-05  0.104472      0.040873\n",
       "...              ...           ...\n",
       "2021-12-27  0.568008      0.097731\n",
       "2021-12-28  0.672111      0.085919\n",
       "2021-12-29  0.424150      0.065286\n",
       "2021-12-30  0.502374      0.066482\n",
       "2021-12-31  0.707557           NaN\n",
       "\n",
       "[365 rows x 2 columns]"
      ]
     },
     "execution_count": 45,
     "metadata": {},
     "output_type": "execute_result"
    }
   ],
   "source": [
    "df"
   ]
  },
  {
   "cell_type": "code",
   "execution_count": 46,
   "id": "26911f9f",
   "metadata": {},
   "outputs": [
    {
     "data": {
      "image/png": "[encoded data removed]",
      "text/plain": [
       "<Figure size 1152x432 with 1 Axes>"
      ]
     },
     "metadata": {
      "needs_background": "light"
     },
     "output_type": "display_data"
    }
   ],
   "source": [
    "plt.figure(figsize=(16,6))\n",
    "df[\"PM2.5\"].plot()\n",
    "df[\"forecast_vol\"].plot()\n",
    "plt.title(\"Real Rolling Volatility vs Forecast by GARCH(1,1)\")\n",
    "plt.legend()\n",
    "plt.show()"
   ]
  },
  {
   "cell_type": "code",
   "execution_count": 48,
   "id": "de9fdae9",
   "metadata": {},
   "outputs": [
    {
     "name": "stdout",
     "output_type": "stream",
     "text": [
      "Root Mean Squared Error of the model is calculated as  nan\n"
     ]
    }
   ],
   "source": [
    "\n",
    "def rmse_tr(predictions, targets):\n",
    "    return np.sqrt(((predictions - targets) ** 2).mean())\n",
    "skor = rmse_tr(df.loc[df.index[1000:], 'forecast_vol'], df.loc[df.index[1000:], 'PM2.5'])\n",
    "print(\"Root Mean Squared Error of the model is calculated as \",skor)"
   ]
  },
  {
   "cell_type": "code",
   "execution_count": null,
   "id": "817e8eff",
   "metadata": {},
   "outputs": [],
   "source": []
  }
 ],
 "metadata": {
  "kernelspec": {
   "display_name": "Python 3 (ipykernel)",
   "language": "python",
   "name": "python3"
  },
  "language_info": {
   "codemirror_mode": {
    "name": "ipython",
    "version": 3
   },
   "file_extension": ".py",
   "mimetype": "text/x-python",
   "name": "python",
   "nbconvert_exporter": "python",
   "pygments_lexer": "ipython3",
   "version": "3.9.12"
  }
 },
 "nbformat": 4,
 "nbformat_minor": 5
}
