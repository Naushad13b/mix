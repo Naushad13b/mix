{
 "cells": [
  {
   "cell_type": "code",
   "execution_count": 1,
   "id": "677a4253",
   "metadata": {},
   "outputs": [],
   "source": [
    "\n",
    "import pandas as pd\n",
    "import numpy as np\n",
    "import matplotlib.pyplot as plt"
   ]
  },
  {
   "cell_type": "code",
   "execution_count": 2,
   "id": "27de022b",
   "metadata": {},
   "outputs": [
    {
     "data": {
      "text/html": [
       "<div>\n",
       "<style scoped>\n",
       "    .dataframe tbody tr th:only-of-type {\n",
       "        vertical-align: middle;\n",
       "    }\n",
       "\n",
       "    .dataframe tbody tr th {\n",
       "        vertical-align: top;\n",
       "    }\n",
       "\n",
       "    .dataframe thead th {\n",
       "        text-align: right;\n",
       "    }\n",
       "</style>\n",
       "<table border=\"1\" class=\"dataframe\">\n",
       "  <thead>\n",
       "    <tr style=\"text-align: right;\">\n",
       "      <th></th>\n",
       "      <th>PM25</th>\n",
       "    </tr>\n",
       "    <tr>\n",
       "      <th>Date</th>\n",
       "      <th></th>\n",
       "    </tr>\n",
       "  </thead>\n",
       "  <tbody>\n",
       "    <tr>\n",
       "      <th>2019-04-02 18:00:00</th>\n",
       "      <td>70.52</td>\n",
       "    </tr>\n",
       "    <tr>\n",
       "      <th>2019-04-02 19:00:00</th>\n",
       "      <td>61.39</td>\n",
       "    </tr>\n",
       "    <tr>\n",
       "      <th>2019-04-02 20:00:00</th>\n",
       "      <td>59.94</td>\n",
       "    </tr>\n",
       "    <tr>\n",
       "      <th>2019-04-02 21:00:00</th>\n",
       "      <td>76.44</td>\n",
       "    </tr>\n",
       "    <tr>\n",
       "      <th>2019-04-02 22:00:00</th>\n",
       "      <td>98.54</td>\n",
       "    </tr>\n",
       "  </tbody>\n",
       "</table>\n",
       "</div>"
      ],
      "text/plain": [
       "                      PM25\n",
       "Date                      \n",
       "2019-04-02 18:00:00  70.52\n",
       "2019-04-02 19:00:00  61.39\n",
       "2019-04-02 20:00:00  59.94\n",
       "2019-04-02 21:00:00  76.44\n",
       "2019-04-02 22:00:00  98.54"
      ]
     },
     "execution_count": 2,
     "metadata": {},
     "output_type": "execute_result"
    }
   ],
   "source": [
    "# Import data using datetime and set index to datetime\n",
    "df = pd.read_csv(r'C:\\Users\\91783\\Desktop\\subham\\H_Ankl_1_2_19-3_12_22-_41_ (copy)_INDEX_Mean.csv',\n",
    "                                parse_dates=['Date'],\n",
    "                                index_col=['Date'])\n",
    "\n",
    "df.head()"
   ]
  },
  {
   "cell_type": "code",
   "execution_count": 3,
   "id": "ada67598",
   "metadata": {},
   "outputs": [],
   "source": [
    "#Mean - missed value first put None to NaN in dataset\n",
    "import numpy as np\n",
    "def change1(a):\n",
    "  df[a] = df[a].replace(np.NaN, df[a].mean())"
   ]
  },
  {
   "cell_type": "code",
   "execution_count": 4,
   "id": "a544466c",
   "metadata": {},
   "outputs": [],
   "source": [
    "#PM2.5\tPM10\tNO2\tSO2\tCO\tOzone\tTemp\tRH\tWS\tWD\tSR\n",
    "#l=[\"PM2.5\"]\n",
    "#for i in l:\n",
    "#  change1(i)"
   ]
  },
  {
   "cell_type": "code",
   "execution_count": 5,
   "id": "3a5f6458",
   "metadata": {},
   "outputs": [
    {
     "data": {
      "text/html": [
       "<div>\n",
       "<style scoped>\n",
       "    .dataframe tbody tr th:only-of-type {\n",
       "        vertical-align: middle;\n",
       "    }\n",
       "\n",
       "    .dataframe tbody tr th {\n",
       "        vertical-align: top;\n",
       "    }\n",
       "\n",
       "    .dataframe thead th {\n",
       "        text-align: right;\n",
       "    }\n",
       "</style>\n",
       "<table border=\"1\" class=\"dataframe\">\n",
       "  <thead>\n",
       "    <tr style=\"text-align: right;\">\n",
       "      <th></th>\n",
       "      <th>PM25</th>\n",
       "    </tr>\n",
       "    <tr>\n",
       "      <th>Date</th>\n",
       "      <th></th>\n",
       "    </tr>\n",
       "  </thead>\n",
       "  <tbody>\n",
       "    <tr>\n",
       "      <th>2022-02-12 20:00:00</th>\n",
       "      <td>120.98</td>\n",
       "    </tr>\n",
       "    <tr>\n",
       "      <th>2022-02-12 21:00:00</th>\n",
       "      <td>115.37</td>\n",
       "    </tr>\n",
       "    <tr>\n",
       "      <th>2022-02-12 22:00:00</th>\n",
       "      <td>104.06</td>\n",
       "    </tr>\n",
       "    <tr>\n",
       "      <th>2022-02-12 23:00:00</th>\n",
       "      <td>110.59</td>\n",
       "    </tr>\n",
       "    <tr>\n",
       "      <th>2022-03-12 00:00:00</th>\n",
       "      <td>122.87</td>\n",
       "    </tr>\n",
       "  </tbody>\n",
       "</table>\n",
       "</div>"
      ],
      "text/plain": [
       "                       PM25\n",
       "Date                       \n",
       "2022-02-12 20:00:00  120.98\n",
       "2022-02-12 21:00:00  115.37\n",
       "2022-02-12 22:00:00  104.06\n",
       "2022-02-12 23:00:00  110.59\n",
       "2022-03-12 00:00:00  122.87"
      ]
     },
     "execution_count": 5,
     "metadata": {},
     "output_type": "execute_result"
    }
   ],
   "source": [
    "df.tail()"
   ]
  },
  {
   "cell_type": "code",
   "execution_count": 6,
   "id": "22ac3421",
   "metadata": {},
   "outputs": [
    {
     "name": "stdout",
     "output_type": "stream",
     "text": [
      "<class 'pandas.core.frame.DataFrame'>\n",
      "DatetimeIndex: 33535 entries, 2019-04-02 18:00:00 to 2022-03-12 00:00:00\n",
      "Data columns (total 1 columns):\n",
      " #   Column  Non-Null Count  Dtype  \n",
      "---  ------  --------------  -----  \n",
      " 0   PM25    33535 non-null  float64\n",
      "dtypes: float64(1)\n",
      "memory usage: 524.0 KB\n"
     ]
    }
   ],
   "source": [
    "df.info()"
   ]
  },
  {
   "cell_type": "code",
   "execution_count": 7,
   "id": "f702a66d",
   "metadata": {},
   "outputs": [
    {
     "data": {
      "text/plain": [
       "<AxesSubplot:>"
      ]
     },
     "execution_count": 7,
     "metadata": {},
     "output_type": "execute_result"
    },
    {
     "data": {
      "image/png": "[encoded data removed]",
      "text/plain": [
       "<Figure size 432x288 with 1 Axes>"
      ]
     },
     "metadata": {
      "needs_background": "light"
     },
     "output_type": "display_data"
    }
   ],
   "source": [
    "#Box plot\n",
    "#pd.options.display.mpl_style = False\n",
    "df.boxplot()"
   ]
  },
  {
   "cell_type": "code",
   "execution_count": 8,
   "id": "545723aa",
   "metadata": {},
   "outputs": [],
   "source": [
    "#Normalising data\n",
    "from sklearn.preprocessing import MinMaxScaler\n",
    "\n",
    "values = df.values\n",
    "scaler = MinMaxScaler(feature_range=(0, 1))\n",
    "scaled_dataset = scaler.fit_transform(values)"
   ]
  },
  {
   "cell_type": "code",
   "execution_count": 9,
   "id": "0461e4dd",
   "metadata": {},
   "outputs": [
    {
     "data": {
      "text/plain": [
       "array([[0.07166694],\n",
       "       [0.06232086]])"
      ]
     },
     "execution_count": 9,
     "metadata": {},
     "output_type": "execute_result"
    }
   ],
   "source": [
    "scaled_dataset[:2,:]"
   ]
  },
  {
   "cell_type": "code",
   "execution_count": 10,
   "id": "7ed5b0c7",
   "metadata": {},
   "outputs": [],
   "source": [
    "#Creating a window for previous data\n",
    "def to_supervised(train):\n",
    "    window_size = 4\n",
    "    X = []\n",
    "    Y = []\n",
    "    for i in range(window_size, len(train)):\n",
    "        X.append(train[i-window_size:i,:])\n",
    "        Y.append(train[i,0:1])\n",
    "    \n",
    "    return X,Y"
   ]
  },
  {
   "cell_type": "code",
   "execution_count": 11,
   "id": "e5e5dd8d",
   "metadata": {},
   "outputs": [
    {
     "name": "stdout",
     "output_type": "stream",
     "text": [
      "Y (33531, 1)\n",
      "X (33531, 4, 1)\n"
     ]
    }
   ],
   "source": [
    "X, Y = to_supervised(scaled_dataset)\n",
    "X = np.array(X)\n",
    "Y = np.array(Y)\n",
    "print('Y' ,Y.shape)\n",
    "print('X' ,X.shape)"
   ]
  },
  {
   "cell_type": "code",
   "execution_count": 12,
   "id": "cfab65e5",
   "metadata": {},
   "outputs": [
    {
     "name": "stdout",
     "output_type": "stream",
     "text": [
      "X_train (33441, 4, 1)\n",
      "X_test (90, 4, 1)\n",
      "Y_train (33441, 1)\n",
      "Y_test (90, 1)\n"
     ]
    }
   ],
   "source": [
    "#Splitting the dataset\n",
    "n_train = 3*30\n",
    "X_train, X_test = X[n_train:,] , X[:n_train,]\n",
    "print('X_train' ,X_train.shape)\n",
    "print('X_test' ,X_test.shape)\n",
    "\n",
    "Y_train, Y_test = Y[n_train:,] , Y[:n_train,]\n",
    "print('Y_train' ,Y_train.shape)\n",
    "print('Y_test' ,Y_test.shape)"
   ]
  },
  {
   "cell_type": "code",
   "execution_count": 13,
   "id": "682f0423",
   "metadata": {},
   "outputs": [],
   "source": [
    "#Importing LSTM model\n",
    "from keras.models import Sequential\n",
    "from keras.layers import Dense, Dropout,LSTM\n",
    "model = Sequential()\n",
    "\n",
    "model.add(LSTM(units = 50, return_sequences = True, input_shape=(X_train.shape[1], X_train.shape[2])))\n",
    "model.add(Dropout(0.2))\n",
    " \n",
    "\n",
    "model.add(Dense(units = 1))\n",
    "\n",
    "model.compile(optimizer = 'adam', loss = 'mean_squared_error')   "
   ]
  },
  {
   "cell_type": "code",
   "execution_count": 14,
   "id": "d2c1e9d0",
   "metadata": {},
   "outputs": [
    {
     "name": "stdout",
     "output_type": "stream",
     "text": [
      "Epoch 1/50\n",
      "4181/4181 - 8s - loss: 6.1269e-04 - val_loss: 8.6653e-04 - 8s/epoch - 2ms/step\n",
      "Epoch 2/50\n",
      "4181/4181 - 6s - loss: 5.5935e-04 - val_loss: 8.3208e-04 - 6s/epoch - 1ms/step\n",
      "Epoch 3/50\n",
      "4181/4181 - 6s - loss: 5.5122e-04 - val_loss: 7.6066e-04 - 6s/epoch - 1ms/step\n",
      "Epoch 4/50\n",
      "4181/4181 - 6s - loss: 5.4224e-04 - val_loss: 6.8624e-04 - 6s/epoch - 1ms/step\n",
      "Epoch 5/50\n",
      "4181/4181 - 6s - loss: 5.3715e-04 - val_loss: 6.5848e-04 - 6s/epoch - 1ms/step\n",
      "Epoch 6/50\n",
      "4181/4181 - 6s - loss: 5.3421e-04 - val_loss: 6.3281e-04 - 6s/epoch - 1ms/step\n",
      "Epoch 7/50\n",
      "4181/4181 - 6s - loss: 5.2955e-04 - val_loss: 5.9931e-04 - 6s/epoch - 1ms/step\n",
      "Epoch 8/50\n",
      "4181/4181 - 6s - loss: 5.2514e-04 - val_loss: 5.7966e-04 - 6s/epoch - 1ms/step\n",
      "Epoch 9/50\n",
      "4181/4181 - 7s - loss: 5.2188e-04 - val_loss: 5.6172e-04 - 7s/epoch - 2ms/step\n",
      "Epoch 10/50\n",
      "4181/4181 - 6s - loss: 5.2116e-04 - val_loss: 5.5482e-04 - 6s/epoch - 2ms/step\n",
      "Epoch 11/50\n",
      "4181/4181 - 6s - loss: 5.1638e-04 - val_loss: 5.3091e-04 - 6s/epoch - 1ms/step\n",
      "Epoch 12/50\n",
      "4181/4181 - 7s - loss: 5.1373e-04 - val_loss: 5.3351e-04 - 7s/epoch - 2ms/step\n",
      "Epoch 13/50\n",
      "4181/4181 - 6s - loss: 5.1305e-04 - val_loss: 5.1403e-04 - 6s/epoch - 1ms/step\n",
      "Epoch 14/50\n",
      "4181/4181 - 6s - loss: 5.1153e-04 - val_loss: 5.0497e-04 - 6s/epoch - 1ms/step\n",
      "Epoch 15/50\n",
      "4181/4181 - 6s - loss: 5.1061e-04 - val_loss: 4.8810e-04 - 6s/epoch - 1ms/step\n",
      "Epoch 16/50\n",
      "4181/4181 - 6s - loss: 5.0938e-04 - val_loss: 4.9551e-04 - 6s/epoch - 1ms/step\n",
      "Epoch 17/50\n",
      "4181/4181 - 6s - loss: 5.0782e-04 - val_loss: 4.8087e-04 - 6s/epoch - 1ms/step\n",
      "Epoch 18/50\n",
      "4181/4181 - 6s - loss: 5.0900e-04 - val_loss: 4.9754e-04 - 6s/epoch - 1ms/step\n",
      "Epoch 19/50\n",
      "4181/4181 - 6s - loss: 5.0788e-04 - val_loss: 4.8100e-04 - 6s/epoch - 1ms/step\n",
      "Epoch 20/50\n",
      "4181/4181 - 6s - loss: 5.0647e-04 - val_loss: 4.8316e-04 - 6s/epoch - 1ms/step\n",
      "Epoch 21/50\n",
      "4181/4181 - 6s - loss: 5.0638e-04 - val_loss: 4.7048e-04 - 6s/epoch - 1ms/step\n",
      "Epoch 22/50\n",
      "4181/4181 - 6s - loss: 5.0480e-04 - val_loss: 4.8103e-04 - 6s/epoch - 1ms/step\n",
      "Epoch 23/50\n",
      "4181/4181 - 6s - loss: 5.0518e-04 - val_loss: 4.8226e-04 - 6s/epoch - 1ms/step\n",
      "Epoch 24/50\n",
      "4181/4181 - 6s - loss: 5.0476e-04 - val_loss: 4.7736e-04 - 6s/epoch - 1ms/step\n",
      "Epoch 25/50\n",
      "4181/4181 - 6s - loss: 5.0413e-04 - val_loss: 4.7970e-04 - 6s/epoch - 1ms/step\n",
      "Epoch 26/50\n",
      "4181/4181 - 6s - loss: 5.0393e-04 - val_loss: 4.7698e-04 - 6s/epoch - 1ms/step\n",
      "Epoch 27/50\n",
      "4181/4181 - 6s - loss: 5.0252e-04 - val_loss: 4.7125e-04 - 6s/epoch - 1ms/step\n",
      "Epoch 28/50\n",
      "4181/4181 - 6s - loss: 5.0260e-04 - val_loss: 4.7707e-04 - 6s/epoch - 1ms/step\n",
      "Epoch 29/50\n",
      "4181/4181 - 6s - loss: 5.0263e-04 - val_loss: 4.6744e-04 - 6s/epoch - 1ms/step\n",
      "Epoch 30/50\n",
      "4181/4181 - 6s - loss: 5.0202e-04 - val_loss: 4.7145e-04 - 6s/epoch - 1ms/step\n",
      "Epoch 31/50\n",
      "4181/4181 - 6s - loss: 5.0027e-04 - val_loss: 4.7149e-04 - 6s/epoch - 1ms/step\n",
      "Epoch 32/50\n",
      "4181/4181 - 6s - loss: 5.0026e-04 - val_loss: 4.6161e-04 - 6s/epoch - 1ms/step\n",
      "Epoch 33/50\n",
      "4181/4181 - 6s - loss: 5.0014e-04 - val_loss: 4.6608e-04 - 6s/epoch - 1ms/step\n",
      "Epoch 34/50\n",
      "4181/4181 - 6s - loss: 5.0057e-04 - val_loss: 4.7066e-04 - 6s/epoch - 2ms/step\n",
      "Epoch 35/50\n",
      "4181/4181 - 6s - loss: 4.9962e-04 - val_loss: 4.6007e-04 - 6s/epoch - 2ms/step\n",
      "Epoch 36/50\n",
      "4181/4181 - 6s - loss: 4.9763e-04 - val_loss: 4.6584e-04 - 6s/epoch - 1ms/step\n",
      "Epoch 37/50\n",
      "4181/4181 - 6s - loss: 4.9967e-04 - val_loss: 4.6551e-04 - 6s/epoch - 1ms/step\n",
      "Epoch 38/50\n",
      "4181/4181 - 6s - loss: 4.9950e-04 - val_loss: 4.6104e-04 - 6s/epoch - 1ms/step\n",
      "Epoch 39/50\n",
      "4181/4181 - 6s - loss: 4.9848e-04 - val_loss: 4.6862e-04 - 6s/epoch - 1ms/step\n",
      "Epoch 40/50\n",
      "4181/4181 - 6s - loss: 4.9876e-04 - val_loss: 4.7093e-04 - 6s/epoch - 1ms/step\n",
      "Epoch 41/50\n",
      "4181/4181 - 6s - loss: 4.9794e-04 - val_loss: 4.7011e-04 - 6s/epoch - 1ms/step\n",
      "Epoch 42/50\n",
      "4181/4181 - 6s - loss: 4.9876e-04 - val_loss: 4.5703e-04 - 6s/epoch - 1ms/step\n",
      "Epoch 43/50\n",
      "4181/4181 - 6s - loss: 4.9678e-04 - val_loss: 4.5883e-04 - 6s/epoch - 1ms/step\n",
      "Epoch 44/50\n",
      "4181/4181 - 6s - loss: 4.9690e-04 - val_loss: 4.6029e-04 - 6s/epoch - 1ms/step\n",
      "Epoch 45/50\n",
      "4181/4181 - 6s - loss: 4.9722e-04 - val_loss: 4.6592e-04 - 6s/epoch - 1ms/step\n",
      "Epoch 46/50\n",
      "4181/4181 - 6s - loss: 4.9584e-04 - val_loss: 4.5761e-04 - 6s/epoch - 1ms/step\n",
      "Epoch 47/50\n",
      "4181/4181 - 6s - loss: 4.9733e-04 - val_loss: 4.6552e-04 - 6s/epoch - 1ms/step\n",
      "Epoch 48/50\n",
      "4181/4181 - 6s - loss: 4.9668e-04 - val_loss: 4.6136e-04 - 6s/epoch - 1ms/step\n",
      "Epoch 49/50\n",
      "4181/4181 - 6s - loss: 4.9703e-04 - val_loss: 4.6006e-04 - 6s/epoch - 1ms/step\n",
      "Epoch 50/50\n",
      "4181/4181 - 6s - loss: 4.9668e-04 - val_loss: 4.5999e-04 - 6s/epoch - 1ms/step\n"
     ]
    }
   ],
   "source": [
    "history = model.fit(X_train, Y_train, epochs=50,\n",
    "                    batch_size=8, validation_data=(X_test, Y_test),\n",
    "                    verbose=2, shuffle=False)"
   ]
  },
  {
   "cell_type": "code",
   "execution_count": 15,
   "id": "a4009bce",
   "metadata": {},
   "outputs": [
    {
     "name": "stdout",
     "output_type": "stream",
     "text": [
      "3/3 [==============================] - 0s 0s/step\n"
     ]
    },
    {
     "ename": "ValueError",
     "evalue": "Found array with dim 3. None expected <= 2.",
     "output_type": "error",
     "traceback": [
      "\u001b[1;31m---------------------------------------------------------------------------\u001b[0m",
      "\u001b[1;31mValueError\u001b[0m                                Traceback (most recent call last)",
      "Input \u001b[1;32mIn [15]\u001b[0m, in \u001b[0;36m<cell line: 5>\u001b[1;34m()\u001b[0m\n\u001b[0;32m      2\u001b[0m Y_pred \u001b[38;5;241m=\u001b[39m model\u001b[38;5;241m.\u001b[39mpredict(X_test)\n\u001b[0;32m      4\u001b[0m \u001b[38;5;28;01mfrom\u001b[39;00m \u001b[38;5;21;01msklearn\u001b[39;00m\u001b[38;5;21;01m.\u001b[39;00m\u001b[38;5;21;01mmetrics\u001b[39;00m \u001b[38;5;28;01mimport\u001b[39;00m mean_squared_error\n\u001b[1;32m----> 5\u001b[0m mse \u001b[38;5;241m=\u001b[39m \u001b[43mmean_squared_error\u001b[49m\u001b[43m(\u001b[49m\u001b[43mY_test\u001b[49m\u001b[43m,\u001b[49m\u001b[43m \u001b[49m\u001b[43mY_pred\u001b[49m\u001b[43m)\u001b[49m\n\u001b[0;32m      7\u001b[0m \u001b[38;5;28mprint\u001b[39m(mse)\n\u001b[0;32m      8\u001b[0m rmse \u001b[38;5;241m=\u001b[39m np\u001b[38;5;241m.\u001b[39msqrt(mse)\n",
      "File \u001b[1;32m~\\anaconda3\\lib\\site-packages\\sklearn\\metrics\\_regression.py:442\u001b[0m, in \u001b[0;36mmean_squared_error\u001b[1;34m(y_true, y_pred, sample_weight, multioutput, squared)\u001b[0m\n\u001b[0;32m    382\u001b[0m \u001b[38;5;28;01mdef\u001b[39;00m \u001b[38;5;21mmean_squared_error\u001b[39m(\n\u001b[0;32m    383\u001b[0m     y_true, y_pred, \u001b[38;5;241m*\u001b[39m, sample_weight\u001b[38;5;241m=\u001b[39m\u001b[38;5;28;01mNone\u001b[39;00m, multioutput\u001b[38;5;241m=\u001b[39m\u001b[38;5;124m\"\u001b[39m\u001b[38;5;124muniform_average\u001b[39m\u001b[38;5;124m\"\u001b[39m, squared\u001b[38;5;241m=\u001b[39m\u001b[38;5;28;01mTrue\u001b[39;00m\n\u001b[0;32m    384\u001b[0m ):\n\u001b[0;32m    385\u001b[0m     \u001b[38;5;124;03m\"\"\"Mean squared error regression loss.\u001b[39;00m\n\u001b[0;32m    386\u001b[0m \n\u001b[0;32m    387\u001b[0m \u001b[38;5;124;03m    Read more in the :ref:`User Guide <mean_squared_error>`.\u001b[39;00m\n\u001b[1;32m   (...)\u001b[0m\n\u001b[0;32m    440\u001b[0m \u001b[38;5;124;03m    0.825...\u001b[39;00m\n\u001b[0;32m    441\u001b[0m \u001b[38;5;124;03m    \"\"\"\u001b[39;00m\n\u001b[1;32m--> 442\u001b[0m     y_type, y_true, y_pred, multioutput \u001b[38;5;241m=\u001b[39m \u001b[43m_check_reg_targets\u001b[49m\u001b[43m(\u001b[49m\n\u001b[0;32m    443\u001b[0m \u001b[43m        \u001b[49m\u001b[43my_true\u001b[49m\u001b[43m,\u001b[49m\u001b[43m \u001b[49m\u001b[43my_pred\u001b[49m\u001b[43m,\u001b[49m\u001b[43m \u001b[49m\u001b[43mmultioutput\u001b[49m\n\u001b[0;32m    444\u001b[0m \u001b[43m    \u001b[49m\u001b[43m)\u001b[49m\n\u001b[0;32m    445\u001b[0m     check_consistent_length(y_true, y_pred, sample_weight)\n\u001b[0;32m    446\u001b[0m     output_errors \u001b[38;5;241m=\u001b[39m np\u001b[38;5;241m.\u001b[39maverage((y_true \u001b[38;5;241m-\u001b[39m y_pred) \u001b[38;5;241m*\u001b[39m\u001b[38;5;241m*\u001b[39m \u001b[38;5;241m2\u001b[39m, axis\u001b[38;5;241m=\u001b[39m\u001b[38;5;241m0\u001b[39m, weights\u001b[38;5;241m=\u001b[39msample_weight)\n",
      "File \u001b[1;32m~\\anaconda3\\lib\\site-packages\\sklearn\\metrics\\_regression.py:102\u001b[0m, in \u001b[0;36m_check_reg_targets\u001b[1;34m(y_true, y_pred, multioutput, dtype)\u001b[0m\n\u001b[0;32m    100\u001b[0m check_consistent_length(y_true, y_pred)\n\u001b[0;32m    101\u001b[0m y_true \u001b[38;5;241m=\u001b[39m check_array(y_true, ensure_2d\u001b[38;5;241m=\u001b[39m\u001b[38;5;28;01mFalse\u001b[39;00m, dtype\u001b[38;5;241m=\u001b[39mdtype)\n\u001b[1;32m--> 102\u001b[0m y_pred \u001b[38;5;241m=\u001b[39m \u001b[43mcheck_array\u001b[49m\u001b[43m(\u001b[49m\u001b[43my_pred\u001b[49m\u001b[43m,\u001b[49m\u001b[43m \u001b[49m\u001b[43mensure_2d\u001b[49m\u001b[38;5;241;43m=\u001b[39;49m\u001b[38;5;28;43;01mFalse\u001b[39;49;00m\u001b[43m,\u001b[49m\u001b[43m \u001b[49m\u001b[43mdtype\u001b[49m\u001b[38;5;241;43m=\u001b[39;49m\u001b[43mdtype\u001b[49m\u001b[43m)\u001b[49m\n\u001b[0;32m    104\u001b[0m \u001b[38;5;28;01mif\u001b[39;00m y_true\u001b[38;5;241m.\u001b[39mndim \u001b[38;5;241m==\u001b[39m \u001b[38;5;241m1\u001b[39m:\n\u001b[0;32m    105\u001b[0m     y_true \u001b[38;5;241m=\u001b[39m y_true\u001b[38;5;241m.\u001b[39mreshape((\u001b[38;5;241m-\u001b[39m\u001b[38;5;241m1\u001b[39m, \u001b[38;5;241m1\u001b[39m))\n",
      "File \u001b[1;32m~\\anaconda3\\lib\\site-packages\\sklearn\\utils\\validation.py:893\u001b[0m, in \u001b[0;36mcheck_array\u001b[1;34m(array, accept_sparse, accept_large_sparse, dtype, order, copy, force_all_finite, ensure_2d, allow_nd, ensure_min_samples, ensure_min_features, estimator, input_name)\u001b[0m\n\u001b[0;32m    887\u001b[0m     \u001b[38;5;28;01mraise\u001b[39;00m \u001b[38;5;167;01mValueError\u001b[39;00m(\n\u001b[0;32m    888\u001b[0m         \u001b[38;5;124m\"\u001b[39m\u001b[38;5;124mdtype=\u001b[39m\u001b[38;5;124m'\u001b[39m\u001b[38;5;124mnumeric\u001b[39m\u001b[38;5;124m'\u001b[39m\u001b[38;5;124m is not compatible with arrays of bytes/strings.\u001b[39m\u001b[38;5;124m\"\u001b[39m\n\u001b[0;32m    889\u001b[0m         \u001b[38;5;124m\"\u001b[39m\u001b[38;5;124mConvert your data to numeric values explicitly instead.\u001b[39m\u001b[38;5;124m\"\u001b[39m\n\u001b[0;32m    890\u001b[0m     )\n\u001b[0;32m    892\u001b[0m \u001b[38;5;28;01mif\u001b[39;00m \u001b[38;5;129;01mnot\u001b[39;00m allow_nd \u001b[38;5;129;01mand\u001b[39;00m array\u001b[38;5;241m.\u001b[39mndim \u001b[38;5;241m>\u001b[39m\u001b[38;5;241m=\u001b[39m \u001b[38;5;241m3\u001b[39m:\n\u001b[1;32m--> 893\u001b[0m     \u001b[38;5;28;01mraise\u001b[39;00m \u001b[38;5;167;01mValueError\u001b[39;00m(\n\u001b[0;32m    894\u001b[0m         \u001b[38;5;124m\"\u001b[39m\u001b[38;5;124mFound array with dim \u001b[39m\u001b[38;5;132;01m%d\u001b[39;00m\u001b[38;5;124m. \u001b[39m\u001b[38;5;132;01m%s\u001b[39;00m\u001b[38;5;124m expected <= 2.\u001b[39m\u001b[38;5;124m\"\u001b[39m\n\u001b[0;32m    895\u001b[0m         \u001b[38;5;241m%\u001b[39m (array\u001b[38;5;241m.\u001b[39mndim, estimator_name)\n\u001b[0;32m    896\u001b[0m     )\n\u001b[0;32m    898\u001b[0m \u001b[38;5;28;01mif\u001b[39;00m force_all_finite:\n\u001b[0;32m    899\u001b[0m     _assert_all_finite(\n\u001b[0;32m    900\u001b[0m         array,\n\u001b[0;32m    901\u001b[0m         input_name\u001b[38;5;241m=\u001b[39minput_name,\n\u001b[0;32m    902\u001b[0m         estimator_name\u001b[38;5;241m=\u001b[39mestimator_name,\n\u001b[0;32m    903\u001b[0m         allow_nan\u001b[38;5;241m=\u001b[39mforce_all_finite \u001b[38;5;241m==\u001b[39m \u001b[38;5;124m\"\u001b[39m\u001b[38;5;124mallow-nan\u001b[39m\u001b[38;5;124m\"\u001b[39m,\n\u001b[0;32m    904\u001b[0m     )\n",
      "\u001b[1;31mValueError\u001b[0m: Found array with dim 3. None expected <= 2."
     ]
    }
   ],
   "source": [
    "#Taking predictions\n",
    "Y_pred = model.predict(X_test)\n",
    "\n",
    "from sklearn.metrics import mean_squared_error\n",
    "mse = mean_squared_error(Y_test, Y_pred)\n",
    "\n",
    "print(mse)\n",
    "rmse = np.sqrt(mse)\n",
    "print(rmse)"
   ]
  },
  {
   "cell_type": "code",
   "execution_count": null,
   "id": "c8cbd2b9",
   "metadata": {},
   "outputs": [],
   "source": [
    "def mean_absolute_percentage_error(y_true, y_pred): \n",
    "    y_true, y_pred = np.array(y_true), np.array(y_pred)\n",
    "    return np.mean(np.abs((y_true - y_pred) / y_true)) * 100\n",
    "\n",
    "mape = mean_absolute_percentage_error(Y_test, Y_pred)\n",
    "print('MAPE', mape)"
   ]
  },
  {
   "cell_type": "code",
   "execution_count": null,
   "id": "e258d8f1",
   "metadata": {},
   "outputs": [],
   "source": [
    "def mean_absolute_percentage_error(y_true, y_pred): \n",
    "    y_true, y_pred = np.array(y_true), np.array(y_pred)\n",
    "    return np.mean(np.abs((y_true - y_pred) / y_true)) * 100\n",
    "\n",
    "mape = mean_absolute_percentage_error(Y_test, Y_pred)\n",
    "print('MAPE', mape)"
   ]
  },
  {
   "cell_type": "code",
   "execution_count": null,
   "id": "7ccfd78c",
   "metadata": {},
   "outputs": [],
   "source": [
    "#Y_predicted = scaler.inverse_transform(Y_pred)\n",
    "print('y_predicted',Y_pred.shape)\n",
    "#print('X_train' ,X_train.shape)\n",
    "print('X_test' ,X_test.shape)\n",
    "print('scaled Values shape', scaled_dataset.shape)"
   ]
  },
  {
   "cell_type": "code",
   "execution_count": null,
   "id": "166f93b5",
   "metadata": {},
   "outputs": [],
   "source": [
    "#Scaling back to the original scale\n",
    "d = scaled_dataset[:271,:]\n",
    "print('dummy',d.shape)\n",
    "print('Y_pred',Y_pred.shape)\n",
    "Y_predicted = np.concatenate((Y_pred,d[:90,1:]), axis =1)\n",
    "print('concat y_pred',Y_pred.shape)\n",
    "Y_tested = np.concatenate((Y_test, d[:90,1:]), axis = 1)\n",
    "print('concat Y_test', Y_test.shape)"
   ]
  },
  {
   "cell_type": "code",
   "execution_count": null,
   "id": "95f92f43",
   "metadata": {},
   "outputs": [],
   "source": [
    "#Take inverse transform\n",
    "Y_predicted = scaler.inverse_transform(Y_predicted)\n",
    "Y_tested = scaler.inverse_transform(Y_tested)\n",
    "Y_predicted = Y_predicted[:,0:1]\n",
    "Y_tested = Y_tested[:,0:1]\n",
    "print('Y_tested', Y_tested.shape)\n",
    "print('Y_predicted', Y_predicted.shape)"
   ]
  },
  {
   "cell_type": "code",
   "execution_count": null,
   "id": "0e88b467",
   "metadata": {},
   "outputs": [],
   "source": [
    "#Calculate error\n",
    "from sklearn.metrics import mean_squared_error\n",
    "mse = mean_squared_error(Y_tested, Y_predicted)\n",
    "print(mse)\n",
    "rmse = np.sqrt(mse)\n",
    "print(rmse)"
   ]
  },
  {
   "cell_type": "code",
   "execution_count": null,
   "id": "68df149a",
   "metadata": {},
   "outputs": [],
   "source": [
    "#Plot the graph between actual vs predicted values\n",
    "plt.plot(Y_predicted[:100,:], color= 'green')\n",
    "plt.plot(Y_tested[:100,:] , color = 'red')\n",
    "plt.title(\"Air Pollution Prediction (Univariate)\")\n",
    "plt.xlabel(\"Date\")\n",
    "plt.ylabel(\"Pollution level\")\n",
    "plt.show()\n",
    " "
   ]
  },
  {
   "cell_type": "code",
   "execution_count": null,
   "id": "44b607ab",
   "metadata": {},
   "outputs": [],
   "source": [
    "def mean_absolute_percentage_error(y_true, y_pred): \n",
    "    y_true, y_pred = np.array(y_true), np.array(y_pred)\n",
    "    return np.mean(np.abs((y_true - y_pred) / y_true)) * 100\n",
    "\n",
    "mape = mean_absolute_percentage_error(Y_tested, Y_predicted)\n",
    "print('MAPE', mape)"
   ]
  },
  {
   "cell_type": "code",
   "execution_count": null,
   "id": "d0042f1a",
   "metadata": {},
   "outputs": [],
   "source": [
    "from sklearn.metrics import mean_squared_error\n",
    "mse = mean_squared_error(Y_tested, Y_predicted)\n",
    "#print('Mean squared error', mse)\n",
    "print('RMSE' , np.sqrt(mse))\n",
    "print(\"Mean of Test data \", np.mean(Y_tested))"
   ]
  },
  {
   "cell_type": "code",
   "execution_count": null,
   "id": "777e116d",
   "metadata": {},
   "outputs": [],
   "source": [
    "# A simple plot to visualize the correlation between the columns\n",
    "df.plot(subplots=True)\n",
    "#df.plot(subplots=True,figsize=(15,13));"
   ]
  },
  {
   "cell_type": "code",
   "execution_count": null,
   "id": "7fa75e0c",
   "metadata": {},
   "outputs": [],
   "source": [
    "# plot history\n",
    "plt.plot(history.history['loss'], label='train')\n",
    "plt.plot(history.history['val_loss'], label='test')\n",
    "plt.legend()\n",
    "plt.show()\n",
    " "
   ]
  },
  {
   "cell_type": "code",
   "execution_count": null,
   "id": "8287ea72",
   "metadata": {},
   "outputs": [],
   "source": []
  }
 ],
 "metadata": {
  "kernelspec": {
   "display_name": "Python 3 (ipykernel)",
   "language": "python",
   "name": "python3"
  },
  "language_info": {
   "codemirror_mode": {
    "name": "ipython",
    "version": 3
   },
   "file_extension": ".py",
   "mimetype": "text/x-python",
   "name": "python",
   "nbconvert_exporter": "python",
   "pygments_lexer": "ipython3",
   "version": "3.9.12"
  }
 },
 "nbformat": 4,
 "nbformat_minor": 5
}
