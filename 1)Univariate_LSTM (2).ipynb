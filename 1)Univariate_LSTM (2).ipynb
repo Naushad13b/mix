{
 "cells": [
  {
   "cell_type": "code",
   "execution_count": 1,
   "id": "677a4253",
   "metadata": {},
   "outputs": [],
   "source": [
    "\n",
    "import pandas as pd\n",
    "import numpy as np\n",
    "import matplotlib.pyplot as plt"
   ]
  },
  {
   "cell_type": "code",
   "execution_count": 2,
   "id": "27de022b",
   "metadata": {},
   "outputs": [
    {
     "data": {
      "text/html": [
       "<div>\n",
       "<style scoped>\n",
       "    .dataframe tbody tr th:only-of-type {\n",
       "        vertical-align: middle;\n",
       "    }\n",
       "\n",
       "    .dataframe tbody tr th {\n",
       "        vertical-align: top;\n",
       "    }\n",
       "\n",
       "    .dataframe thead th {\n",
       "        text-align: right;\n",
       "    }\n",
       "</style>\n",
       "<table border=\"1\" class=\"dataframe\">\n",
       "  <thead>\n",
       "    <tr style=\"text-align: right;\">\n",
       "      <th></th>\n",
       "      <th>PM25</th>\n",
       "    </tr>\n",
       "    <tr>\n",
       "      <th>Date</th>\n",
       "      <th></th>\n",
       "    </tr>\n",
       "  </thead>\n",
       "  <tbody>\n",
       "    <tr>\n",
       "      <th>2019-04-02 18:00:00</th>\n",
       "      <td>70.52</td>\n",
       "    </tr>\n",
       "    <tr>\n",
       "      <th>2019-04-02 19:00:00</th>\n",
       "      <td>61.39</td>\n",
       "    </tr>\n",
       "    <tr>\n",
       "      <th>2019-04-02 20:00:00</th>\n",
       "      <td>59.94</td>\n",
       "    </tr>\n",
       "    <tr>\n",
       "      <th>2019-04-02 21:00:00</th>\n",
       "      <td>76.44</td>\n",
       "    </tr>\n",
       "    <tr>\n",
       "      <th>2019-04-02 22:00:00</th>\n",
       "      <td>98.54</td>\n",
       "    </tr>\n",
       "  </tbody>\n",
       "</table>\n",
       "</div>"
      ],
      "text/plain": [
       "                      PM25\n",
       "Date                      \n",
       "2019-04-02 18:00:00  70.52\n",
       "2019-04-02 19:00:00  61.39\n",
       "2019-04-02 20:00:00  59.94\n",
       "2019-04-02 21:00:00  76.44\n",
       "2019-04-02 22:00:00  98.54"
      ]
     },
     "execution_count": 2,
     "metadata": {},
     "output_type": "execute_result"
    }
   ],
   "source": [
    "# Import data using datetime and set index to datetime\n",
    "df = pd.read_csv(r'C:\\Users\\91783\\Desktop\\subham\\H_Ankl_1_2_19-3_12_22-_41_ (copy)_INDEX_Mean.csv',\n",
    "                                parse_dates=['Date'],\n",
    "                                index_col=['Date'])\n",
    "\n",
    "df.head()"
   ]
  },
  {
   "cell_type": "code",
   "execution_count": 3,
   "id": "ada67598",
   "metadata": {},
   "outputs": [],
   "source": [
    "#Mean - missed value first put None to NaN in dataset\n",
    "import numpy as np\n",
    "def change1(a):\n",
    "  df[a] = df[a].replace(np.NaN, df[a].mean())"
   ]
  },
  {
   "cell_type": "code",
   "execution_count": 4,
   "id": "a544466c",
   "metadata": {},
   "outputs": [
    {
     "ename": "KeyError",
     "evalue": "'PM2.5'",
     "output_type": "error",
     "traceback": [
      "\u001b[1;31m---------------------------------------------------------------------------\u001b[0m",
      "\u001b[1;31mKeyError\u001b[0m                                  Traceback (most recent call last)",
      "File \u001b[1;32m~\\anaconda3\\lib\\site-packages\\pandas\\core\\indexes\\base.py:3621\u001b[0m, in \u001b[0;36mIndex.get_loc\u001b[1;34m(self, key, method, tolerance)\u001b[0m\n\u001b[0;32m   3620\u001b[0m \u001b[38;5;28;01mtry\u001b[39;00m:\n\u001b[1;32m-> 3621\u001b[0m     \u001b[38;5;28;01mreturn\u001b[39;00m \u001b[38;5;28;43mself\u001b[39;49m\u001b[38;5;241;43m.\u001b[39;49m\u001b[43m_engine\u001b[49m\u001b[38;5;241;43m.\u001b[39;49m\u001b[43mget_loc\u001b[49m\u001b[43m(\u001b[49m\u001b[43mcasted_key\u001b[49m\u001b[43m)\u001b[49m\n\u001b[0;32m   3622\u001b[0m \u001b[38;5;28;01mexcept\u001b[39;00m \u001b[38;5;167;01mKeyError\u001b[39;00m \u001b[38;5;28;01mas\u001b[39;00m err:\n",
      "File \u001b[1;32m~\\anaconda3\\lib\\site-packages\\pandas\\_libs\\index.pyx:136\u001b[0m, in \u001b[0;36mpandas._libs.index.IndexEngine.get_loc\u001b[1;34m()\u001b[0m\n",
      "File \u001b[1;32m~\\anaconda3\\lib\\site-packages\\pandas\\_libs\\index.pyx:163\u001b[0m, in \u001b[0;36mpandas._libs.index.IndexEngine.get_loc\u001b[1;34m()\u001b[0m\n",
      "File \u001b[1;32mpandas\\_libs\\hashtable_class_helper.pxi:5198\u001b[0m, in \u001b[0;36mpandas._libs.hashtable.PyObjectHashTable.get_item\u001b[1;34m()\u001b[0m\n",
      "File \u001b[1;32mpandas\\_libs\\hashtable_class_helper.pxi:5206\u001b[0m, in \u001b[0;36mpandas._libs.hashtable.PyObjectHashTable.get_item\u001b[1;34m()\u001b[0m\n",
      "\u001b[1;31mKeyError\u001b[0m: 'PM2.5'",
      "\nThe above exception was the direct cause of the following exception:\n",
      "\u001b[1;31mKeyError\u001b[0m                                  Traceback (most recent call last)",
      "Input \u001b[1;32mIn [4]\u001b[0m, in \u001b[0;36m<cell line: 3>\u001b[1;34m()\u001b[0m\n\u001b[0;32m      2\u001b[0m l\u001b[38;5;241m=\u001b[39m[\u001b[38;5;124m\"\u001b[39m\u001b[38;5;124mPM2.5\u001b[39m\u001b[38;5;124m\"\u001b[39m]\n\u001b[0;32m      3\u001b[0m \u001b[38;5;28;01mfor\u001b[39;00m i \u001b[38;5;129;01min\u001b[39;00m l:\n\u001b[1;32m----> 4\u001b[0m   \u001b[43mchange1\u001b[49m\u001b[43m(\u001b[49m\u001b[43mi\u001b[49m\u001b[43m)\u001b[49m\n",
      "Input \u001b[1;32mIn [3]\u001b[0m, in \u001b[0;36mchange1\u001b[1;34m(a)\u001b[0m\n\u001b[0;32m      3\u001b[0m \u001b[38;5;28;01mdef\u001b[39;00m \u001b[38;5;21mchange1\u001b[39m(a):\n\u001b[1;32m----> 4\u001b[0m   df[a] \u001b[38;5;241m=\u001b[39m \u001b[43mdf\u001b[49m\u001b[43m[\u001b[49m\u001b[43ma\u001b[49m\u001b[43m]\u001b[49m\u001b[38;5;241m.\u001b[39mreplace(np\u001b[38;5;241m.\u001b[39mNaN, df[a]\u001b[38;5;241m.\u001b[39mmean())\n",
      "File \u001b[1;32m~\\anaconda3\\lib\\site-packages\\pandas\\core\\frame.py:3505\u001b[0m, in \u001b[0;36mDataFrame.__getitem__\u001b[1;34m(self, key)\u001b[0m\n\u001b[0;32m   3503\u001b[0m \u001b[38;5;28;01mif\u001b[39;00m \u001b[38;5;28mself\u001b[39m\u001b[38;5;241m.\u001b[39mcolumns\u001b[38;5;241m.\u001b[39mnlevels \u001b[38;5;241m>\u001b[39m \u001b[38;5;241m1\u001b[39m:\n\u001b[0;32m   3504\u001b[0m     \u001b[38;5;28;01mreturn\u001b[39;00m \u001b[38;5;28mself\u001b[39m\u001b[38;5;241m.\u001b[39m_getitem_multilevel(key)\n\u001b[1;32m-> 3505\u001b[0m indexer \u001b[38;5;241m=\u001b[39m \u001b[38;5;28;43mself\u001b[39;49m\u001b[38;5;241;43m.\u001b[39;49m\u001b[43mcolumns\u001b[49m\u001b[38;5;241;43m.\u001b[39;49m\u001b[43mget_loc\u001b[49m\u001b[43m(\u001b[49m\u001b[43mkey\u001b[49m\u001b[43m)\u001b[49m\n\u001b[0;32m   3506\u001b[0m \u001b[38;5;28;01mif\u001b[39;00m is_integer(indexer):\n\u001b[0;32m   3507\u001b[0m     indexer \u001b[38;5;241m=\u001b[39m [indexer]\n",
      "File \u001b[1;32m~\\anaconda3\\lib\\site-packages\\pandas\\core\\indexes\\base.py:3623\u001b[0m, in \u001b[0;36mIndex.get_loc\u001b[1;34m(self, key, method, tolerance)\u001b[0m\n\u001b[0;32m   3621\u001b[0m     \u001b[38;5;28;01mreturn\u001b[39;00m \u001b[38;5;28mself\u001b[39m\u001b[38;5;241m.\u001b[39m_engine\u001b[38;5;241m.\u001b[39mget_loc(casted_key)\n\u001b[0;32m   3622\u001b[0m \u001b[38;5;28;01mexcept\u001b[39;00m \u001b[38;5;167;01mKeyError\u001b[39;00m \u001b[38;5;28;01mas\u001b[39;00m err:\n\u001b[1;32m-> 3623\u001b[0m     \u001b[38;5;28;01mraise\u001b[39;00m \u001b[38;5;167;01mKeyError\u001b[39;00m(key) \u001b[38;5;28;01mfrom\u001b[39;00m \u001b[38;5;21;01merr\u001b[39;00m\n\u001b[0;32m   3624\u001b[0m \u001b[38;5;28;01mexcept\u001b[39;00m \u001b[38;5;167;01mTypeError\u001b[39;00m:\n\u001b[0;32m   3625\u001b[0m     \u001b[38;5;66;03m# If we have a listlike key, _check_indexing_error will raise\u001b[39;00m\n\u001b[0;32m   3626\u001b[0m     \u001b[38;5;66;03m#  InvalidIndexError. Otherwise we fall through and re-raise\u001b[39;00m\n\u001b[0;32m   3627\u001b[0m     \u001b[38;5;66;03m#  the TypeError.\u001b[39;00m\n\u001b[0;32m   3628\u001b[0m     \u001b[38;5;28mself\u001b[39m\u001b[38;5;241m.\u001b[39m_check_indexing_error(key)\n",
      "\u001b[1;31mKeyError\u001b[0m: 'PM2.5'"
     ]
    }
   ],
   "source": [
    "#PM2.5\tPM10\tNO2\tSO2\tCO\tOzone\tTemp\tRH\tWS\tWD\tSR\n",
    "#l=[\"PM2.5\"]\n",
    "#for i in l:\n",
    "#  change1(i)"
   ]
  },
  {
   "cell_type": "code",
   "execution_count": 6,
   "id": "3a5f6458",
   "metadata": {},
   "outputs": [
    {
     "data": {
      "text/html": [
       "<div>\n",
       "<style scoped>\n",
       "    .dataframe tbody tr th:only-of-type {\n",
       "        vertical-align: middle;\n",
       "    }\n",
       "\n",
       "    .dataframe tbody tr th {\n",
       "        vertical-align: top;\n",
       "    }\n",
       "\n",
       "    .dataframe thead th {\n",
       "        text-align: right;\n",
       "    }\n",
       "</style>\n",
       "<table border=\"1\" class=\"dataframe\">\n",
       "  <thead>\n",
       "    <tr style=\"text-align: right;\">\n",
       "      <th></th>\n",
       "      <th>PM25</th>\n",
       "    </tr>\n",
       "    <tr>\n",
       "      <th>Date</th>\n",
       "      <th></th>\n",
       "    </tr>\n",
       "  </thead>\n",
       "  <tbody>\n",
       "    <tr>\n",
       "      <th>2022-02-12 20:00:00</th>\n",
       "      <td>120.98</td>\n",
       "    </tr>\n",
       "    <tr>\n",
       "      <th>2022-02-12 21:00:00</th>\n",
       "      <td>115.37</td>\n",
       "    </tr>\n",
       "    <tr>\n",
       "      <th>2022-02-12 22:00:00</th>\n",
       "      <td>104.06</td>\n",
       "    </tr>\n",
       "    <tr>\n",
       "      <th>2022-02-12 23:00:00</th>\n",
       "      <td>110.59</td>\n",
       "    </tr>\n",
       "    <tr>\n",
       "      <th>2022-03-12 00:00:00</th>\n",
       "      <td>122.87</td>\n",
       "    </tr>\n",
       "  </tbody>\n",
       "</table>\n",
       "</div>"
      ],
      "text/plain": [
       "                       PM25\n",
       "Date                       \n",
       "2022-02-12 20:00:00  120.98\n",
       "2022-02-12 21:00:00  115.37\n",
       "2022-02-12 22:00:00  104.06\n",
       "2022-02-12 23:00:00  110.59\n",
       "2022-03-12 00:00:00  122.87"
      ]
     },
     "execution_count": 6,
     "metadata": {},
     "output_type": "execute_result"
    }
   ],
   "source": [
    "df.tail()"
   ]
  },
  {
   "cell_type": "code",
   "execution_count": 7,
   "id": "22ac3421",
   "metadata": {},
   "outputs": [
    {
     "name": "stdout",
     "output_type": "stream",
     "text": [
      "<class 'pandas.core.frame.DataFrame'>\n",
      "DatetimeIndex: 33535 entries, 2019-04-02 18:00:00 to 2022-03-12 00:00:00\n",
      "Data columns (total 1 columns):\n",
      " #   Column  Non-Null Count  Dtype  \n",
      "---  ------  --------------  -----  \n",
      " 0   PM25    33535 non-null  float64\n",
      "dtypes: float64(1)\n",
      "memory usage: 524.0 KB\n"
     ]
    }
   ],
   "source": [
    "df.info()"
   ]
  },
  {
   "cell_type": "code",
   "execution_count": 8,
   "id": "f702a66d",
   "metadata": {},
   "outputs": [
    {
     "data": {
      "text/plain": [
       "<AxesSubplot:>"
      ]
     },
     "execution_count": 8,
     "metadata": {},
     "output_type": "execute_result"
    },
    {
     "data": {
      "image/png": "[encoded data removed]",
      "text/plain": [
       "<Figure size 432x288 with 1 Axes>"
      ]
     },
     "metadata": {
      "needs_background": "light"
     },
     "output_type": "display_data"
    }
   ],
   "source": [
    "#Box plot\n",
    "#pd.options.display.mpl_style = False\n",
    "df.boxplot()"
   ]
  },
  {
   "cell_type": "code",
   "execution_count": 9,
   "id": "545723aa",
   "metadata": {},
   "outputs": [],
   "source": [
    "#Normalising data\n",
    "from sklearn.preprocessing import MinMaxScaler\n",
    "\n",
    "values = df.values\n",
    "scaler = MinMaxScaler(feature_range=(0, 1))\n",
    "scaled_dataset = scaler.fit_transform(values)"
   ]
  },
  {
   "cell_type": "code",
   "execution_count": 10,
   "id": "0461e4dd",
   "metadata": {},
   "outputs": [
    {
     "data": {
      "text/plain": [
       "array([[0.07166694],\n",
       "       [0.06232086]])"
      ]
     },
     "execution_count": 10,
     "metadata": {},
     "output_type": "execute_result"
    }
   ],
   "source": [
    "scaled_dataset[:2,:]"
   ]
  },
  {
   "cell_type": "code",
   "execution_count": 11,
   "id": "7ed5b0c7",
   "metadata": {},
   "outputs": [],
   "source": [
    "#Creating a window for previous data\n",
    "def to_supervised(train):\n",
    "    window_size = 4\n",
    "    X = []\n",
    "    Y = []\n",
    "    for i in range(window_size, len(train)):\n",
    "        X.append(train[i-window_size:i,:])\n",
    "        Y.append(train[i,0:1])\n",
    "    \n",
    "    return X,Y"
   ]
  },
  {
   "cell_type": "code",
   "execution_count": 12,
   "id": "e5e5dd8d",
   "metadata": {},
   "outputs": [
    {
     "name": "stdout",
     "output_type": "stream",
     "text": [
      "Y (33531, 1)\n",
      "X (33531, 4, 1)\n"
     ]
    }
   ],
   "source": [
    "X, Y = to_supervised(scaled_dataset)\n",
    "X = np.array(X)\n",
    "Y = np.array(Y)\n",
    "print('Y' ,Y.shape)\n",
    "print('X' ,X.shape)"
   ]
  },
  {
   "cell_type": "code",
   "execution_count": 13,
   "id": "cfab65e5",
   "metadata": {},
   "outputs": [
    {
     "name": "stdout",
     "output_type": "stream",
     "text": [
      "X_train (33441, 4, 1)\n",
      "X_test (90, 4, 1)\n",
      "Y_train (33441, 1)\n",
      "Y_test (90, 1)\n"
     ]
    }
   ],
   "source": [
    "#Splitting the dataset\n",
    "n_train = 3*30\n",
    "X_train, X_test = X[n_train:,] , X[:n_train,]\n",
    "print('X_train' ,X_train.shape)\n",
    "print('X_test' ,X_test.shape)\n",
    "\n",
    "Y_train, Y_test = Y[n_train:,] , Y[:n_train,]\n",
    "print('Y_train' ,Y_train.shape)\n",
    "print('Y_test' ,Y_test.shape)"
   ]
  },
  {
   "cell_type": "code",
   "execution_count": 14,
   "id": "682f0423",
   "metadata": {},
   "outputs": [],
   "source": [
    "#Importing LSTM model\n",
    "from keras.models import Sequential\n",
    "from keras.layers import Dense, Dropout,LSTM\n",
    "model = Sequential()\n",
    "\n",
    "model.add(LSTM(units = 50, return_sequences = True, input_shape=(X_train.shape[1], X_train.shape[2])))\n",
    "model.add(Dropout(0.2))\n",
    "\n",
    "model.add(LSTM(units = 50, return_sequences = True))\n",
    "model.add(Dropout(0.2))\n",
    "\n",
    "model.add(LSTM(units = 50))\n",
    "model.add(Dropout(0.2))\n",
    "\n",
    "model.add(Dense(units = 1))\n",
    "\n",
    "model.compile(optimizer = 'adam', loss = 'mean_squared_error')   "
   ]
  },
  {
   "cell_type": "code",
   "execution_count": 15,
   "id": "d2c1e9d0",
   "metadata": {},
   "outputs": [
    {
     "name": "stdout",
     "output_type": "stream",
     "text": [
      "Epoch 1/50\n",
      "4181/4181 - 25s - loss: 5.5265e-04 - val_loss: 2.5452e-04 - 25s/epoch - 6ms/step\n",
      "Epoch 2/50\n",
      "4181/4181 - 18s - loss: 3.4570e-04 - val_loss: 1.4457e-04 - 18s/epoch - 4ms/step\n",
      "Epoch 3/50\n",
      "4181/4181 - 19s - loss: 3.4185e-04 - val_loss: 1.0194e-04 - 19s/epoch - 5ms/step\n",
      "Epoch 4/50\n",
      "4181/4181 - 21s - loss: 3.2994e-04 - val_loss: 1.5114e-04 - 21s/epoch - 5ms/step\n",
      "Epoch 5/50\n",
      "4181/4181 - 18s - loss: 3.2554e-04 - val_loss: 1.3293e-04 - 18s/epoch - 4ms/step\n",
      "Epoch 6/50\n",
      "4181/4181 - 20s - loss: 3.2981e-04 - val_loss: 1.0267e-04 - 20s/epoch - 5ms/step\n",
      "Epoch 7/50\n",
      "4181/4181 - 19s - loss: 3.2674e-04 - val_loss: 9.6414e-05 - 19s/epoch - 5ms/step\n",
      "Epoch 8/50\n",
      "4181/4181 - 18s - loss: 3.2122e-04 - val_loss: 1.3059e-04 - 18s/epoch - 4ms/step\n",
      "Epoch 9/50\n",
      "4181/4181 - 19s - loss: 3.1542e-04 - val_loss: 1.2851e-04 - 19s/epoch - 5ms/step\n",
      "Epoch 10/50\n",
      "4181/4181 - 19s - loss: 3.1990e-04 - val_loss: 1.0920e-04 - 19s/epoch - 5ms/step\n",
      "Epoch 11/50\n",
      "4181/4181 - 18s - loss: 3.1382e-04 - val_loss: 1.2705e-04 - 18s/epoch - 4ms/step\n",
      "Epoch 12/50\n",
      "4181/4181 - 20s - loss: 3.1252e-04 - val_loss: 1.3120e-04 - 20s/epoch - 5ms/step\n",
      "Epoch 13/50\n",
      "4181/4181 - 18s - loss: 3.1526e-04 - val_loss: 1.0941e-04 - 18s/epoch - 4ms/step\n",
      "Epoch 14/50\n",
      "4181/4181 - 19s - loss: 3.0615e-04 - val_loss: 1.2552e-04 - 19s/epoch - 5ms/step\n",
      "Epoch 15/50\n",
      "4181/4181 - 19s - loss: 3.1066e-04 - val_loss: 1.1384e-04 - 19s/epoch - 5ms/step\n",
      "Epoch 16/50\n",
      "4181/4181 - 18s - loss: 3.0798e-04 - val_loss: 1.1354e-04 - 18s/epoch - 4ms/step\n",
      "Epoch 17/50\n",
      "4181/4181 - 19s - loss: 3.0679e-04 - val_loss: 1.1227e-04 - 19s/epoch - 4ms/step\n",
      "Epoch 18/50\n",
      "4181/4181 - 19s - loss: 3.1258e-04 - val_loss: 1.1951e-04 - 19s/epoch - 5ms/step\n",
      "Epoch 19/50\n",
      "4181/4181 - 19s - loss: 2.9233e-04 - val_loss: 1.2911e-04 - 19s/epoch - 5ms/step\n",
      "Epoch 20/50\n",
      "4181/4181 - 18s - loss: 3.0464e-04 - val_loss: 1.0534e-04 - 18s/epoch - 4ms/step\n",
      "Epoch 21/50\n",
      "4181/4181 - 19s - loss: 3.0182e-04 - val_loss: 1.2215e-04 - 19s/epoch - 4ms/step\n",
      "Epoch 22/50\n",
      "4181/4181 - 18s - loss: 2.9076e-04 - val_loss: 1.4057e-04 - 18s/epoch - 4ms/step\n",
      "Epoch 23/50\n",
      "4181/4181 - 18s - loss: 2.9889e-04 - val_loss: 1.1853e-04 - 18s/epoch - 4ms/step\n",
      "Epoch 24/50\n",
      "4181/4181 - 19s - loss: 2.9967e-04 - val_loss: 1.3140e-04 - 19s/epoch - 4ms/step\n",
      "Epoch 25/50\n",
      "4181/4181 - 18s - loss: 3.0017e-04 - val_loss: 1.1958e-04 - 18s/epoch - 4ms/step\n",
      "Epoch 26/50\n",
      "4181/4181 - 19s - loss: 3.0207e-04 - val_loss: 1.5322e-04 - 19s/epoch - 4ms/step\n",
      "Epoch 27/50\n",
      "4181/4181 - 19s - loss: 2.9709e-04 - val_loss: 1.3383e-04 - 19s/epoch - 5ms/step\n",
      "Epoch 28/50\n",
      "4181/4181 - 18s - loss: 2.9531e-04 - val_loss: 1.1069e-04 - 18s/epoch - 4ms/step\n",
      "Epoch 29/50\n",
      "4181/4181 - 19s - loss: 2.9581e-04 - val_loss: 1.3460e-04 - 19s/epoch - 4ms/step\n",
      "Epoch 30/50\n",
      "4181/4181 - 20s - loss: 2.8953e-04 - val_loss: 1.2331e-04 - 20s/epoch - 5ms/step\n",
      "Epoch 31/50\n",
      "4181/4181 - 19s - loss: 2.9377e-04 - val_loss: 1.4254e-04 - 19s/epoch - 5ms/step\n",
      "Epoch 32/50\n",
      "4181/4181 - 18s - loss: 2.7645e-04 - val_loss: 1.4222e-04 - 18s/epoch - 4ms/step\n",
      "Epoch 33/50\n",
      "4181/4181 - 19s - loss: 2.8683e-04 - val_loss: 1.4642e-04 - 19s/epoch - 5ms/step\n",
      "Epoch 34/50\n",
      "4181/4181 - 20s - loss: 2.7734e-04 - val_loss: 1.4146e-04 - 20s/epoch - 5ms/step\n",
      "Epoch 35/50\n",
      "4181/4181 - 19s - loss: 2.9555e-04 - val_loss: 1.4730e-04 - 19s/epoch - 5ms/step\n",
      "Epoch 36/50\n",
      "4181/4181 - 19s - loss: 2.8078e-04 - val_loss: 1.3605e-04 - 19s/epoch - 4ms/step\n",
      "Epoch 37/50\n",
      "4181/4181 - 19s - loss: 2.7574e-04 - val_loss: 1.5683e-04 - 19s/epoch - 4ms/step\n",
      "Epoch 38/50\n",
      "4181/4181 - 19s - loss: 2.8605e-04 - val_loss: 1.3581e-04 - 19s/epoch - 5ms/step\n",
      "Epoch 39/50\n",
      "4181/4181 - 18s - loss: 2.7726e-04 - val_loss: 1.3955e-04 - 18s/epoch - 4ms/step\n",
      "Epoch 40/50\n",
      "4181/4181 - 19s - loss: 2.7160e-04 - val_loss: 1.5429e-04 - 19s/epoch - 4ms/step\n",
      "Epoch 41/50\n",
      "4181/4181 - 19s - loss: 2.8091e-04 - val_loss: 1.6936e-04 - 19s/epoch - 5ms/step\n",
      "Epoch 42/50\n",
      "4181/4181 - 19s - loss: 2.8054e-04 - val_loss: 1.4987e-04 - 19s/epoch - 5ms/step\n",
      "Epoch 43/50\n",
      "4181/4181 - 20s - loss: 2.7484e-04 - val_loss: 1.7343e-04 - 20s/epoch - 5ms/step\n",
      "Epoch 44/50\n",
      "4181/4181 - 19s - loss: 2.7903e-04 - val_loss: 1.5656e-04 - 19s/epoch - 4ms/step\n",
      "Epoch 45/50\n",
      "4181/4181 - 18s - loss: 2.8471e-04 - val_loss: 1.3981e-04 - 18s/epoch - 4ms/step\n",
      "Epoch 46/50\n",
      "4181/4181 - 19s - loss: 2.7671e-04 - val_loss: 1.5422e-04 - 19s/epoch - 4ms/step\n",
      "Epoch 47/50\n",
      "4181/4181 - 19s - loss: 2.6930e-04 - val_loss: 1.5769e-04 - 19s/epoch - 5ms/step\n",
      "Epoch 48/50\n",
      "4181/4181 - 19s - loss: 2.6616e-04 - val_loss: 1.6321e-04 - 19s/epoch - 4ms/step\n",
      "Epoch 49/50\n",
      "4181/4181 - 18s - loss: 2.6678e-04 - val_loss: 1.4410e-04 - 18s/epoch - 4ms/step\n",
      "Epoch 50/50\n",
      "4181/4181 - 18s - loss: 2.6428e-04 - val_loss: 1.6723e-04 - 18s/epoch - 4ms/step\n"
     ]
    }
   ],
   "source": [
    "history = model.fit(X_train, Y_train, epochs=50,\n",
    "                    batch_size=8, validation_data=(X_test, Y_test),\n",
    "                    verbose=2, shuffle=False)"
   ]
  },
  {
   "cell_type": "code",
   "execution_count": 16,
   "id": "a4009bce",
   "metadata": {},
   "outputs": [
    {
     "name": "stdout",
     "output_type": "stream",
     "text": [
      "3/3 [==============================] - 12s 84ms/step\n",
      "0.00016722571531218406\n",
      "0.012931578222018535\n"
     ]
    }
   ],
   "source": [
    "#Taking predictions\n",
    "Y_pred = model.predict(X_test)\n",
    "\n",
    "from sklearn.metrics import mean_squared_error\n",
    "mse = mean_squared_error(Y_test, Y_pred)\n",
    "\n",
    "print(mse)\n",
    "rmse = np.sqrt(mse)\n",
    "print(rmse)"
   ]
  },
  {
   "cell_type": "code",
   "execution_count": 17,
   "id": "c8cbd2b9",
   "metadata": {},
   "outputs": [
    {
     "name": "stdout",
     "output_type": "stream",
     "text": [
      "MAPE 23.195929882585922\n"
     ]
    }
   ],
   "source": [
    "def mean_absolute_percentage_error(y_true, y_pred): \n",
    "    y_true, y_pred = np.array(y_true), np.array(y_pred)\n",
    "    return np.mean(np.abs((y_true - y_pred) / y_true)) * 100\n",
    "\n",
    "mape = mean_absolute_percentage_error(Y_test, Y_pred)\n",
    "print('MAPE', mape)"
   ]
  },
  {
   "cell_type": "code",
   "execution_count": 18,
   "id": "e258d8f1",
   "metadata": {},
   "outputs": [
    {
     "name": "stdout",
     "output_type": "stream",
     "text": [
      "MAPE 23.195929882585922\n"
     ]
    }
   ],
   "source": [
    "def mean_absolute_percentage_error(y_true, y_pred): \n",
    "    y_true, y_pred = np.array(y_true), np.array(y_pred)\n",
    "    return np.mean(np.abs((y_true - y_pred) / y_true)) * 100\n",
    "\n",
    "mape = mean_absolute_percentage_error(Y_test, Y_pred)\n",
    "print('MAPE', mape)"
   ]
  },
  {
   "cell_type": "code",
   "execution_count": 19,
   "id": "7ccfd78c",
   "metadata": {},
   "outputs": [
    {
     "name": "stdout",
     "output_type": "stream",
     "text": [
      "y_predicted (90, 1)\n",
      "X_test (90, 4, 1)\n",
      "scaled Values shape (33535, 1)\n"
     ]
    }
   ],
   "source": [
    "#Y_predicted = scaler.inverse_transform(Y_pred)\n",
    "print('y_predicted',Y_pred.shape)\n",
    "#print('X_train' ,X_train.shape)\n",
    "print('X_test' ,X_test.shape)\n",
    "print('scaled Values shape', scaled_dataset.shape)"
   ]
  },
  {
   "cell_type": "code",
   "execution_count": 20,
   "id": "166f93b5",
   "metadata": {},
   "outputs": [
    {
     "name": "stdout",
     "output_type": "stream",
     "text": [
      "dummy (271, 1)\n",
      "Y_pred (90, 1)\n",
      "concat y_pred (90, 1)\n",
      "concat Y_test (90, 1)\n"
     ]
    }
   ],
   "source": [
    "#Scaling back to the original scale\n",
    "d = scaled_dataset[:271,:]\n",
    "print('dummy',d.shape)\n",
    "print('Y_pred',Y_pred.shape)\n",
    "Y_predicted = np.concatenate((Y_pred,d[:90,1:]), axis =1)\n",
    "print('concat y_pred',Y_pred.shape)\n",
    "Y_tested = np.concatenate((Y_test, d[:90,1:]), axis = 1)\n",
    "print('concat Y_test', Y_test.shape)"
   ]
  },
  {
   "cell_type": "code",
   "execution_count": 21,
   "id": "95f92f43",
   "metadata": {},
   "outputs": [
    {
     "name": "stdout",
     "output_type": "stream",
     "text": [
      "Y_tested (90, 1)\n",
      "Y_predicted (90, 1)\n"
     ]
    }
   ],
   "source": [
    "#Take inverse transform\n",
    "Y_predicted = scaler.inverse_transform(Y_predicted)\n",
    "Y_tested = scaler.inverse_transform(Y_tested)\n",
    "Y_predicted = Y_predicted[:,0:1]\n",
    "Y_tested = Y_tested[:,0:1]\n",
    "print('Y_tested', Y_tested.shape)\n",
    "print('Y_predicted', Y_predicted.shape)"
   ]
  },
  {
   "cell_type": "code",
   "execution_count": 22,
   "id": "0e88b467",
   "metadata": {},
   "outputs": [
    {
     "name": "stdout",
     "output_type": "stream",
     "text": [
      "159.58258613354764\n",
      "12.632600133525466\n"
     ]
    }
   ],
   "source": [
    "#Calculate error\n",
    "from sklearn.metrics import mean_squared_error\n",
    "mse = mean_squared_error(Y_tested, Y_predicted)\n",
    "print(mse)\n",
    "rmse = np.sqrt(mse)\n",
    "print(rmse)"
   ]
  },
  {
   "cell_type": "code",
   "execution_count": 23,
   "id": "68df149a",
   "metadata": {},
   "outputs": [
    {
     "data": {
      "image/png": "[encoded data removed]",
      "text/plain": [
       "<Figure size 432x288 with 1 Axes>"
      ]
     },
     "metadata": {
      "needs_background": "light"
     },
     "output_type": "display_data"
    }
   ],
   "source": [
    "#Plot the graph between actual vs predicted values\n",
    "plt.plot(Y_predicted[:100,:], color= 'green')\n",
    "plt.plot(Y_tested[:100,:] , color = 'red')\n",
    "plt.title(\"Air Pollution Prediction (Univariate)\")\n",
    "plt.xlabel(\"Date\")\n",
    "plt.ylabel(\"Pollution level\")\n",
    "plt.show()\n",
    " "
   ]
  },
  {
   "cell_type": "code",
   "execution_count": 24,
   "id": "44b607ab",
   "metadata": {},
   "outputs": [
    {
     "name": "stdout",
     "output_type": "stream",
     "text": [
      "MAPE 22.846631329862337\n"
     ]
    }
   ],
   "source": [
    "def mean_absolute_percentage_error(y_true, y_pred): \n",
    "    y_true, y_pred = np.array(y_true), np.array(y_pred)\n",
    "    return np.mean(np.abs((y_true - y_pred) / y_true)) * 100\n",
    "\n",
    "mape = mean_absolute_percentage_error(Y_tested, Y_predicted)\n",
    "print('MAPE', mape)"
   ]
  },
  {
   "cell_type": "code",
   "execution_count": 25,
   "id": "d0042f1a",
   "metadata": {},
   "outputs": [
    {
     "name": "stdout",
     "output_type": "stream",
     "text": [
      "RMSE 12.632600133525466\n",
      "Mean of Test data  71.81955555555555\n"
     ]
    }
   ],
   "source": [
    "from sklearn.metrics import mean_squared_error\n",
    "mse = mean_squared_error(Y_tested, Y_predicted)\n",
    "#print('Mean squared error', mse)\n",
    "print('RMSE' , np.sqrt(mse))\n",
    "print(\"Mean of Test data \", np.mean(Y_tested))"
   ]
  },
  {
   "cell_type": "code",
   "execution_count": 26,
   "id": "777e116d",
   "metadata": {},
   "outputs": [
    {
     "data": {
      "text/plain": [
       "array([<AxesSubplot:xlabel='Date'>], dtype=object)"
      ]
     },
     "execution_count": 26,
     "metadata": {},
     "output_type": "execute_result"
    },
    {
     "data": {
      "image/png": "[encoded data removed]",
      "text/plain": [
       "<Figure size 432x288 with 1 Axes>"
      ]
     },
     "metadata": {
      "needs_background": "light"
     },
     "output_type": "display_data"
    }
   ],
   "source": [
    "# A simple plot to visualize the correlation between the columns\n",
    "df.plot(subplots=True)\n",
    "#df.plot(subplots=True,figsize=(15,13));"
   ]
  },
  {
   "cell_type": "code",
   "execution_count": 27,
   "id": "7fa75e0c",
   "metadata": {},
   "outputs": [
    {
     "data": {
      "image/png": "[encoded data removed]",
      "text/plain": [
       "<Figure size 432x288 with 1 Axes>"
      ]
     },
     "metadata": {
      "needs_background": "light"
     },
     "output_type": "display_data"
    }
   ],
   "source": [
    "# plot history\n",
    "plt.plot(history.history['loss'], label='train')\n",
    "plt.plot(history.history['val_loss'], label='test')\n",
    "plt.legend()\n",
    "plt.show()\n",
    " "
   ]
  },
  {
   "cell_type": "code",
   "execution_count": null,
   "id": "8287ea72",
   "metadata": {},
   "outputs": [],
   "source": []
  }
 ],
 "metadata": {
  "kernelspec": {
   "display_name": "Python 3 (ipykernel)",
   "language": "python",
   "name": "python3"
  },
  "language_info": {
   "codemirror_mode": {
    "name": "ipython",
    "version": 3
   },
   "file_extension": ".py",
   "mimetype": "text/x-python",
   "name": "python",
   "nbconvert_exporter": "python",
   "pygments_lexer": "ipython3",
   "version": "3.9.12"
  }
 },
 "nbformat": 4,
 "nbformat_minor": 5
}
